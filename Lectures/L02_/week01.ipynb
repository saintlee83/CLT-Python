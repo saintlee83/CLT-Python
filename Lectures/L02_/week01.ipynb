{
 "cells": [
  {
   "cell_type": "markdown",
   "id": "9cda1d51",
   "metadata": {},
   "source": [
    "# Python Environment / Conda"
   ]
  },
  {
   "cell_type": "markdown",
   "id": "0dd66add",
   "metadata": {},
   "source": [
    "conda 사용법"
   ]
  },
  {
   "cell_type": "markdown",
   "id": "e08ce2b1",
   "metadata": {},
   "source": []
  }
 ],
 "metadata": {
  "language_info": {
   "name": "python"
  }
 },
 "nbformat": 4,
 "nbformat_minor": 5
}
