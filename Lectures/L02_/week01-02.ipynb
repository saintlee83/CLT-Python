{
 "cells": [
  {
   "cell_type": "markdown",
   "id": "9cda1d51",
   "metadata": {},
   "source": [
    "# Python Environment / Conda"
   ]
  },
  {
   "cell_type": "markdown",
   "id": "ea2a4db5",
   "metadata": {},
   "source": [
    "# Python baisc syntax"
   ]
  },
  {
   "cell_type": "markdown",
   "id": "5fab1f6f",
   "metadata": {},
   "source": []
  }
 ],
 "metadata": {
  "language_info": {
   "name": "python"
  }
 },
 "nbformat": 4,
 "nbformat_minor": 5
}
