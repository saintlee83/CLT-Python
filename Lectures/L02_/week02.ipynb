{
 "cells": [
  {
   "cell_type": "markdown",
   "id": "cb3d2dda",
   "metadata": {},
   "source": [
    "# Control Structure\n",
    "## if/elif/else statement"
   ]
  },
  {
   "cell_type": "markdown",
   "id": "4acdac33",
   "metadata": {},
   "source": [
    "## bool: Boolean Type"
   ]
  },
  {
   "cell_type": "markdown",
   "id": "fc82d00e",
   "metadata": {},
   "source": [
    "## Relational Operators"
   ]
  },
  {
   "cell_type": "markdown",
   "id": "92492ae3",
   "metadata": {},
   "source": [
    "## Boolean Operators"
   ]
  },
  {
   "cell_type": "markdown",
   "id": "fcffcaf8",
   "metadata": {},
   "source": [
    "## if, elif, else"
   ]
  },
  {
   "cell_type": "markdown",
   "id": "23a1d85b",
   "metadata": {},
   "source": []
  }
 ],
 "metadata": {
  "kernelspec": {
   "display_name": "clt-python (3.13.7)",
   "language": "python",
   "name": "python3"
  },
  "language_info": {
   "name": "python",
   "version": "3.13.7"
  }
 },
 "nbformat": 4,
 "nbformat_minor": 5
}
