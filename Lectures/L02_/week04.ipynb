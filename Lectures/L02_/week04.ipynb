{
 "cells": [
  {
   "cell_type": "markdown",
   "id": "da2ea81e",
   "metadata": {},
   "source": []
  },
  {
   "cell_type": "markdown",
   "id": "1ddef777",
   "metadata": {},
   "source": [
    "# Control Flow and Control Structure\n",
    "\n",
    "## Abstraction을 통한 고급 이해\n",
    "\n",
    "Abstraction(추상화)은 복잡한 세부 사항을 감추고, 핵심 개념과 구조만을 드러내어 시스템의 복잡성을 효과적으로 관리하는 프로그래밍의 근본 원칙\n",
    "\n",
    "추상화는 소프트웨어 설계에서 모듈화, 계층화, 인터페이스 설계 등 다양한 영역에서 활용되며, 복잡한 시스템을 단순화하고 유지보수성을 높인다.\n",
    "\n",
    "Control Flow(제어 흐름)와 Control Structure(제어 구조)는 프로그램의 실행 경로와 논리적 구조를 추상화하여, 코드의 실행 순서와 동작을 체계적으로 설계하고 관리할 수 있게 해줌\n",
    "\n",
    "이들은 고수준 언어의 핵심적인 특징으로, 복잡한 알고리즘과 로직을 명확하게 표현할 수 있도록 지원함\n",
    "\n",
    "1. **Control Flow (제어 흐름)**\n",
    "\n",
    "   - 프로그램이 실행되는 경로, 즉 명령문들이 실행되는 순서와 조건을 결정하는 메커니즘이다.\n",
    "   - 분기(branching), 반복(looping), 예외 처리(exception handling) 등 다양한 패턴을 통해 복잡한 논리와 조건을 효과적으로 구현할 수 있다.\n",
    "   - 고급 프로그래밍에서는 비동기 처리, 상태 머신, 재귀적 흐름 제어 등 다양한 추상화 기법과 결합되어 사용된다.\n",
    "\n",
    "2. **Control Structure (제어 구조)**\n",
    "\n",
    "   - Control Flow를 구체적으로 구현하는 언어의 문법적 도구(명령문, 구문, 키워드 등)를 의미한다.\n",
    "   - 조건문(if, elif, else), 반복문(for, while), 예외 처리문(try, except, finally) 등 다양한 구조가 존재하며, 이들을 조합하여 복잡한 실행 경로를 설계할 수 있다.\n",
    "   - \"만약 A 조건이면 B 작업을 수행하고, 그렇지 않으면 C 작업을 수행한다\"와 같은 고차원적 논리를 코드로 명확하게 표현할 수 있다.\n",
    "   - 함수형 프로그래밍, 객체지향 프로그래밍 등 다양한 패러다임에서 제어 구조의 활용 방식이 달라질 수 있으며, 추상화 수준에 따라 사용자 정의 제어 구조(예: context manager, generator, decorator 등)도 설계할 수 있다.\n"
   ]
  },
  {
   "cell_type": "markdown",
   "id": "04c16f84",
   "metadata": {},
   "source": [
    "## Control Flow의 개념\n",
    "\n"
   ]
  },
  {
   "cell_type": "code",
   "execution_count": null,
   "id": "52fa258c",
   "metadata": {},
   "outputs": [],
   "source": []
  },
  {
   "cell_type": "markdown",
   "id": "e5f27702",
   "metadata": {},
   "source": [
    "# Random\n"
   ]
  }
 ],
 "metadata": {
  "language_info": {
   "name": "python"
  }
 },
 "nbformat": 4,
 "nbformat_minor": 5
}
