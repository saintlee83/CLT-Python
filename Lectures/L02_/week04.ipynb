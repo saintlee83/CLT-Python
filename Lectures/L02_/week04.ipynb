{
 "cells": [
  {
   "cell_type": "markdown",
   "id": "e5f27702",
   "metadata": {},
   "source": [
    "# Random"
   ]
  },
  {
   "cell_type": "markdown",
   "id": "da2ea81e",
   "metadata": {},
   "source": []
  }
 ],
 "metadata": {
  "language_info": {
   "name": "python"
  }
 },
 "nbformat": 4,
 "nbformat_minor": 5
}
