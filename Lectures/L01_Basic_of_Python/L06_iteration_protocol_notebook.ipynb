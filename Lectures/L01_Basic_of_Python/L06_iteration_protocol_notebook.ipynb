{
 "cells": [
  {
   "cell_type": "markdown",
   "metadata": {},
   "source": [
    "# Class 6: Iteration Protocol & Loop Structure\n",
    "\n",
    "## 📌 학습 목표\n",
    "1. Iterable과 Iterator의 차이를 설명할 수 있다\n",
    "2. Custom Iterator를 구현할 수 있다\n",
    "3. Generator를 만들고 활용할 수 있다\n",
    "4. Comprehension 문법을 능숙하게 사용할 수 있다\n",
    "\n",
    "---"
   ]
  },
  {
   "cell_type": "markdown",
   "metadata": {},
   "source": [
    "## 🕐 1. Iteration Protocol\n",
    "\n",
    "### 1.1 Iterable vs Iterator\n",
    "\n",
    "#### 🔑 핵심 개념\n",
    "- **Iterable**: `__iter__()` 메서드를 가진 객체 (반복 가능한 객체)\n",
    "- **Iterator**: `__iter__()`와 `__next__()` 메서드를 모두 가진 객체 (반복자)"
   ]
  },
  {
   "cell_type": "code",
   "execution_count": null,
   "metadata": {},
   "outputs": [],
   "source": [
    "# Iterable 예제: list, tuple, string, dict, set\n",
    "my_list = [1, 2, 3, 4, 5]\n",
    "my_string = \"Hello\"\n",
    "\n",
    "# Iterable은 __iter__() 메서드를 가지고 있음\n",
    "print(\"list는 Iterable인가?\", hasattr(my_list, '__iter__'))\n",
    "print(\"string은 Iterable인가?\", hasattr(my_string, '__iter__'))\n",
    "\n",
    "# Iterator 얻기\n",
    "list_iterator = iter(my_list)  # __iter__() 호출과 동일\n",
    "print(\"\\nIterator:\", list_iterator)\n",
    "print(\"Iterator는 __next__를 가지고 있는가?\", hasattr(list_iterator, '__next__'))"
   ]
  },
  {
   "cell_type": "markdown",
   "metadata": {},
   "source": [
    "#### 💡 Iterable과 Iterator의 차이\n",
    "\n",
    "| 구분 | Iterable | Iterator |\n",
    "|------|----------|----------|\n",
    "| 정의 | 반복 가능한 객체 | 실제로 반복을 수행하는 객체 |\n",
    "| 필수 메서드 | `__iter__()` | `__iter__()`, `__next__()` |\n",
    "| 재사용 | 가능 (새로운 Iterator 생성) | 불가능 (한 번 소진됨) |\n",
    "| 예시 | list, tuple, string, dict | iter(list), file object |"
   ]
  },
  {
   "cell_type": "code",
   "execution_count": null,
   "metadata": {},
   "outputs": [],
   "source": [
    "# Iterator의 동작 원리\n",
    "numbers = [1, 2, 3]\n",
    "iterator = iter(numbers)\n",
    "\n",
    "# __next__()로 요소 하나씩 가져오기\n",
    "print(next(iterator))  # 1\n",
    "print(next(iterator))  # 2\n",
    "print(next(iterator))  # 3\n",
    "\n",
    "# 더 이상 요소가 없으면 StopIteration 발생\n",
    "try:\n",
    "    print(next(iterator))\n",
    "except StopIteration:\n",
    "    print(\"\\nStopIteration 예외 발생! 더 이상 요소가 없습니다.\")"
   ]
  },
  {
   "cell_type": "markdown",
   "metadata": {},
   "source": [
    "## 1.2 for 문의 내부 동작\n",
    "\n",
    "### for 문이 실제로 하는 일:"
   ]
  },
  {
   "cell_type": "code",
   "execution_count": null,
   "metadata": {},
   "outputs": [],
   "source": [
    "# for 문 (우리가 사용하는 방식)\n",
    "for item in [1, 2, 3]:\n",
    "    print(item)\n",
    "\n",
    "print(\"\\n--- 위의 for 문은 내부적으로 아래와 같이 동작합니다 ---\\n\")\n",
    "\n",
    "# for 문의 내부 동작 (수동 구현)\n",
    "iterable = [1, 2, 3]\n",
    "iterator = iter(iterable)  # 1. __iter__() 호출하여 Iterator 얻기\n",
    "\n",
    "while True:\n",
    "    try:\n",
    "        item = next(iterator)  # 2. __next__() 호출하여 다음 요소 얻기\n",
    "        print(item)\n",
    "    except StopIteration:     # 3. StopIteration 발생 시 루프 종료\n",
    "        break"
   ]
  },
  {
   "cell_type": "markdown",
   "metadata": {},
   "source": [
    "## 1.3 Custom Iterator 구현\n",
    "\n",
    "### 예제 1: 기본 Iterator 클래스"
   ]
  },
  {
   "cell_type": "code",
   "execution_count": null,
   "metadata": {},
   "outputs": [],
   "source": [
    "class MyRange:\n",
    "    \"\"\"range()와 유사한 Custom Iterator\"\"\"\n",
    "    \n",
    "    def __init__(self, end):\n",
    "        self.current = 0\n",
    "        self.end = end\n",
    "    \n",
    "    def __iter__(self):\n",
    "        \"\"\"Iterator 자신을 반환\"\"\"\n",
    "        return self\n",
    "    \n",
    "    def __next__(self):\n",
    "        \"\"\"다음 값을 반환하거나 StopIteration 발생\"\"\"\n",
    "        if self.current >= self.end:\n",
    "            raise StopIteration\n",
    "        \n",
    "        value = self.current\n",
    "        self.current += 1\n",
    "        return value\n",
    "\n",
    "# 사용 예제\n",
    "print(\"MyRange(5) 사용:\")\n",
    "for i in MyRange(5):\n",
    "    print(i, end=' ')  # 0 1 2 3 4"
   ]
  },
  {
   "cell_type": "markdown",
   "metadata": {},
   "source": [
    "### 예제 2: Countdown Iterator"
   ]
  },
  {
   "cell_type": "code",
   "execution_count": null,
   "metadata": {},
   "outputs": [],
   "source": [
    "class Countdown:\n",
    "    \"\"\"숫자를 거꾸로 세는 Iterator\"\"\"\n",
    "    \n",
    "    def __init__(self, start):\n",
    "        self.current = start\n",
    "    \n",
    "    def __iter__(self):\n",
    "        return self\n",
    "    \n",
    "    def __next__(self):\n",
    "        if self.current < 0:\n",
    "            raise StopIteration\n",
    "        \n",
    "        value = self.current\n",
    "        self.current -= 1\n",
    "        return value\n",
    "\n",
    "# 사용 예제\n",
    "print(\"\\n\\n카운트다운:\")\n",
    "for num in Countdown(5):\n",
    "    print(num, end=' ')  # 5 4 3 2 1 0\n",
    "print(\"발사! 🚀\")"
   ]
  },
  {
   "cell_type": "markdown",
   "metadata": {},
   "source": [
    "### 예제 3: 재사용 가능한 Iterable (Iterable과 Iterator 분리)"
   ]
  },
  {
   "cell_type": "code",
   "execution_count": null,
   "metadata": {},
   "outputs": [],
   "source": [
    "class MyRangeIterable:\n",
    "    \"\"\"재사용 가능한 Iterable (Iterable과 Iterator 분리)\"\"\"\n",
    "    \n",
    "    def __init__(self, end):\n",
    "        self.end = end\n",
    "    \n",
    "    def __iter__(self):\n",
    "        \"\"\"새로운 Iterator 객체를 매번 생성하여 반환\"\"\"\n",
    "        return MyRangeIterator(self.end)\n",
    "\n",
    "class MyRangeIterator:\n",
    "    \"\"\"실제 반복을 수행하는 Iterator\"\"\"\n",
    "    \n",
    "    def __init__(self, end):\n",
    "        self.current = 0\n",
    "        self.end = end\n",
    "    \n",
    "    def __iter__(self):\n",
    "        return self\n",
    "    \n",
    "    def __next__(self):\n",
    "        if self.current >= self.end:\n",
    "            raise StopIteration\n",
    "        value = self.current\n",
    "        self.current += 1\n",
    "        return value\n",
    "\n",
    "# 재사용 가능!\n",
    "my_range = MyRangeIterable(3)\n",
    "\n",
    "print(\"\\n\\n첫 번째 반복:\")\n",
    "for i in my_range:\n",
    "    print(i, end=' ')\n",
    "\n",
    "print(\"\\n두 번째 반복 (재사용 가능!):\")\n",
    "for i in my_range:\n",
    "    print(i, end=' ')"
   ]
  },
  {
   "cell_type": "markdown",
   "metadata": {},
   "source": [
    "#### 🎯 실습 문제 1\n",
    "\n",
    "**과제**: 짝수만 반환하는 Custom Iterator `EvenNumbers`를 구현하세요.\n",
    "- 시작값과 끝값을 받아서\n",
    "- 그 범위 내의 짝수만 반환"
   ]
  },
  {
   "cell_type": "code",
   "execution_count": null,
   "metadata": {},
   "outputs": [],
   "source": [
    "# TODO: EvenNumbers 클래스 구현\n",
    "class EvenNumbers:\n",
    "    def __init__(self, start, end):\n",
    "        # 여기에 코드 작성\n",
    "        pass\n",
    "    \n",
    "    def __iter__(self):\n",
    "        # 여기에 코드 작성\n",
    "        pass\n",
    "    \n",
    "    def __next__(self):\n",
    "        # 여기에 코드 작성\n",
    "        pass\n",
    "\n",
    "# 테스트\n",
    "# for num in EvenNumbers(1, 10):\n",
    "#     print(num, end=' ')  # 출력: 2 4 6 8 10"
   ]
  },
  {
   "cell_type": "markdown",
   "metadata": {},
   "source": [
    "---\n",
    "\n",
    "## 🕑 2. Loop 구조\n",
    "\n",
    "### 2.1 for 문 심화"
   ]
  },
  {
   "cell_type": "code",
   "execution_count": null,
   "metadata": {},
   "outputs": [],
   "source": [
    "# 기본 for 문\n",
    "fruits = ['apple', 'banana', 'cherry']\n",
    "\n",
    "for fruit in fruits:\n",
    "    print(fruit)\n",
    "\n",
    "# dict에서 for 문 사용\n",
    "person = {'name': 'Alice', 'age': 30, 'city': 'Seoul'}\n",
    "\n",
    "print(\"\\nKeys:\")\n",
    "for key in person:\n",
    "    print(key)\n",
    "\n",
    "print(\"\\nValues:\")\n",
    "for value in person.values():\n",
    "    print(value)\n",
    "\n",
    "print(\"\\nKey-Value pairs:\")\n",
    "for key, value in person.items():\n",
    "    print(f\"{key}: {value}\")"
   ]
  },
  {
   "cell_type": "markdown",
   "metadata": {},
   "source": [
    "### 2.2 enumerate 활용"
   ]
  },
  {
   "cell_type": "code",
   "execution_count": null,
   "metadata": {},
   "outputs": [],
   "source": [
    "# enumerate: 인덱스와 값을 동시에\n",
    "colors = ['red', 'green', 'blue']\n",
    "\n",
    "# 기본 사용\n",
    "for index, color in enumerate(colors):\n",
    "    print(f\"Index {index}: {color}\")\n",
    "\n",
    "# 시작 인덱스 지정\n",
    "print(\"\\n1부터 시작:\")\n",
    "for index, color in enumerate(colors, start=1):\n",
    "    print(f\"{index}. {color}\")\n",
    "\n",
    "# enumerate 객체는 Iterator\n",
    "print(\"\\nenumerate 객체:\", enumerate(colors))\n",
    "print(\"list로 변환:\", list(enumerate(colors)))"
   ]
  },
  {
   "cell_type": "markdown",
   "metadata": {},
   "source": [
    "### 2.3 zip 활용"
   ]
  },
  {
   "cell_type": "code",
   "execution_count": null,
   "metadata": {},
   "outputs": [],
   "source": [
    "# zip: 여러 iterable을 동시에 순회\n",
    "names = ['Alice', 'Bob', 'Charlie']\n",
    "ages = [25, 30, 35]\n",
    "cities = ['Seoul', 'Busan', 'Daegu']\n",
    "\n",
    "# 기본 사용\n",
    "for name, age, city in zip(names, ages, cities):\n",
    "    print(f\"{name} ({age}세) - {city}\")\n",
    "\n",
    "# 길이가 다른 경우: 가장 짧은 것에 맞춤\n",
    "print(\"\\n길이가 다른 경우:\")\n",
    "list1 = [1, 2, 3, 4, 5]\n",
    "list2 = ['a', 'b', 'c']\n",
    "\n",
    "for num, char in zip(list1, list2):\n",
    "    print(f\"{num} - {char}\")\n",
    "\n",
    "# zip으로 dict 만들기\n",
    "keys = ['name', 'age', 'city']\n",
    "values = ['David', 28, 'Incheon']\n",
    "person_dict = dict(zip(keys, values))\n",
    "print(\"\\nzip으로 만든 dict:\", person_dict)"
   ]
  },
  {
   "cell_type": "markdown",
   "metadata": {},
   "source": [
    "### 2.4 while 문"
   ]
  },
  {
   "cell_type": "code",
   "execution_count": null,
   "metadata": {},
   "outputs": [],
   "source": [
    "# 기본 while 문\n",
    "count = 0\n",
    "while count < 5:\n",
    "    print(f\"Count: {count}\")\n",
    "    count += 1\n",
    "\n",
    "# 무한 루프 (조건부 탈출)\n",
    "print(\"\\n사용자 입력 받기 (숫자만):\")\n",
    "# while True:\n",
    "#     user_input = input(\"숫자를 입력하세요 (종료: 'q'): \")\n",
    "#     if user_input == 'q':\n",
    "#         break\n",
    "#     if user_input.isdigit():\n",
    "#         print(f\"입력한 숫자: {user_input}\")\n",
    "#     else:\n",
    "#         print(\"숫자를 입력해주세요!\")\n",
    "\n",
    "print(\"위 코드는 주석 처리되어 있습니다.\")"
   ]
  },
  {
   "cell_type": "markdown",
   "metadata": {},
   "source": [
    "### 2.5 break, continue, else"
   ]
  },
  {
   "cell_type": "code",
   "execution_count": null,
   "metadata": {},
   "outputs": [],
   "source": [
    "# break: 루프 즉시 종료\n",
    "print(\"break 예제:\")\n",
    "for i in range(10):\n",
    "    if i == 5:\n",
    "        break\n",
    "    print(i, end=' ')  # 0 1 2 3 4\n",
    "\n",
    "# continue: 현재 반복을 건너뛰고 다음 반복으로\n",
    "print(\"\\n\\ncontinue 예제 (홀수만):\")\n",
    "for i in range(10):\n",
    "    if i % 2 == 0:\n",
    "        continue\n",
    "    print(i, end=' ')  # 1 3 5 7 9\n",
    "\n",
    "# for...else: break 없이 정상 종료되면 실행\n",
    "print(\"\\n\\nfor...else 예제 1 (break 발생):\")\n",
    "for i in range(5):\n",
    "    if i == 3:\n",
    "        print(\"3을 발견! break\")\n",
    "        break\n",
    "else:\n",
    "    print(\"루프가 정상 종료되었습니다\")\n",
    "\n",
    "print(\"\\nfor...else 예제 2 (정상 종료):\")\n",
    "for i in range(5):\n",
    "    print(i, end=' ')\n",
    "else:\n",
    "    print(\"\\n루프가 정상 종료되었습니다\")"
   ]
  },
  {
   "cell_type": "markdown",
   "metadata": {},
   "source": [
    "#### 💡 for...else의 실용적 사용 예"
   ]
  },
  {
   "cell_type": "code",
   "execution_count": null,
   "metadata": {},
   "outputs": [],
   "source": [
    "# 소수(prime number) 판별\n",
    "def is_prime(n):\n",
    "    if n < 2:\n",
    "        return False\n",
    "    \n",
    "    for i in range(2, int(n**0.5) + 1):\n",
    "        if n % i == 0:\n",
    "            return False\n",
    "    else:\n",
    "        return True  # break 없이 정상 종료 → 소수!\n",
    "\n",
    "# 테스트\n",
    "test_numbers = [2, 3, 4, 17, 20, 29]\n",
    "for num in test_numbers:\n",
    "    print(f\"{num}은(는) {'소수' if is_prime(num) else '소수 아님'}\")"
   ]
  },
  {
   "cell_type": "markdown",
   "metadata": {},
   "source": [
    "### 2.6 Nested Loop (중첩 반복문)"
   ]
  },
  {
   "cell_type": "code",
   "execution_count": null,
   "metadata": {},
   "outputs": [],
   "source": [
    "# 구구단 출력\n",
    "print(\"구구단:\")\n",
    "for i in range(2, 6):\n",
    "    print(f\"\\n{i}단:\")\n",
    "    for j in range(1, 6):\n",
    "        print(f\"{i} x {j} = {i*j}\")\n",
    "\n",
    "# 패턴 출력\n",
    "print(\"\\n\\n별 패턴:\")\n",
    "for i in range(1, 6):\n",
    "    for j in range(i):\n",
    "        print('*', end='')\n",
    "    print()  # 줄바꿈"
   ]
  },
  {
   "cell_type": "markdown",
   "metadata": {},
   "source": [
    "#### 🎯 실습 문제 2\n",
    "\n",
    "**과제**: 리스트에서 특정 값의 모든 인덱스를 찾는 함수를 작성하세요.\n",
    "- enumerate 사용\n",
    "- 찾지 못하면 빈 리스트 반환"
   ]
  },
  {
   "cell_type": "code",
   "execution_count": null,
   "metadata": {},
   "outputs": [],
   "source": [
    "def find_all_indices(lst, target):\n",
    "    \"\"\"리스트에서 target 값의 모든 인덱스를 반환\"\"\"\n",
    "    # TODO: 여기에 코드 작성\n",
    "    pass\n",
    "\n",
    "# 테스트\n",
    "# numbers = [1, 2, 3, 2, 4, 2, 5]\n",
    "# print(find_all_indices(numbers, 2))  # [1, 3, 5]\n",
    "# print(find_all_indices(numbers, 10))  # []"
   ]
  },
  {
   "cell_type": "markdown",
   "metadata": {},
   "source": [
    "---\n",
    "\n",
    "## 🕒 3. Generator & Comprehension\n",
    "\n",
    "### 3.1 Generator Function (yield)"
   ]
  },
  {
   "cell_type": "code",
   "execution_count": null,
   "metadata": {},
   "outputs": [],
   "source": [
    "# 기본 Generator 함수\n",
    "def simple_generator():\n",
    "    print(\"첫 번째 yield 전\")\n",
    "    yield 1\n",
    "    print(\"두 번째 yield 전\")\n",
    "    yield 2\n",
    "    print(\"세 번째 yield 전\")\n",
    "    yield 3\n",
    "    print(\"Generator 종료\")\n",
    "\n",
    "# Generator 객체 생성\n",
    "gen = simple_generator()\n",
    "print(\"Generator 객체:\", gen)\n",
    "print(\"타입:\", type(gen))\n",
    "\n",
    "# 하나씩 값 가져오기\n",
    "print(\"\\n--- next() 호출 ---\")\n",
    "print(next(gen))\n",
    "print(next(gen))\n",
    "print(next(gen))\n",
    "# print(next(gen))  # StopIteration 발생"
   ]
  },
  {
   "cell_type": "code",
   "execution_count": null,
   "metadata": {},
   "outputs": [],
   "source": [
    "# for 문으로 Generator 사용\n",
    "print(\"\\nfor 문으로 사용:\")\n",
    "for value in simple_generator():\n",
    "    print(f\"받은 값: {value}\")"
   ]
  },
  {
   "cell_type": "markdown",
   "metadata": {},
   "source": [
    "### Generator의 장점: 메모리 효율성"
   ]
  },
  {
   "cell_type": "code",
   "execution_count": null,
   "metadata": {},
   "outputs": [],
   "source": [
    "import sys\n",
    "\n",
    "# List 방식 (모든 값을 메모리에 저장)\n",
    "def list_squares(n):\n",
    "    result = []\n",
    "    for i in range(n):\n",
    "        result.append(i ** 2)\n",
    "    return result\n",
    "\n",
    "# Generator 방식 (필요할 때마다 값 생성)\n",
    "def generator_squares(n):\n",
    "    for i in range(n):\n",
    "        yield i ** 2\n",
    "\n",
    "# 메모리 사용량 비교\n",
    "n = 10000\n",
    "list_result = list_squares(n)\n",
    "gen_result = generator_squares(n)\n",
    "\n",
    "print(f\"List 크기: {sys.getsizeof(list_result):,} bytes\")\n",
    "print(f\"Generator 크기: {sys.getsizeof(gen_result):,} bytes\")\n",
    "print(f\"\\n메모리 절약: {sys.getsizeof(list_result) / sys.getsizeof(gen_result):.1f}배\")"
   ]
  },
  {
   "cell_type": "markdown",
   "metadata": {},
   "source": [
    "### 실용적인 Generator 예제"
   ]
  },
  {
   "cell_type": "code",
   "execution_count": null,
   "metadata": {},
   "outputs": [],
   "source": [
    "# 피보나치 수열 Generator\n",
    "def fibonacci(limit):\n",
    "    \"\"\"limit까지의 피보나치 수열 생성\"\"\"\n",
    "    a, b = 0, 1\n",
    "    while a < limit:\n",
    "        yield a\n",
    "        a, b = b, a + b\n",
    "\n",
    "print(\"피보나치 수열 (100 이하):\")\n",
    "for num in fibonacci(100):\n",
    "    print(num, end=' ')\n",
    "\n",
    "# 무한 Generator\n",
    "def infinite_counter(start=0):\n",
    "    \"\"\"무한히 숫자를 생성\"\"\"\n",
    "    num = start\n",
    "    while True:\n",
    "        yield num\n",
    "        num += 1\n",
    "\n",
    "print(\"\\n\\n무한 카운터 (처음 5개):\")\n",
    "counter = infinite_counter()\n",
    "for _ in range(5):\n",
    "    print(next(counter), end=' ')"
   ]
  },
  {
   "cell_type": "markdown",
   "metadata": {},
   "source": [
    "## 3.2 Generator Expression"
   ]
  },
  {
   "cell_type": "code",
   "execution_count": null,
   "metadata": {},
   "outputs": [],
   "source": [
    "# List vs Generator Expression\n",
    "# List Comprehension: 대괄호 []\n",
    "list_comp = [x**2 for x in range(10)]\n",
    "print(\"List Comprehension:\", list_comp)\n",
    "print(\"타입:\", type(list_comp))\n",
    "\n",
    "# Generator Expression: 소괄호 ()\n",
    "gen_exp = (x**2 for x in range(10))\n",
    "print(\"\\nGenerator Expression:\", gen_exp)\n",
    "print(\"타입:\", type(gen_exp))\n",
    "\n",
    "# Generator Expression 사용\n",
    "print(\"\\nGenerator 값들:\")\n",
    "for value in gen_exp:\n",
    "    print(value, end=' ')"
   ]
  },
  {
   "cell_type": "code",
   "execution_count": null,
   "metadata": {},
   "outputs": [],
   "source": [
    "# Generator Expression의 활용\n",
    "# 합계 계산 (메모리 효율적)\n",
    "total = sum(x**2 for x in range(1000000))  # 리스트 생성 안 함!\n",
    "print(f\"\\n합계: {total:,}\")\n",
    "\n",
    "# any/all과 함께 사용\n",
    "numbers = [1, 2, 3, 4, 5]\n",
    "has_even = any(x % 2 == 0 for x in numbers)\n",
    "all_positive = all(x > 0 for x in numbers)\n",
    "\n",
    "print(f\"짝수 존재? {has_even}\")\n",
    "print(f\"모두 양수? {all_positive}\")"
   ]
  },
  {
   "cell_type": "markdown",
   "metadata": {},
   "source": [
    "## 3.3 Comprehension (리스트/딕셔너리/세트)\n",
    "\n",
    "### List Comprehension"
   ]
  },
  {
   "cell_type": "code",
   "execution_count": null,
   "metadata": {},
   "outputs": [],
   "source": [
    "# 기본 구조: [표현식 for 항목 in iterable]\n",
    "squares = [x**2 for x in range(10)]\n",
    "print(\"제곱수:\", squares)\n",
    "\n",
    "# 조건문 포함: [표현식 for 항목 in iterable if 조건]\n",
    "even_squares = [x**2 for x in range(10) if x % 2 == 0]\n",
    "print(\"짝수의 제곱:\", even_squares)\n",
    "\n",
    "# 복잡한 표현식\n",
    "words = ['hello', 'world', 'python']\n",
    "uppercase_words = [word.upper() for word in words]\n",
    "print(\"대문자 변환:\", uppercase_words)\n",
    "\n",
    "# if-else 포함: [참_표현식 if 조건 else 거짓_표현식 for 항목 in iterable]\n",
    "labels = ['Even' if x % 2 == 0 else 'Odd' for x in range(10)]\n",
    "print(\"홀짝 레이블:\", labels)"
   ]
  },
  {
   "cell_type": "markdown",
   "metadata": {},
   "source": [
    "### Nested List Comprehension"
   ]
  },
  {
   "cell_type": "code",
   "execution_count": null,
   "metadata": {},
   "outputs": [],
   "source": [
    "# 2차원 리스트 생성\n",
    "matrix = [[i*j for j in range(1, 4)] for i in range(1, 4)]\n",
    "print(\"행렬:\")\n",
    "for row in matrix:\n",
    "    print(row)\n",
    "\n",
    "# 2차원 리스트 평탄화 (flatten)\n",
    "matrix = [[1, 2, 3], [4, 5, 6], [7, 8, 9]]\n",
    "flattened = [num for row in matrix for num in row]\n",
    "print(\"\\n평탄화:\", flattened)\n",
    "\n",
    "# 조합 생성\n",
    "colors = ['red', 'blue']\n",
    "sizes = ['S', 'M', 'L']\n",
    "combinations = [(color, size) for color in colors for size in sizes]\n",
    "print(\"\\n조합:\", combinations)"
   ]
  },
  {
   "cell_type": "markdown",
   "metadata": {},
   "source": [
    "### Dictionary Comprehension"
   ]
  },
  {
   "cell_type": "code",
   "execution_count": null,
   "metadata": {},
   "outputs": [],
   "source": [
    "# 기본 구조: {키_표현식: 값_표현식 for 항목 in iterable}\n",
    "squares_dict = {x: x**2 for x in range(5)}\n",
    "print(\"제곱수 dict:\", squares_dict)\n",
    "\n",
    "# 조건문 포함\n",
    "even_squares_dict = {x: x**2 for x in range(10) if x % 2 == 0}\n",
    "print(\"짝수 제곱 dict:\", even_squares_dict)\n",
    "\n",
    "# 두 리스트로 dict 만들기\n",
    "keys = ['name', 'age', 'city']\n",
    "values = ['Alice', 30, 'Seoul']\n",
    "person = {k: v for k, v in zip(keys, values)}\n",
    "print(\"\\nperson dict:\", person)\n",
    "\n",
    "# dict 키-값 교환\n",
    "original = {'a': 1, 'b': 2, 'c': 3}\n",
    "swapped = {v: k for k, v in original.items()}\n",
    "print(\"\\n원본:\", original)\n",
    "print(\"교환:\", swapped)"
   ]
  },
  {
   "cell_type": "markdown",
   "metadata": {},
   "source": [
    "### Set Comprehension"
   ]
  },
  {
   "cell_type": "code",
   "execution_count": null,
   "metadata": {},
   "outputs": [],
   "source": [
    "# 기본 구조: {표현식 for 항목 in iterable}\n",
    "squares_set = {x**2 for x in range(-5, 6)}\n",
    "print(\"제곱수 set (중복 제거):\", squares_set)\n",
    "\n",
    "# 문자열에서 고유 문자\n",
    "text = \"hello world\"\n",
    "unique_chars = {char for char in text if char != ' '}\n",
    "print(\"\\n고유 문자:\", unique_chars)\n",
    "\n",
    "# 조건부 set\n",
    "numbers = [1, 2, 2, 3, 4, 4, 5, 6, 6]\n",
    "even_unique = {x for x in numbers if x % 2 == 0}\n",
    "print(\"\\n짝수 고유값:\", even_unique)"
   ]
  },
  {
   "cell_type": "markdown",
   "metadata": {},
   "source": [
    "## 3.4 Lazy Evaluation\n",
    "\n",
    "### Generator의 지연 평가 (Lazy Evaluation)"
   ]
  },
  {
   "cell_type": "code",
   "execution_count": null,
   "metadata": {},
   "outputs": [],
   "source": [
    "# List: 즉시 평가 (Eager Evaluation)\n",
    "print(\"List 생성 (즉시 평가):\")\n",
    "list_result = [print(f\"계산 중: {x}\") or x**2 for x in range(5)]\n",
    "print(\"List 생성 완료\")\n",
    "print(\"List:\", list_result)\n",
    "\n",
    "print(\"\\n\" + \"=\"*50 + \"\\n\")\n",
    "\n",
    "# Generator: 지연 평가 (Lazy Evaluation)\n",
    "print(\"Generator 생성 (지연 평가):\")\n",
    "gen_result = (print(f\"계산 중: {x}\") or x**2 for x in range(5))\n",
    "print(\"Generator 생성 완료 (아직 계산 안 됨!)\")\n",
    "\n",
    "print(\"\\n이제 값을 요청할 때 계산됨:\")\n",
    "for value in gen_result:\n",
    "    print(f\"받은 값: {value}\\n\")"
   ]
  },
  {
   "cell_type": "markdown",
   "metadata": {},
   "source": [
    "### Lazy Evaluation의 실용적 활용"
   ]
  },
  {
   "cell_type": "code",
   "execution_count": null,
   "metadata": {},
   "outputs": [],
   "source": [
    "# 대용량 파일 처리 시뮬레이션\n",
    "def read_large_file(filename):\n",
    "    \"\"\"파일을 한 줄씩 읽는 Generator\"\"\"\n",
    "    # 실제로는 파일에서 읽지만, 여기서는 시뮬레이션\n",
    "    for i in range(1000000):  # 100만 줄\n",
    "        yield f\"Line {i}: Some data here\"\n",
    "\n",
    "# Generator로 필요한 것만 처리\n",
    "print(\"처음 5줄만 읽기:\")\n",
    "for i, line in enumerate(read_large_file('dummy.txt')):\n",
    "    if i >= 5:\n",
    "        break\n",
    "    print(line)\n",
    "\n",
    "print(\"\\n나머지는 읽지 않음 → 메모리 효율적!\")"
   ]
  },
  {
   "cell_type": "markdown",
   "metadata": {},
   "source": [
    "#### 🎯 실습 문제 3\n",
    "\n",
    "**과제**: 다음 요구사항을 만족하는 코드를 작성하세요.\n",
    "\n",
    "1. 1부터 100까지의 숫자 중:\n",
    "   - 3의 배수는 \"Fizz\"\n",
    "   - 5의 배수는 \"Buzz\"\n",
    "   - 3과 5의 공배수는 \"FizzBuzz\"\n",
    "   - 나머지는 숫자 그대로\n",
    "\n",
    "2. List Comprehension으로 구현\n",
    "3. Generator로 구현"
   ]
  },
  {
   "cell_type": "code",
   "execution_count": null,
   "metadata": {},
   "outputs": [],
   "source": [
    "# TODO: List Comprehension으로 FizzBuzz\n",
    "fizzbuzz_list = []  # 여기에 코드 작성\n",
    "\n",
    "# print(fizzbuzz_list[:20])  # 처음 20개 출력\n",
    "\n",
    "# TODO: Generator로 FizzBuzz\n",
    "def fizzbuzz_generator(n):\n",
    "    # 여기에 코드 작성\n",
    "    pass\n",
    "\n",
    "# for i, value in enumerate(fizzbuzz_generator(100)):\n",
    "#     if i >= 20:\n",
    "#         break\n",
    "#     print(value, end=' ')"
   ]
  },
  {
   "cell_type": "markdown",
   "metadata": {},
   "source": [
    "---\n",
    "\n",
    "# 📊 종합 실습\n",
    "\n",
    "## 실습 1: 학생 성적 처리 시스템"
   ]
  },
  {
   "cell_type": "code",
   "execution_count": null,
   "metadata": {},
   "outputs": [],
   "source": [
    "# 학생 데이터\n",
    "students = [\n",
    "    {'name': 'Alice', 'scores': [85, 92, 88]},\n",
    "    {'name': 'Bob', 'scores': [79, 85, 90]},\n",
    "    {'name': 'Charlie', 'scores': [92, 88, 95]},\n",
    "    {'name': 'David', 'scores': [78, 82, 80]},\n",
    "]\n",
    "\n",
    "# TODO: 다음을 Comprehension으로 구현하세요\n",
    "\n",
    "# 1. 각 학생의 평균 점수 dict (이름: 평균)\n",
    "# averages = {}\n",
    "\n",
    "# 2. 평균이 85 이상인 학생 이름 리스트\n",
    "# high_performers = []\n",
    "\n",
    "# 3. 모든 학생의 모든 점수를 하나의 리스트로\n",
    "# all_scores = []\n",
    "\n",
    "# 결과 출력\n",
    "# print(\"평균 점수:\", averages)\n",
    "# print(\"우수 학생:\", high_performers)\n",
    "# print(\"모든 점수:\", all_scores)"
   ]
  },
  {
   "cell_type": "markdown",
   "metadata": {},
   "source": [
    "## 실습 2: 소수 생성기"
   ]
  },
  {
   "cell_type": "code",
   "execution_count": null,
   "metadata": {},
   "outputs": [],
   "source": [
    "# TODO: n 이하의 모든 소수를 생성하는 Generator를 만드세요\n",
    "def prime_generator(n):\n",
    "    \"\"\"n 이하의 모든 소수를 생성\"\"\"\n",
    "    # 여기에 코드 작성\n",
    "    pass\n",
    "\n",
    "# 테스트\n",
    "# print(\"100 이하의 소수:\")\n",
    "# for prime in prime_generator(100):\n",
    "#     print(prime, end=' ')"
   ]
  },
  {
   "cell_type": "markdown",
   "metadata": {},
   "source": [
    "## 실습 3: 파일 데이터 처리 (시뮬레이션)"
   ]
  },
  {
   "cell_type": "code",
   "execution_count": null,
   "metadata": {},
   "outputs": [],
   "source": [
    "# 로그 파일 시뮬레이션\n",
    "def generate_log_lines():\n",
    "    \"\"\"가상의 로그 라인 생성\"\"\"\n",
    "    import random\n",
    "    levels = ['INFO', 'WARNING', 'ERROR', 'DEBUG']\n",
    "    \n",
    "    for i in range(100):\n",
    "        level = random.choice(levels)\n",
    "        yield f\"2024-01-{i%30+1:02d} {level}: Message {i}\"\n",
    "\n",
    "# TODO: ERROR 로그만 필터링하는 Generator 만들기\n",
    "def filter_errors(log_generator):\n",
    "    # 여기에 코드 작성\n",
    "    pass\n",
    "\n",
    "# 테스트\n",
    "# logs = generate_log_lines()\n",
    "# error_logs = filter_errors(logs)\n",
    "# \n",
    "# print(\"ERROR 로그 (처음 5개):\")\n",
    "# for i, log in enumerate(error_logs):\n",
    "#     if i >= 5:\n",
    "#         break\n",
    "#     print(log)"
   ]
  },
  {
   "cell_type": "markdown",
   "metadata": {},
   "source": [
    "---\n",
    "\n",
    "# 🎯 체크리스트\n",
    "\n",
    "이번 강의를 통해 다음을 할 수 있나요?\n",
    "\n",
    "- [ ] `__iter__()`와 `__next__()` 메서드의 역할을 설명할 수 있다\n",
    "- [ ] Iterable과 Iterator의 차이를 명확히 구분할 수 있다\n",
    "- [ ] Custom Iterator 클래스를 구현할 수 있다\n",
    "- [ ] `enumerate()`와 `zip()`을 활용할 수 있다\n",
    "- [ ] `for...else` 구문의 동작을 이해하고 활용할 수 있다\n",
    "- [ ] Generator 함수를 만들고 `yield`를 사용할 수 있다\n",
    "- [ ] List/Dict/Set Comprehension을 능숙하게 작성할 수 있다\n",
    "- [ ] Generator Expression을 이해하고 사용할 수 있다\n",
    "- [ ] Lazy Evaluation의 개념과 장점을 설명할 수 있다\n",
    "- [ ] 메모리 효율성을 고려하여 Generator를 활용할 수 있다\n",
    "\n",
    "---\n",
    "\n",
    "# 💡 핵심 요약\n",
    "\n",
    "## Iteration Protocol\n",
    "- **Iterable**: `__iter__()` 메서드를 가진 객체\n",
    "- **Iterator**: `__iter__()`와 `__next__()` 메서드를 가진 객체\n",
    "- for 문은 내부적으로 Iterator Protocol을 사용\n",
    "\n",
    "## Generator\n",
    "- `yield` 키워드로 값을 하나씩 생성\n",
    "- 메모리 효율적 (Lazy Evaluation)\n",
    "- 한 번만 순회 가능\n",
    "\n",
    "## Comprehension\n",
    "- **List**: `[표현식 for 항목 in iterable]`\n",
    "- **Dict**: `{키: 값 for 항목 in iterable}`\n",
    "- **Set**: `{표현식 for 항목 in iterable}`\n",
    "- **Generator**: `(표현식 for 항목 in iterable)`\n",
    "\n",
    "## 선택 기준\n",
    "- **List**: 여러 번 사용, 전체 데이터 필요\n",
    "- **Generator**: 한 번만 사용, 대용량 데이터, 메모리 효율\n",
    "\n",
    "---\n",
    "\n",
    "# 📚 추가 학습 자료\n",
    "\n",
    "- Loop Structure: https://dsaint31.tistory.com/573\n",
    "- Iterable and Iterator: https://dsaint31.tistory.com/501\n",
    "- List Comprehension: https://dsaint31.tistory.com/500\n",
    "- range and enumerate: https://dsaint31.tistory.com/502\n",
    "\n",
    "---\n",
    "\n",
    "# 🤔 토론 주제\n",
    "\n",
    "1. **Generator vs List**: 어떤 상황에서 Generator를 사용하고, 어떤 상황에서 List를 사용해야 할까요?\n",
    "\n",
    "2. **Comprehension의 가독성**: Comprehension이 항상 가독성이 좋은 것일까요? 일반 for 문을 사용하는 것이 나은 경우는?\n",
    "\n",
    "3. **for...else의 유용성**: `for...else` 구문이 실제로 유용한 사용 사례는 무엇일까요?\n",
    "\n",
    "---\n",
    "\n",
    "## 수고하셨습니다! 🎉"
   ]
  }
 ],
 "metadata": {
  "kernelspec": {
   "display_name": "Python 3.13",
   "language": "python",
   "name": "python3"
  },
  "language_info": {
   "codemirror_mode": {
    "name": "ipython",
    "version": 3
   },
   "file_extension": ".py",
   "mimetype": "text/x-python",
   "name": "python",
   "nbconvert_exporter": "python",
   "pygments_lexer": "ipython3",
   "version": "3.13.0"
  }
 },
 "nbformat": 4,
 "nbformat_minor": 4
}
