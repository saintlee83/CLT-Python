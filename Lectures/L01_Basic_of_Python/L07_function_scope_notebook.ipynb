{
 "cells": [
  {
   "cell_type": "markdown",
   "metadata": {},
   "source": [
    "# Class 7: Function & Scope 구조\n",
    "\n",
    "## 📌 학습 목표\n",
    "1. Function의 일급 객체 특성을 설명할 수 있다\n",
    "2. 모든 종류의 Parameter를 올바르게 사용할 수 있다\n",
    "3. Function Call의 내부 동작을 이해한다\n",
    "4. Local/Global Scope를 구분할 수 있다\n",
    "\n",
    "---"
   ]
  },
  {
   "cell_type": "markdown",
   "metadata": {},
   "source": [
    "## 🕐 1. Function 기초\n",
    "\n",
    "### 1.1 Function Definition (def)\n",
    "\n",
    "#### 🔑 Function의 기본 구조"
   ]
  },
  {
   "cell_type": "code",
   "execution_count": null,
   "metadata": {},
   "source": [
    "# 기본 함수 정의\n",
    "def greet(name):\n",
    "    \"\"\"이름을 받아서 인사말을 반환하는 함수\"\"\"\n",
    "    return f\"Hello, {name}!\"\n",
    "\n",
    "# 함수 호출\n",
    "result = greet(\"Alice\")\n",
    "print(result)\n",
    "\n",
    "# 함수 정보 확인\n",
    "print(\"\\n함수 이름:\", greet.__name__)\n",
    "print(\"함수 문서:\", greet.__doc__)\n",
    "print(\"함수 타입:\", type(greet))"
   ],
   "outputs": []
  },
  {
   "cell_type": "code",
   "execution_count": null,
   "metadata": {},
   "source": [
    "# 여러 형태의 함수\n",
    "\n",
    "# 1. 매개변수 없는 함수\n",
    "def say_hello():\n",
    "    return \"Hello, World!\"\n",
    "\n",
    "# 2. 반환값 없는 함수 (None 반환)\n",
    "def print_message(msg):\n",
    "    print(msg)\n",
    "    # return이 없으면 None을 반환\n",
    "\n",
    "# 3. 여러 값 반환 (튜플로 반환)\n",
    "def get_stats(numbers):\n",
    "    return min(numbers), max(numbers), sum(numbers)\n",
    "\n",
    "# 테스트\n",
    "print(say_hello())\n",
    "result = print_message(\"Test\")\n",
    "print(\"print_message 반환값:\", result)\n",
    "\n",
    "min_val, max_val, total = get_stats([1, 2, 3, 4, 5])\n",
    "print(f\"\\nMin: {min_val}, Max: {max_val}, Sum: {total}\")"
   ],
   "outputs": []
  },
  {
   "cell_type": "markdown",
   "metadata": {},
   "source": [
    "### 1.2 First-class Function (일급 객체)\n",
    "\n",
    "#### 💡 Python의 함수는 일급 객체입니다\n",
    "\n",
    "일급 객체의 조건:\n",
    "1. 변수에 할당 가능\n",
    "2. 함수의 인자로 전달 가능\n",
    "3. 함수의 반환값으로 사용 가능\n",
    "4. 자료구조에 저장 가능"
   ]
  },
  {
   "cell_type": "code",
   "execution_count": null,
   "metadata": {},
   "source": [
    "# 1. 변수에 할당\n",
    "def greet(name):\n",
    "    return f\"Hello, {name}!\"\n",
    "\n",
    "say_hello = greet  # 함수를 변수에 할당\n",
    "print(say_hello(\"Bob\"))  # 변수로 함수 호출\n",
    "\n",
    "# 2. 함수의 인자로 전달\n",
    "def apply_function(func, value):\n",
    "    \"\"\"함수를 받아서 실행\"\"\"\n",
    "    return func(value)\n",
    "\n",
    "result = apply_function(greet, \"Charlie\")\n",
    "print(result)\n",
    "\n",
    "# 3. 함수의 반환값으로 사용\n",
    "def get_greeting_function():\n",
    "    \"\"\"함수를 반환하는 함수\"\"\"\n",
    "    def korean_greet(name):\n",
    "        return f\"안녕하세요, {name}님!\"\n",
    "    return korean_greet\n",
    "\n",
    "korean_hello = get_greeting_function()\n",
    "print(korean_hello(\"김철수\"))\n",
    "\n",
    "# 4. 자료구조에 저장\n",
    "operations = {\n",
    "    'add': lambda x, y: x + y,\n",
    "    'sub': lambda x, y: x - y,\n",
    "    'mul': lambda x, y: x * y\n",
    "}\n",
    "\n",
    "print(\"\\n연산 결과:\")\n",
    "print(\"3 + 5 =\", operations['add'](3, 5))\n",
    "print(\"10 - 4 =\", operations['sub'](10, 4))"
   ],
   "outputs": []
  },
  {
   "cell_type": "markdown",
   "metadata": {},
   "source": [
    "### 1.3 Function Call 메커니즘\n",
    "\n",
    "#### Python에서 함수가 호출될 때 일어나는 일"
   ]
  },
  {
   "cell_type": "code",
   "execution_count": null,
   "metadata": {},
   "source": [
    "def show_call_mechanism(x):\n",
    "    print(f\"1. 함수가 호출되었습니다\")\n",
    "    print(f\"2. Parameter x에 인자값이 바인딩: x = {x}\")\n",
    "    print(f\"3. x의 id (메모리 주소): {id(x)}\")\n",
    "    \n",
    "    x = x + 10\n",
    "    print(f\"4. x를 수정: x = {x}\")\n",
    "    print(f\"5. 수정된 x의 id: {id(x)}\")\n",
    "    \n",
    "    return x\n",
    "\n",
    "# 호출\n",
    "value = 5\n",
    "print(f\"호출 전 value: {value}, id: {id(value)}\")\n",
    "print(\"\\n=== 함수 호출 ===\")\n",
    "result = show_call_mechanism(value)\n",
    "print(\"\\n=== 함수 종료 ===\")\n",
    "print(f\"호출 후 value: {value}, id: {id(value)}\")\n",
    "print(f\"반환값 result: {result}\")"
   ],
   "outputs": []
  },
  {
   "cell_type": "markdown",
   "metadata": {},
   "source": [
    "#### 💡 Call by Object Reference\n",
    "\n",
    "Python은 **Call by Object Reference** 방식을 사용합니다:\n",
    "- 객체의 참조(reference)를 전달\n",
    "- **불변 객체(immutable)**: int, str, tuple → 재할당 시 새 객체 생성\n",
    "- **가변 객체(mutable)**: list, dict, set → 내부 수정 가능"
   ]
  },
  {
   "cell_type": "code",
   "execution_count": null,
   "metadata": {},
   "source": [
    "# 불변 객체 (Immutable)\n",
    "def modify_immutable(x):\n",
    "    print(f\"함수 내 x (전): {x}, id: {id(x)}\")\n",
    "    x = x + 10  # 새로운 객체 생성!\n",
    "    print(f\"함수 내 x (후): {x}, id: {id(x)}\")\n",
    "    return x\n",
    "\n",
    "num = 5\n",
    "print(f\"원본 num: {num}, id: {id(num)}\")\n",
    "result = modify_immutable(num)\n",
    "print(f\"호출 후 num: {num} (변경 안 됨!)\")\n",
    "print(f\"반환값: {result}\\n\")\n",
    "\n",
    "# 가변 객체 (Mutable)\n",
    "def modify_mutable(lst):\n",
    "    print(f\"함수 내 lst (전): {lst}, id: {id(lst)}\")\n",
    "    lst.append(4)  # 같은 객체 수정!\n",
    "    print(f\"함수 내 lst (후): {lst}, id: {id(lst)}\")\n",
    "\n",
    "my_list = [1, 2, 3]\n",
    "print(f\"원본 my_list: {my_list}, id: {id(my_list)}\")\n",
    "modify_mutable(my_list)\n",
    "print(f\"호출 후 my_list: {my_list} (변경됨!)\")"
   ],
   "outputs": []
  },
  {
   "cell_type": "markdown",
   "metadata": {},
   "source": [
    "### 1.4 Return Value의 특성"
   ]
  },
  {
   "cell_type": "code",
   "execution_count": null,
   "metadata": {},
   "source": [
    "# return 없으면 None 반환\n",
    "def no_return():\n",
    "    x = 10\n",
    "\n",
    "result = no_return()\n",
    "print(\"return 없는 함수:\", result)\n",
    "\n",
    "# 조건부 return\n",
    "def check_even(n):\n",
    "    if n % 2 == 0:\n",
    "        return True\n",
    "    # else 없이 종료되면 None 반환\n",
    "\n",
    "print(\"\\n짝수 체크:\")\n",
    "print(\"4:\", check_even(4))\n",
    "print(\"5:\", check_even(5))\n",
    "\n",
    "# 여러 return문\n",
    "def get_grade(score):\n",
    "    if score >= 90:\n",
    "        return 'A'\n",
    "    elif score >= 80:\n",
    "        return 'B'\n",
    "    elif score >= 70:\n",
    "        return 'C'\n",
    "    else:\n",
    "        return 'F'\n",
    "\n",
    "print(\"\\n학점:\", get_grade(85))\n",
    "\n",
    "# 여러 값 반환 (tuple unpacking)\n",
    "def divide_and_remainder(a, b):\n",
    "    quotient = a // b\n",
    "    remainder = a % b\n",
    "    return quotient, remainder  # 튜플로 반환\n",
    "\n",
    "q, r = divide_and_remainder(17, 5)\n",
    "print(f\"\\n17 ÷ 5 = {q} ... {r}\")"
   ],
   "outputs": []
  },
  {
   "cell_type": "markdown",
   "metadata": {},
   "source": [
    "#### 🎯 실습 문제 1\n",
    "\n",
    "**과제**: 리스트를 받아서 통계 정보를 반환하는 함수를 작성하세요.\n",
    "- 함수명: `get_statistics`\n",
    "- 반환값: (평균, 중앙값, 최댓값, 최솟값) 튜플\n",
    "- 빈 리스트는 처리하지 않아도 됨"
   ]
  },
  {
   "cell_type": "code",
   "execution_count": null,
   "metadata": {},
   "source": [
    "def get_statistics(numbers):\n",
    "    \"\"\"리스트의 통계 정보를 반환\"\"\"\n",
    "    # TODO: 여기에 코드 작성\n",
    "    pass\n",
    "\n",
    "# 테스트\n",
    "# data = [10, 20, 30, 40, 50]\n",
    "# avg, median, max_val, min_val = get_statistics(data)\n",
    "# print(f\"평균: {avg}, 중앙값: {median}, 최댓값: {max_val}, 최솟값: {min_val}\")"
   ],
   "outputs": []
  },
  {
   "cell_type": "markdown",
   "metadata": {},
   "source": [
    "---\n",
    "\n",
    "## 🕑 2. Parameter 종류\n",
    "\n",
    "### 2.1 Positional Parameter & Keyword Parameter"
   ]
  },
  {
   "cell_type": "code",
   "execution_count": null,
   "metadata": {},
   "source": [
    "def introduce(name, age, city):\n",
    "    return f\"{name}({age}세)는 {city}에 살고 있습니다.\"\n",
    "\n",
    "# Positional Arguments (위치 인자)\n",
    "print(\"Positional:\", introduce(\"Alice\", 25, \"Seoul\"))\n",
    "\n",
    "# Keyword Arguments (키워드 인자)\n",
    "print(\"Keyword:\", introduce(age=30, city=\"Busan\", name=\"Bob\"))\n",
    "\n",
    "# 혼합 사용 (Positional이 앞에 와야 함)\n",
    "print(\"혼합:\", introduce(\"Charlie\", city=\"Daegu\", age=28))\n",
    "\n",
    "# 에러 발생! Positional이 Keyword 뒤에 올 수 없음\n",
    "# print(introduce(age=25, \"David\", \"Incheon\"))  # SyntaxError"
   ],
   "outputs": []
  },
  {
   "cell_type": "markdown",
   "metadata": {},
   "source": [
    "### 2.2 Default Parameter"
   ]
  },
  {
   "cell_type": "code",
   "execution_count": null,
   "metadata": {},
   "source": [
    "# 기본값 설정\n",
    "def greet(name, greeting=\"Hello\"):\n",
    "    return f\"{greeting}, {name}!\"\n",
    "\n",
    "print(greet(\"Alice\"))  # 기본값 사용\n",
    "print(greet(\"Bob\", \"Hi\"))  # 기본값 덮어쓰기\n",
    "print(greet(\"Charlie\", greeting=\"안녕\"))  # 키워드로 지정\n",
    "\n",
    "# 여러 개의 기본값\n",
    "def create_user(username, email=None, age=None, active=True):\n",
    "    user = {'username': username, 'active': active}\n",
    "    if email:\n",
    "        user['email'] = email\n",
    "    if age:\n",
    "        user['age'] = age\n",
    "    return user\n",
    "\n",
    "print(\"\\n사용자 생성:\")\n",
    "print(create_user(\"alice\"))\n",
    "print(create_user(\"bob\", email=\"bob@example.com\"))\n",
    "print(create_user(\"charlie\", age=25, active=False))"
   ],
   "outputs": []
  },
  {
   "cell_type": "markdown",
   "metadata": {},
   "source": [
    "#### ⚠️ Mutable Default Argument의 함정"
   ]
  },
  {
   "cell_type": "code",
   "execution_count": null,
   "metadata": {},
   "source": [
    "# 잘못된 예 (버그 발생!)\n",
    "def add_item_wrong(item, items=[]):  # 위험!\n",
    "    items.append(item)\n",
    "    return items\n",
    "\n",
    "print(\"잘못된 방식:\")\n",
    "print(add_item_wrong(1))  # [1]\n",
    "print(add_item_wrong(2))  # [1, 2] ← 예상: [2]\n",
    "print(add_item_wrong(3))  # [1, 2, 3] ← 예상: [3]\n",
    "\n",
    "# 올바른 방법\n",
    "def add_item_correct(item, items=None):\n",
    "    if items is None:\n",
    "        items = []\n",
    "    items.append(item)\n",
    "    return items\n",
    "\n",
    "print(\"\\n올바른 방식:\")\n",
    "print(add_item_correct(1))  # [1]\n",
    "print(add_item_correct(2))  # [2]\n",
    "print(add_item_correct(3))  # [3]"
   ],
   "outputs": []
  },
  {
   "cell_type": "markdown",
   "metadata": {},
   "source": [
    "### 2.3 *args (Variable Positional Arguments)"
   ]
  },
  {
   "cell_type": "code",
   "execution_count": null,
   "metadata": {},
   "source": [
    "# 가변 개수의 위치 인자\n",
    "def sum_all(*args):\n",
    "    print(f\"args의 타입: {type(args)}\")\n",
    "    print(f\"args의 값: {args}\")\n",
    "    return sum(args)\n",
    "\n",
    "print(\"합계:\", sum_all(1, 2, 3))\n",
    "print(\"합계:\", sum_all(1, 2, 3, 4, 5))\n",
    "print(\"합계:\", sum_all(10, 20))\n",
    "\n",
    "# 일반 매개변수와 함께 사용\n",
    "def greet_all(greeting, *names):\n",
    "    for name in names:\n",
    "        print(f\"{greeting}, {name}!\")\n",
    "\n",
    "print(\"\\n인사:\")\n",
    "greet_all(\"Hello\", \"Alice\", \"Bob\", \"Charlie\")\n",
    "\n",
    "# Unpacking 연산자로 리스트 전달\n",
    "numbers = [1, 2, 3, 4, 5]\n",
    "print(\"\\nUnpacking:\", sum_all(*numbers))"
   ],
   "outputs": []
  },
  {
   "cell_type": "markdown",
   "metadata": {},
   "source": [
    "### 2.4 **kwargs (Variable Keyword Arguments)"
   ]
  },
  {
   "cell_type": "code",
   "execution_count": null,
   "metadata": {},
   "source": [
    "# 가변 개수의 키워드 인자\n",
    "def print_info(**kwargs):\n",
    "    print(f\"kwargs의 타입: {type(kwargs)}\")\n",
    "    print(f\"kwargs의 값: {kwargs}\")\n",
    "    for key, value in kwargs.items():\n",
    "        print(f\"  {key}: {value}\")\n",
    "\n",
    "print_info(name=\"Alice\", age=25, city=\"Seoul\")\n",
    "\n",
    "# *args와 **kwargs 함께 사용\n",
    "def flexible_function(*args, **kwargs):\n",
    "    print(f\"Positional args: {args}\")\n",
    "    print(f\"Keyword args: {kwargs}\")\n",
    "\n",
    "print(\"\\n혼합 사용:\")\n",
    "flexible_function(1, 2, 3, name=\"Bob\", age=30)\n",
    "\n",
    "# Dictionary unpacking\n",
    "user_data = {'name': 'Charlie', 'email': 'charlie@example.com', 'age': 28}\n",
    "print(\"\\nDict unpacking:\")\n",
    "print_info(**user_data)"
   ],
   "outputs": []
  },
  {
   "cell_type": "markdown",
   "metadata": {},
   "source": [
    "### 2.5 Positional-only (/) & Keyword-only (*) Parameters\n",
    "\n",
    "#### Python 3.8+에서 도입된 기능"
   ]
  },
  {
   "cell_type": "code",
   "execution_count": null,
   "metadata": {},
   "source": [
    "# Positional-only (/ 이전 매개변수)\n",
    "def positional_only(a, b, /, c):\n",
    "    \"\"\"a, b는 반드시 위치 인자로만 전달\"\"\"\n",
    "    return a + b + c\n",
    "\n",
    "print(\"Positional-only:\")\n",
    "print(positional_only(1, 2, 3))  # OK\n",
    "print(positional_only(1, 2, c=3))  # OK\n",
    "# print(positional_only(a=1, b=2, c=3))  # Error! a, b는 키워드 불가\n",
    "\n",
    "# Keyword-only (* 이후 매개변수)\n",
    "def keyword_only(a, *, b, c):\n",
    "    \"\"\"b, c는 반드시 키워드 인자로만 전달\"\"\"\n",
    "    return a + b + c\n",
    "\n",
    "print(\"\\nKeyword-only:\")\n",
    "print(keyword_only(1, b=2, c=3))  # OK\n",
    "# print(keyword_only(1, 2, 3))  # Error! b, c는 키워드 필수\n",
    "\n",
    "# 혼합 사용\n",
    "def mixed_params(pos_only, /, standard, *, kwd_only):\n",
    "    return f\"pos: {pos_only}, std: {standard}, kwd: {kwd_only}\"\n",
    "\n",
    "print(\"\\n혼합:\")\n",
    "print(mixed_params(1, 2, kwd_only=3))  # OK\n",
    "print(mixed_params(1, standard=2, kwd_only=3))  # OK"
   ],
   "outputs": []
  },
  {
   "cell_type": "markdown",
   "metadata": {},
   "source": [
    "### 2.6 Parameter 순서 규칙\n",
    "\n",
    "#### 📋 올바른 순서\n",
    "```python\n",
    "def func(pos_only, /, standard, *args, kwd_only, **kwargs):\n",
    "    pass\n",
    "```\n",
    "\n",
    "1. Positional-only parameters (/, 이전)\n",
    "2. Standard parameters\n",
    "3. *args (가변 위치 인자)\n",
    "4. Keyword-only parameters (*, 이후)\n",
    "5. **kwargs (가변 키워드 인자)"
   ]
  },
  {
   "cell_type": "code",
   "execution_count": null,
   "metadata": {},
   "source": [
    "# 모든 종류의 매개변수 사용\n",
    "def complete_example(pos_only, /, standard, *args, kwd_only, **kwargs):\n",
    "    print(f\"Positional-only: {pos_only}\")\n",
    "    print(f\"Standard: {standard}\")\n",
    "    print(f\"*args: {args}\")\n",
    "    print(f\"Keyword-only: {kwd_only}\")\n",
    "    print(f\"**kwargs: {kwargs}\")\n",
    "\n",
    "complete_example(\n",
    "    1,                    # pos_only\n",
    "    2,                    # standard\n",
    "    3, 4, 5,             # args\n",
    "    kwd_only=6,          # kwd_only\n",
    "    extra1=7, extra2=8   # kwargs\n",
    ")"
   ],
   "outputs": []
  },
  {
   "cell_type": "markdown",
   "metadata": {},
   "source": [
    "#### 🎯 실습 문제 2\n",
    "\n",
    "**과제**: 주문 시스템 함수를 작성하세요.\n",
    "- 함수명: `create_order`\n",
    "- 매개변수:\n",
    "  - `order_id` (positional-only)\n",
    "  - `customer` (standard)\n",
    "  - `*items` (가변 상품들)\n",
    "  - `discount` (keyword-only, 기본값=0)\n",
    "  - `**options` (배송 정보 등)\n",
    "- 반환: 주문 정보 dict"
   ]
  },
  {
   "cell_type": "code",
   "execution_count": null,
   "metadata": {},
   "source": [
    "def create_order(order_id, /, customer, *items, discount=0, **options):\n",
    "    # TODO: 여기에 코드 작성\n",
    "    pass\n",
    "\n",
    "# 테스트\n",
    "# order = create_order(\n",
    "#     \"ORD-001\",\n",
    "#     \"Alice\",\n",
    "#     \"Laptop\", \"Mouse\", \"Keyboard\",\n",
    "#     discount=10,\n",
    "#     shipping=\"Express\",\n",
    "#     gift_wrap=True\n",
    "# )\n",
    "# print(order)"
   ],
   "outputs": []
  },
  {
   "cell_type": "markdown",
   "metadata": {},
   "source": [
    "---\n",
    "\n",
    "## 🕒 3. Scope 기초\n",
    "\n",
    "### 3.1 Local Scope vs Global Scope"
   ]
  },
  {
   "cell_type": "code",
   "execution_count": null,
   "metadata": {},
   "source": [
    "# Global Scope (전역 스코프)\n",
    "x = 10  # 전역 변수\n",
    "\n",
    "def func():\n",
    "    # Local Scope (지역 스코프)\n",
    "    y = 20  # 지역 변수\n",
    "    print(f\"함수 내부 - x: {x} (전역 변수 접근 가능)\")\n",
    "    print(f\"함수 내부 - y: {y} (지역 변수)\")\n",
    "\n",
    "func()\n",
    "print(f\"함수 외부 - x: {x}\")\n",
    "# print(f\"함수 외부 - y: {y}\")  # NameError! y는 지역 변수"
   ],
   "outputs": []
  },
  {
   "cell_type": "code",
   "execution_count": null,
   "metadata": {},
   "source": [
    "# 변수 가리기 (Variable Shadowing)\n",
    "x = 100  # 전역 x\n",
    "\n",
    "def shadow_test():\n",
    "    x = 200  # 지역 x (전역 x를 가림)\n",
    "    print(f\"함수 내부 x: {x}\")  # 200\n",
    "\n",
    "shadow_test()\n",
    "print(f\"함수 외부 x: {x}\")  # 100 (변경 안 됨)"
   ],
   "outputs": []
  },
  {
   "cell_type": "markdown",
   "metadata": {},
   "source": [
    "### 3.2 global 키워드"
   ]
  },
  {
   "cell_type": "code",
   "execution_count": null,
   "metadata": {},
   "source": [
    "# global 없이 전역 변수 수정 시도\n",
    "count = 0\n",
    "\n",
    "def increment_wrong():\n",
    "    # count = count + 1  # UnboundLocalError!\n",
    "    # Python은 할당을 보고 count를 지역 변수로 판단\n",
    "    pass\n",
    "\n",
    "# global 키워드 사용\n",
    "def increment_correct():\n",
    "    global count  # 전역 변수 사용 선언\n",
    "    count = count + 1\n",
    "    print(f\"count 증가: {count}\")\n",
    "\n",
    "print(f\"초기 count: {count}\")\n",
    "increment_correct()\n",
    "increment_correct()\n",
    "increment_correct()\n",
    "print(f\"최종 count: {count}\")"
   ],
   "outputs": []
  },
  {
   "cell_type": "markdown",
   "metadata": {},
   "source": [
    "#### ⚠️ global 사용 시 주의사항"
   ]
  },
  {
   "cell_type": "code",
   "execution_count": null,
   "metadata": {},
   "source": [
    "# global 사용의 문제점\n",
    "total = 0\n",
    "\n",
    "def add_to_total(value):\n",
    "    global total\n",
    "    total += value\n",
    "\n",
    "def multiply_total(factor):\n",
    "    global total\n",
    "    total *= factor\n",
    "\n",
    "# 여러 함수가 전역 변수를 수정 → 추적하기 어려움!\n",
    "add_to_total(10)\n",
    "multiply_total(2)\n",
    "add_to_total(5)\n",
    "print(f\"total: {total}\")\n",
    "\n",
    "# 더 나은 방법: 반환값 사용\n",
    "def add_value(current, value):\n",
    "    return current + value\n",
    "\n",
    "def multiply_value(current, factor):\n",
    "    return current * factor\n",
    "\n",
    "result = 0\n",
    "result = add_value(result, 10)\n",
    "result = multiply_value(result, 2)\n",
    "result = add_value(result, 5)\n",
    "print(f\"\\n더 나은 방법 result: {result}\")"
   ],
   "outputs": []
  },
  {
   "cell_type": "markdown",
   "metadata": {},
   "source": [
    "### 3.3 Name Resolution (이름 해석)\n",
    "\n",
    "#### LEGB Rule\n",
    "Python은 변수를 찾을 때 다음 순서로 검색합니다:\n",
    "1. **L**ocal (함수 내부)\n",
    "2. **E**nclosing (중첩 함수의 외부 함수)\n",
    "3. **G**lobal (모듈 레벨)\n",
    "4. **B**uilt-in (내장)"
   ]
  },
  {
   "cell_type": "code",
   "execution_count": null,
   "metadata": {},
   "source": [
    "# LEGB 예제\n",
    "x = \"Global x\"\n",
    "\n",
    "def outer():\n",
    "    x = \"Enclosing x\"\n",
    "    \n",
    "    def inner():\n",
    "        x = \"Local x\"\n",
    "        print(f\"1. Local: {x}\")\n",
    "    \n",
    "    inner()\n",
    "    print(f\"2. Enclosing: {x}\")\n",
    "\n",
    "outer()\n",
    "print(f\"3. Global: {x}\")\n",
    "\n",
    "# Built-in\n",
    "print(f\"4. Built-in len: {len}\")"
   ],
   "outputs": []
  },
  {
   "cell_type": "code",
   "execution_count": null,
   "metadata": {},
   "source": [
    "# nonlocal 키워드 (Enclosing scope 수정)\n",
    "def outer():\n",
    "    count = 0\n",
    "    \n",
    "    def increment():\n",
    "        nonlocal count  # 외부 함수의 변수 수정\n",
    "        count += 1\n",
    "        return count\n",
    "    \n",
    "    print(f\"첫 호출: {increment()}\")\n",
    "    print(f\"두 번째 호출: {increment()}\")\n",
    "    print(f\"세 번째 호출: {increment()}\")\n",
    "\n",
    "outer()"
   ],
   "outputs": []
  },
  {
   "cell_type": "markdown",
   "metadata": {},
   "source": [
    "### 3.4 Variable Lifetime (변수 수명)"
   ]
  },
  {
   "cell_type": "code",
   "execution_count": null,
   "metadata": {},
   "source": [
    "# 지역 변수의 수명\n",
    "def create_temp_var():\n",
    "    temp = \"임시 변수\"\n",
    "    print(f\"함수 내부: {temp}\")\n",
    "    # 함수 종료 시 temp는 소멸\n",
    "\n",
    "create_temp_var()\n",
    "# print(temp)  # NameError! temp는 이미 소멸\n",
    "\n",
    "# 전역 변수의 수명 (프로그램 종료까지)\n",
    "persistent = \"계속 존재\"\n",
    "\n",
    "def use_persistent():\n",
    "    print(f\"전역 변수 사용: {persistent}\")\n",
    "\n",
    "use_persistent()\n",
    "print(f\"여전히 존재: {persistent}\")"
   ],
   "outputs": []
  },
  {
   "cell_type": "markdown",
   "metadata": {},
   "source": [
    "#### 💡 Closure를 이용한 상태 유지"
   ]
  },
  {
   "cell_type": "code",
   "execution_count": null,
   "metadata": {},
   "source": [
    "# Closure: 함수가 종료되어도 변수가 유지됨\n",
    "def make_counter():\n",
    "    count = 0\n",
    "    \n",
    "    def increment():\n",
    "        nonlocal count\n",
    "        count += 1\n",
    "        return count\n",
    "    \n",
    "    return increment\n",
    "\n",
    "# 각각 독립적인 카운터\n",
    "counter1 = make_counter()\n",
    "counter2 = make_counter()\n",
    "\n",
    "print(\"Counter 1:\")\n",
    "print(counter1())  # 1\n",
    "print(counter1())  # 2\n",
    "print(counter1())  # 3\n",
    "\n",
    "print(\"\\nCounter 2:\")\n",
    "print(counter2())  # 1\n",
    "print(counter2())  # 2"
   ],
   "outputs": []
  },
  {
   "cell_type": "markdown",
   "metadata": {},
   "source": [
    "#### 🎯 실습 문제 3\n",
    "\n",
    "**과제**: 은행 계좌를 시뮬레이션하는 함수를 작성하세요.\n",
    "- 함수명: `create_account`\n",
    "- 초기 잔액을 받아서\n",
    "- `deposit`, `withdraw`, `get_balance` 함수를 포함한 dict 반환\n",
    "- Closure를 사용하여 잔액을 보호"
   ]
  },
  {
   "cell_type": "code",
   "execution_count": null,
   "metadata": {},
   "source": [
    "def create_account(initial_balance):\n",
    "    # TODO: 여기에 코드 작성\n",
    "    pass\n",
    "\n",
    "# 테스트\n",
    "# account = create_account(1000)\n",
    "# print(\"초기 잔액:\", account['get_balance']())\n",
    "# account['deposit'](500)\n",
    "# print(\"입금 후:\", account['get_balance']())\n",
    "# account['withdraw'](300)\n",
    "# print(\"출금 후:\", account['get_balance']())"
   ],
   "outputs": []
  },
  {
   "cell_type": "markdown",
   "metadata": {},
   "source": [
    "---\n",
    "\n",
    "# 📊 종합 실습\n",
    "\n",
    "## 실습 1: 데코레이터 기초 (First-class Function 활용)"
   ]
  },
  {
   "cell_type": "code",
   "execution_count": null,
   "metadata": {},
   "source": [
    "# TODO: 함수 실행 시간을 측정하는 데코레이터 만들기\n",
    "import time\n",
    "\n",
    "def timer(func):\n",
    "    def wrapper(*args, **kwargs):\n",
    "        # 여기에 코드 작성\n",
    "        pass\n",
    "    return wrapper\n",
    "\n",
    "# 테스트\n",
    "# @timer\n",
    "# def slow_function(n):\n",
    "#     time.sleep(n)\n",
    "#     return f\"{n}초 대기 완료\"\n",
    "# \n",
    "# result = slow_function(1)\n",
    "# print(result)"
   ],
   "outputs": []
  },
  {
   "cell_type": "markdown",
   "metadata": {},
   "source": [
    "## 실습 2: 설정 관리자 (Scope 활용)"
   ]
  },
  {
   "cell_type": "code",
   "execution_count": null,
   "metadata": {},
   "source": [
    "# TODO: 애플리케이션 설정을 관리하는 시스템 만들기\n",
    "# - get_config(key): 설정값 가져오기\n",
    "# - set_config(key, value): 설정값 저장\n",
    "# - reset_config(): 모든 설정 초기화\n",
    "\n",
    "def create_config_manager():\n",
    "    # 여기에 코드 작성\n",
    "    pass\n",
    "\n",
    "# 테스트\n",
    "# config = create_config_manager()\n",
    "# config['set_config']('theme', 'dark')\n",
    "# config['set_config']('language', 'ko')\n",
    "# print(config['get_config']('theme'))\n",
    "# config['reset_config']()\n",
    "# print(config['get_config']('theme'))"
   ],
   "outputs": []
  },
  {
   "cell_type": "markdown",
   "metadata": {},
   "source": [
    "## 실습 3: 함수 체이닝 (Multiple Return Values)"
   ]
  },
  {
   "cell_type": "code",
   "execution_count": null,
   "metadata": {},
   "source": [
    "# TODO: 데이터 처리 파이프라인 만들기\n",
    "# - 각 함수는 (결과, 다음_함수) 튜플을 반환\n",
    "# - 데이터를 변환하면서 통계도 수집\n",
    "\n",
    "def process_pipeline(data):\n",
    "    # 여기에 코드 작성\n",
    "    pass\n",
    "\n",
    "# 테스트\n",
    "# data = [1, 2, 3, 4, 5]\n",
    "# result, stats = process_pipeline(data)\n",
    "# print(f\"결과: {result}\")\n",
    "# print(f\"통계: {stats}\")"
   ],
   "outputs": []
  },
  {
   "cell_type": "markdown",
   "metadata": {},
   "source": [
    "---\n",
    "\n",
    "# 🎯 체크리스트\n",
    "\n",
    "이번 강의를 통해 다음을 할 수 있나요?\n",
    "\n",
    "- [ ] 함수를 변수에 할당하고 인자로 전달할 수 있다\n",
    "- [ ] First-class Function의 특성을 설명할 수 있다\n",
    "- [ ] Call by Object Reference를 이해한다\n",
    "- [ ] Positional/Keyword Parameter를 구분할 수 있다\n",
    "- [ ] Default Parameter의 함정을 안다\n",
    "- [ ] *args와 **kwargs를 올바르게 사용할 수 있다\n",
    "- [ ] Positional-only(/)와 Keyword-only(*) 매개변수를 사용할 수 있다\n",
    "- [ ] Parameter의 올바른 순서를 안다\n",
    "- [ ] Local/Global Scope를 구분할 수 있다\n",
    "- [ ] global 키워드의 사용 시기를 안다\n",
    "- [ ] LEGB 규칙을 이해한다\n",
    "- [ ] nonlocal 키워드를 사용할 수 있다\n",
    "- [ ] Closure를 만들 수 있다\n",
    "\n",
    "---\n",
    "\n",
    "# 💡 핵심 요약\n",
    "\n",
    "## Function 특성\n",
    "- Python의 함수는 **First-class Object** (일급 객체)\n",
    "- 변수 할당, 인자 전달, 반환값, 자료구조 저장 가능\n",
    "- **Call by Object Reference** 방식 사용\n",
    "\n",
    "## Parameter 순서\n",
    "```python\n",
    "def func(pos_only, /, standard, *args, kwd_only, **kwargs):\n",
    "    pass\n",
    "```\n",
    "\n",
    "## Scope\n",
    "- **LEGB Rule**: Local → Enclosing → Global → Built-in\n",
    "- `global`: 전역 변수 수정\n",
    "- `nonlocal`: 외부 함수 변수 수정\n",
    "- Closure: 함수가 외부 변수를 \"기억\"\n",
    "\n",
    "## 주의사항\n",
    "- ⚠️ Mutable Default Argument 사용 금지\n",
    "- ⚠️ global 남용 지양 (반환값 활용)\n",
    "- ⚠️ Parameter 순서 규칙 준수\n",
    "\n",
    "---\n",
    "\n",
    "# 📚 추가 학습 자료\n",
    "\n",
    "- Function: https://dsaint31.tistory.com/506\n",
    "- Function Call: https://dsaint31.tistory.com/507\n",
    "- Function Parameter: https://ds31x.tistory.com/201\n",
    "- namespace, frame, context: https://dsaint31.tistory.com/508\n",
    "\n",
    "---\n",
    "\n",
    "# 🤔 토론 주제\n",
    "\n",
    "1. **\"Python은 Call by Value인가 Reference인가?\"**\n",
    "   - Python의 전달 방식은 정확히 무엇인가요?\n",
    "   - 불변/가변 객체에 따라 어떻게 다른가요?\n",
    "\n",
    "2. **\"global 사용이 나쁜 이유는?\"**\n",
    "   - 전역 변수 사용의 문제점은?\n",
    "   - 어떤 대안이 있을까요?\n",
    "\n",
    "3. **\"*args와 **kwargs의 실용성\"**\n",
    "   - 실제 프로젝트에서 어떻게 활용되나요?\n",
    "   - 과도한 유연성이 가독성을 해칠 수 있나요?\n",
    "\n",
    "---\n",
    "\n",
    "## 수고하셨습니다! 🎉"
   ]
  }
 ],
 "metadata": {
  "kernelspec": {
   "display_name": "Python 3.13",
   "language": "python",
   "name": "python3"
  },
  "language_info": {
   "codemirror_mode": {
    "name": "ipython",
    "version": 3
   },
   "file_extension": ".py",
   "mimetype": "text/x-python",
   "name": "python",
   "nbconvert_exporter": "python",
   "pygments_lexer": "ipython3",
   "version": "3.13.0"
  }
 },
 "nbformat": 4,
 "nbformat_minor": 4
}