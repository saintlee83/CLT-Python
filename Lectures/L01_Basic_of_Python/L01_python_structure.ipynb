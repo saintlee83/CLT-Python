{
 "cells": [
  {
   "cell_type": "markdown",
   "metadata": {},
   "source": [
    "# 📅 Class 1. Python 언어 구조 개요\n",
    "\n",
    "## 📋 학습 목표\n",
    "\n",
    "1. Python의 실행 환경(REPL)을 이해\n",
    "2. Python의 문법 계층 구조를 설명\n",
    "3. Token, Expression, Statement의 차이를 구분\n",
    "4. 간단한 Python 코드를 작성하고 실행"
   ]
  },
  {
   "cell_type": "markdown",
   "metadata": {},
   "source": [
    "## 🕐 1. Python 개요 및 실행 환경\n",
    "\n",
    "### 1.1 Python의 탄생과 설계 철학\n"
   ]
  },
  {
   "cell_type": "markdown",
   "metadata": {},
   "source": [
    "파이썬은 1989년 크리스마스에 사무실이 닫혀서 할 것이 없었던 네덜란드의 귀도 반 로섬이 심심함을 달래려고 만든 언어에서 출발한..\\\n",
    "굉장히 측은한 프로그래밍 언어이다.\n"
   ]
  },
  {
   "cell_type": "markdown",
   "metadata": {},
   "source": [
    "Zen : 철학, 지향하는 태도, 정신을 의함"
   ]
  },
  {
   "cell_type": "code",
   "execution_count": 1,
   "metadata": {},
   "outputs": [
    {
     "name": "stdout",
     "output_type": "stream",
     "text": [
      "The Zen of Python, by Tim Peters\n",
      "\n",
      "Beautiful is better than ugly.\n",
      "Explicit is better than implicit.\n",
      "Simple is better than complex.\n",
      "Complex is better than complicated.\n",
      "Flat is better than nested.\n",
      "Sparse is better than dense.\n",
      "Readability counts.\n",
      "Special cases aren't special enough to break the rules.\n",
      "Although practicality beats purity.\n",
      "Errors should never pass silently.\n",
      "Unless explicitly silenced.\n",
      "In the face of ambiguity, refuse the temptation to guess.\n",
      "There should be one-- and preferably only one --obvious way to do it.\n",
      "Although that way may not be obvious at first unless you're Dutch.\n",
      "Now is better than never.\n",
      "Although never is often better than *right* now.\n",
      "If the implementation is hard to explain, it's a bad idea.\n",
      "If the implementation is easy to explain, it may be a good idea.\n",
      "Namespaces are one honking great idea -- let's do more of those!\n"
     ]
    }
   ],
   "source": [
    "# Zen of Python - Python의 설계 철학\n",
    "import this"
   ]
  },
  {
   "cell_type": "markdown",
   "metadata": {},
   "source": [
    "### 📌 Zen of Python 주요 원칙 해석\n",
    "\n",
    "1. **Beautiful is better than ugly** - 아름다운 코드가 추한 코드보다 낫다\n",
    "2. **Explicit is better than implicit** - 명시적인 것이 암시적인 것보다 낫다\n",
    "3. **Simple is better than complex** - 단순함이 복잡함보다 낫다\n",
    "4. **Readability counts** - 가독성은 중요하다\n",
    "\n",
    "### 1.2 Python의 역사\n",
    "\n",
    "- **창시자**: Guido van Rossum (출시 1991년)\n",
    "- **명명**: 영국 코미디 그룹 'Monty Python'에서 유래\n",
    "- **Python 2 vs Python 3**:\n",
    "  - Python 2: 2000년 출시, 2020년 지원 종료\n",
    "  - Python 3: 2008년 출시, 현재 주력 버전\n",
    "  - 주요 차이: print 함수, 문자열 처리(Unicode), 정수 나눗셈 등\n"
   ]
  },
  {
   "cell_type": "markdown",
   "metadata": {},
   "source": [
    "### 1.3 Interpreter vs Compiler\n",
    "\n",
    "| 구분      | Interpreter            | Compiler                          |\n",
    "| --------- | ---------------------- | --------------------------------- |\n",
    "| 실행 방식 | 한 줄씩 읽고 즉시 실행 | 전체 코드를 기계어로 번역 후 실행 |\n",
    "| 속도      | 상대적으로 느림        | 상대적으로 빠름                   |\n",
    "| 디버깅    | 오류 발견 즉시 중단    | 컴파일 단계에서 오류 발견         |\n",
    "| 예시      | Python, JavaScript     | C, C++, Rust                      |\n",
    "\n",
    "### 1.4 Python Interpreter 종류\n",
    "\n",
    "1. **CPython** (가장 일반적)\n",
    "\n",
    "   - C로 작성된 공식 구현체\n",
    "   - Python 코드 → Bytecode → 실행\n",
    "\n",
    "2. **PyPy**\n",
    "\n",
    "   - JIT(Just-In-Time) 컴파일러 사용\n",
    "   - CPython보다 빠른 실행 속도\n",
    "\n",
    "3. **Jython**\n",
    "   - Java 플랫폼에서 실행\n",
    "   - Java 라이브러리 직접 사용 가능\n"
   ]
  },
  {
   "cell_type": "markdown",
   "metadata": {},
   "source": [
    "### 1.5 REPL (Read-Eval-Print Loop) 동작 원리\n",
    "\n",
    "```\n",
    "┌─────────────────────────────────────┐\n",
    "│         REPL Cycle                  │\n",
    "│                                     │\n",
    "│  1. READ   : 사용자 입력 읽기           │\n",
    "│      ↓                              │\n",
    "│  2. EVAL   : 입력 평가/실행             │\n",
    "│      ↓                              │\n",
    "│  3. PRINT  : 결과 출력              │\n",
    "│      ↓                              │\n",
    "│  4. LOOP   : 다시 1번으로           │\n",
    "└─────────────────────────────────────┘\n",
    "```\n"
   ]
  },
  {
   "cell_type": "code",
   "execution_count": 2,
   "metadata": {},
   "outputs": [
    {
     "data": {
      "text/plain": [
       "5"
      ]
     },
     "execution_count": 2,
     "metadata": {},
     "output_type": "execute_result"
    }
   ],
   "source": [
    "# REPL에서 즉시 평가되는 예시\n",
    "2 + 3  # Expression은 자동으로 결과 출력"
   ]
  },
  {
   "cell_type": "code",
   "execution_count": null,
   "metadata": {},
   "outputs": [],
   "source": [
    "# 변수 할당은 None 반환 (출력 없음)\n",
    "x = 10\n",
    "# 변수를 평가하면 값 출력\n",
    "x"
   ]
  },
  {
   "cell_type": "markdown",
   "metadata": {},
   "source": [
    "---\n",
    "\n",
    "## 🕑 2. 문법 계층 구조\n",
    "\n",
    "### 2.1 Python 실행 단계\n",
    "\n",
    "```\n",
    "Source Code (.py)\n",
    "       ↓\n",
    "┌──────────────────┐\n",
    "│ Lexical Analysis │  → Tokens 생성\n",
    "└──────────────────┘\n",
    "       ↓\n",
    "┌──────────────────┐\n",
    "│ Syntax Analysis  │  → AST (Abstract Syntax Tree) 생성\n",
    "└──────────────────┘\n",
    "       ↓\n",
    "┌──────────────────┐\n",
    "│Semantic Analysis │  → 의미 검증\n",
    "└──────────────────┘\n",
    "       ↓\n",
    "┌──────────────────┐\n",
    "│ Code Generation  │  → Bytecode (.pyc)\n",
    "└──────────────────┘\n",
    "       ↓\n",
    "┌──────────────────┐\n",
    "│   Execution      │  → Python Virtual Machine\n",
    "└──────────────────┘\n",
    "```\n"
   ]
  },
  {
   "cell_type": "markdown",
   "metadata": {},
   "source": [
    "### 2.2 Lexical Analysis - Token 생성\n",
    "\n",
    "**Token**: 코드의 최소 의미 단위\n",
    "\n",
    "예시 코드: `x = 10 + 5`\n",
    "\n",
    "| Token | 종류                |\n",
    "| ----- | ------------------- |\n",
    "| `x`   | IDENTIFIER (식별자) |\n",
    "| `=`   | OPERATOR (연산자)   |\n",
    "| `10`  | LITERAL (리터럴)    |\n",
    "| `+`   | OPERATOR            |\n",
    "| `5`   | LITERAL             |\n"
   ]
  },
  {
   "cell_type": "code",
   "execution_count": 3,
   "metadata": {},
   "outputs": [
    {
     "name": "stdout",
     "output_type": "stream",
     "text": [
      "Token 분석 결과:\n",
      "--------------------------------------------------\n",
      "Type: NAME         | String: 'x'\n",
      "Type: OP           | String: '='\n",
      "Type: NUMBER       | String: '10'\n",
      "Type: OP           | String: '+'\n",
      "Type: NUMBER       | String: '5'\n",
      "Type: NEWLINE      | String: ''\n"
     ]
    }
   ],
   "source": [
    "# Python의 tokenize 모듈로 Token 확인\n",
    "import tokenize\n",
    "import io\n",
    "\n",
    "code = \"x = 10 + 5\"\n",
    "tokens = tokenize.generate_tokens(io.StringIO(code).readline)\n",
    "\n",
    "print(\"Token 분석 결과:\")\n",
    "print(\"-\" * 50)\n",
    "for token in tokens:\n",
    "  if token.type != tokenize.ENCODING and token.type != tokenize.ENDMARKER:\n",
    "    print(\n",
    "        f\"Type: {tokenize.tok_name[token.type]:12} | String: '{token.string}'\")"
   ]
  },
  {
   "cell_type": "markdown",
   "metadata": {},
   "source": [
    "### 2.3 Syntax Analysis - AST 생성\n",
    "\n",
    "**AST (Abstract Syntax Tree)**: Token들을 문법 규칙에 따라 트리 구조로 구성\n"
   ]
  },
  {
   "cell_type": "code",
   "execution_count": 4,
   "metadata": {},
   "outputs": [
    {
     "name": "stdout",
     "output_type": "stream",
     "text": [
      "AST 구조:\n",
      "Module(\n",
      "  body=[\n",
      "    Assign(\n",
      "      targets=[\n",
      "        Name(id='x', ctx=Store())],\n",
      "      value=BinOp(\n",
      "        left=Constant(value=10),\n",
      "        op=Add(),\n",
      "        right=Constant(value=5)))])\n"
     ]
    }
   ],
   "source": [
    "import ast\n",
    "\n",
    "code = \"x = 10 + 5\"\n",
    "tree = ast.parse(code)\n",
    "\n",
    "print(\"AST 구조:\")\n",
    "print(ast.dump(tree, indent=2))"
   ]
  },
  {
   "cell_type": "markdown",
   "metadata": {},
   "source": [
    "### 2.4 Expression vs Statement\n",
    "\n",
    "#### Expression (표현식)\n",
    "\n",
    "- **값을 생성하는 코드 조각**\n",
    "- 평가(evaluation) 가능\n",
    "- 예: `2 + 3`, `x * 5`, `len([1, 2, 3])`\n",
    "\n",
    "#### Statement (문장)\n",
    "\n",
    "- **동작을 수행하는 코드 조각**\n",
    "- 값을 반환하지 않음\n",
    "- 예: `x = 10`, `if x > 5:`, `for i in range(10):`\n"
   ]
  },
  {
   "cell_type": "code",
   "execution_count": null,
   "metadata": {},
   "outputs": [],
   "source": [
    "# Expression 예시\n",
    "result = 2 + 3 * 4  # 2 + 3 * 4는 Expression\n",
    "print(f\"Expression 결과: {result}\")\n",
    "\n",
    "# Statement 예시\n",
    "x = 10  # 할당문(Assignment Statement)\n",
    "if x > 5:  # 조건문(Conditional Statement)\n",
    "  print(\"x는 5보다 큽니다\")"
   ]
  },
  {
   "cell_type": "markdown",
   "metadata": {},
   "source": [
    "### 2.5 Bytecode 확인\n"
   ]
  },
  {
   "cell_type": "code",
   "execution_count": null,
   "metadata": {},
   "outputs": [],
   "source": [
    "import dis\n",
    "\n",
    "\n",
    "def add_numbers(a, b):\n",
    "  return a + b\n",
    "\n",
    "\n",
    "print(\"Bytecode:\")\n",
    "dis.dis(add_numbers)"
   ]
  },
  {
   "cell_type": "markdown",
   "metadata": {},
   "source": [
    "---\n",
    "\n",
    "## 🕒 3. 실습 및 환경 설정\n",
    "\n",
    "### 3.1 Python 내장 함수 탐색\n"
   ]
  },
  {
   "cell_type": "code",
   "execution_count": null,
   "metadata": {},
   "outputs": [],
   "source": [
    "# type() - 객체의 타입 확인\n",
    "print(\"=== type() 함수 ===\")\n",
    "print(f\"type(5): {type(5)}\")\n",
    "print(f\"type(5.5): {type(5.5)}\")\n",
    "print(f\"type('hello'): {type('hello')}\")\n",
    "print(f\"type([1, 2, 3]): {type([1, 2, 3])}\")"
   ]
  },
  {
   "cell_type": "code",
   "execution_count": null,
   "metadata": {},
   "outputs": [],
   "source": [
    "# id() - 객체의 메모리 주소 확인\n",
    "print(\"=== id() 함수 ===\")\n",
    "x = 10\n",
    "y = 10\n",
    "z = 20\n",
    "\n",
    "print(f\"id(x): {id(x)}\")\n",
    "print(f\"id(y): {id(y)}\")\n",
    "print(f\"id(z): {id(z)}\")\n",
    "print(f\"x와 y는 같은 객체? {id(x) == id(y)}\")"
   ]
  },
  {
   "cell_type": "code",
   "execution_count": null,
   "metadata": {},
   "outputs": [],
   "source": [
    "# dir() - 객체의 속성과 메서드 목록\n",
    "print(\"=== dir() 함수 ===\")\n",
    "x = 10\n",
    "print(\"정수 객체의 속성/메서드:\")\n",
    "print([attr for attr in dir(x) if not attr.startswith('_')][:10])  # 일부만 출력"
   ]
  },
  {
   "cell_type": "code",
   "execution_count": null,
   "metadata": {},
   "outputs": [],
   "source": [
    "# help() - 함수/객체의 도움말\n",
    "print(\"=== help() 함수 ===\")\n",
    "help(len)"
   ]
  },
  {
   "cell_type": "markdown",
   "metadata": {},
   "source": [
    "### 3.2 Python Tutor로 실행 흐름 시각화\n",
    "\n",
    "다음 코드를 [Python Tutor](https://pythontutor.com/)에서 실행해보세요:\n"
   ]
  },
  {
   "cell_type": "code",
   "execution_count": null,
   "metadata": {},
   "outputs": [],
   "source": [
    "# Python Tutor 예제 코드\n",
    "x = 10\n",
    "y = x + 5\n",
    "z = y * 2\n",
    "print(f\"Result: {z}\")"
   ]
  },
  {
   "cell_type": "markdown",
   "metadata": {},
   "source": [
    "---\n",
    "\n",
    "## 💻 실습 과제\n",
    "\n",
    "### 과제 1: Zen of Python 분석\n"
   ]
  },
  {
   "cell_type": "code",
   "execution_count": null,
   "metadata": {},
   "outputs": [],
   "source": [
    "# 과제 1: Zen of Python 분석\n",
    "# TODO: 다음 5가지 원칙을 선택하여 분석하세요\n",
    "\n",
    "# 원칙 1: \"Explicit is better than implicit\"\n",
    "# 의미: [여기에 설명 작성]\n",
    "# 예시 코드:\n",
    "# [좋은 예]\n",
    "\n",
    "# [나쁜 예]\n",
    "\n",
    "\n",
    "# 원칙 2: [선택한 원칙]\n",
    "# 의미: [여기에 설명 작성]\n",
    "# 예시 코드:\n",
    "\n",
    "\n",
    "# 원칙 3~5: [계속 작성]"
   ]
  },
  {
   "cell_type": "markdown",
   "metadata": {},
   "source": [
    "### 과제 2: REPL 탐험\n"
   ]
  },
  {
   "cell_type": "code",
   "execution_count": null,
   "metadata": {},
   "outputs": [],
   "source": [
    "# 과제 2-1: 10개의 arithmetic expression 작성\n",
    "# TODO: 다양한 연산을 시도하세요 (+, -, *, /, //, %, **)\n",
    "\n",
    "# 예시:\n",
    "print(\"1.\", 2 + 3)\n",
    "print(\"2.\", 10 - 4)\n",
    "# 3~10번 계속..."
   ]
  },
  {
   "cell_type": "code",
   "execution_count": null,
   "metadata": {},
   "outputs": [],
   "source": [
    "# 과제 2-2: type()과 id()로 5개 객체 정보 확인\n",
    "# TODO: 다양한 타입의 객체를 생성하고 정보 확인\n",
    "\n",
    "obj1 = 42\n",
    "print(f\"obj1: type={type(obj1)}, id={id(obj1)}\")\n",
    "\n",
    "# obj2~5 계속..."
   ]
  },
  {
   "cell_type": "code",
   "execution_count": null,
   "metadata": {},
   "outputs": [],
   "source": [
    "# 과제 2-3: help()와 dir() 활용\n",
    "# TODO: 내장 함수 3개의 도움말 조회\n",
    "# TODO: 객체 2개의 속성/메서드 목록 출력\n",
    "\n",
    "# 예시:\n",
    "help(print)\n",
    "print(dir(str))"
   ]
  },
  {
   "cell_type": "markdown",
   "metadata": {},
   "source": [
    "### 과제 3: 실행 흐름 추적\n"
   ]
  },
  {
   "cell_type": "code",
   "execution_count": null,
   "metadata": {},
   "outputs": [],
   "source": [
    "# 과제 3: 다음 코드의 실행 흐름을 단계별로 설명하세요\n",
    "\n",
    "x = 10\n",
    "y = x + 5\n",
    "z = y * 2\n",
    "print(f\"Result: {z}\")\n",
    "\n",
    "# TODO: Python Tutor에서 실행 후 다음 질문에 답하세요\n",
    "# 1. 각 줄이 실행될 때 메모리는 어떻게 변하는가?\n",
    "# 답:\n",
    "\n",
    "# 2. 변수 x, y, z는 언제 생성/소멸되는가?\n",
    "# 답:"
   ]
  },
  {
   "cell_type": "markdown",
   "metadata": {},
   "source": [
    "---\n",
    "\n",
    "## 🤔 토론 주제\n",
    "\n",
    "### 1. Python은 왜 느린가? - Interpreter의 장단점\n"
   ]
  },
  {
   "cell_type": "markdown",
   "metadata": {},
   "source": [
    "**여러분의 의견을 작성하세요:**\n",
    "\n",
    "- Interpreter의 장점:\n",
    "\n",
    "  -\n",
    "  -\n",
    "\n",
    "- Interpreter의 단점:\n",
    "\n",
    "  -\n",
    "  -\n",
    "\n",
    "- ## Python이 속도 문제에도 불구하고 인기 있는 이유:\n"
   ]
  },
  {
   "cell_type": "markdown",
   "metadata": {},
   "source": [
    "### 2. REPL이 생산성에 미치는 영향\n"
   ]
  },
  {
   "cell_type": "markdown",
   "metadata": {},
   "source": [
    "**여러분의 의견을 작성하세요:**\n",
    "\n",
    "- REPL의 장점:\n",
    "\n",
    "  -\n",
    "  -\n",
    "\n",
    "- ## 다른 언어(C++, Java)와의 비교:\n"
   ]
  },
  {
   "cell_type": "markdown",
   "metadata": {},
   "source": [
    "### 3. Zen of Python 중 가장 중요한 원칙\n"
   ]
  },
  {
   "cell_type": "markdown",
   "metadata": {},
   "source": [
    "**여러분이 생각하는 가장 중요한 원칙과 이유:**\n",
    "\n",
    "- 선택한 원칙:\n",
    "- 이유:\n"
   ]
  },
  {
   "cell_type": "markdown",
   "metadata": {},
   "source": [
    "---\n",
    "\n",
    "## ✅ 체크리스트\n",
    "\n",
    "학습을 마친 후 다음 항목을 체크하세요:\n",
    "\n",
    "- [ ] Python Shell을 실행하고 종료할 수 있다\n",
    "- [ ] Token, Expression, Statement를 구분할 수 있다\n",
    "- [ ] Python의 실행 단계를 설명할 수 있다\n",
    "- [ ] Python Tutor를 활용할 수 있다\n",
    "- [ ] type(), id(), dir(), help() 함수를 사용할 수 있다\n",
    "- [ ] Zen of Python의 주요 원칙을 이해했다\n",
    "\n",
    "---\n",
    "\n",
    "## 📚 참고 자료\n",
    "\n",
    "### 필수 자료\n",
    "\n",
    "- [Python Interactive Shell](https://dsaint31.tistory.com/505)\n",
    "- [Python 소개](https://dsaint31.tistory.com/512)\n",
    "\n",
    "### 권장 자료\n",
    "\n",
    "- [PEP 20 - Zen of Python](https://www.python.org/dev/peps/pep-0020/)\n",
    "- [Python Execution Model](https://docs.python.org/3/reference/executionmodel.html)\n",
    "- [Python Tutor](https://pythontutor.com/)\n",
    "\n",
    "---\n",
    "\n",
    "## 🔗 다음 수업 예고\n",
    "\n",
    "다음 주에는 **Lexical 단계를 깊이 파고들어** Token의 세부 종류를 학습합니다:\n",
    "\n",
    "- Keywords (예약어)\n",
    "- Identifiers (식별자)\n",
    "- Literals (리터럴)\n",
    "- Operators (연산자)\n",
    "- Delimiters (구분자)\n"
   ]
  },
  {
   "cell_type": "markdown",
   "metadata": {},
   "source": []
  }
 ],
 "metadata": {
  "kernelspec": {
   "display_name": "clt-python (3.13.7)",
   "language": "python",
   "name": "python3"
  },
  "language_info": {
   "codemirror_mode": {
    "name": "ipython",
    "version": 3
   },
   "file_extension": ".py",
   "mimetype": "text/x-python",
   "name": "python",
   "nbconvert_exporter": "python",
   "pygments_lexer": "ipython3",
   "version": "3.13.7"
  }
 },
 "nbformat": 4,
 "nbformat_minor": 4
}
