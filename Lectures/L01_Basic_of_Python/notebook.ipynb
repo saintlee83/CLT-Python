{
 "cells": [
  {
   "cell_type": "code",
   "execution_count": null,
   "id": "4770ab32",
   "metadata": {},
   "outputs": [],
   "source": [
    "def test(a):\n",
    "  return a"
   ]
  },
  {
   "cell_type": "code",
   "execution_count": null,
   "id": "7285bd7d",
   "metadata": {},
   "outputs": [],
   "source": [
    "test(a=)"
   ]
  }
 ],
 "metadata": {
  "kernelspec": {
   "display_name": "clt-python (3.13.7)",
   "language": "python",
   "name": "python3"
  },
  "language_info": {
   "codemirror_mode": {
    "name": "ipython",
    "version": 3
   },
   "file_extension": ".py",
   "mimetype": "text/x-python",
   "name": "python",
   "nbconvert_exporter": "python",
   "pygments_lexer": "ipython3",
   "version": "3.13.7"
  }
 },
 "nbformat": 4,
 "nbformat_minor": 5
}
