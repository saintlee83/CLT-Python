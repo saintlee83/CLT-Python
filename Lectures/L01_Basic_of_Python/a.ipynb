{
 "cells": [
  {
   "cell_type": "code",
   "execution_count": 2,
   "id": "8fd68023",
   "metadata": {},
   "outputs": [],
   "source": [
    "%load_ext mermaid_magic"
   ]
  },
  {
   "cell_type": "markdown",
   "id": "bb17d26d",
   "metadata": {},
   "source": [
    "# Introduction\n"
   ]
  },
  {
   "cell_type": "markdown",
   "id": "2f5941fa",
   "metadata": {},
   "source": [
    "파이썬은 1989년 크리스마스에 사무실이 닫혀서 할 것이 없었던 네덜란드의 귀도 반 로섬이 심심함을 달래려고 만든 언어에서 출발한 프로그래밍 언어이다.\n"
   ]
  },
  {
   "cell_type": "markdown",
   "id": "dd20d9f5",
   "metadata": {},
   "source": [
    "## Shell (REPL shell)\n"
   ]
  },
  {
   "cell_type": "markdown",
   "id": "a02f7b51",
   "metadata": {},
   "source": [
    "### Shell이 뭔데요?\n",
    "\n",
    "`Shell`은 `Kernel`과 `User` 사이의 인터페이스 역할을 하는 프로그램으로, 사용자의 명령을 실행하고 그 결과를 보여주는 계층\n",
    "\n",
    "Shell이라는 이름이 붙은 이유는 `껍데기(shell)` 처럼 커널을 감싸는, 외부와 커널 사이에 있는 얇은 계층이기 때문\n",
    "\n",
    "아래는 `Unix (like)` 운영체제의 구조\n"
   ]
  },
  {
   "cell_type": "code",
   "execution_count": 5,
   "id": "3be84f3a",
   "metadata": {},
   "outputs": [
    {
     "data": {
      "text/html": [
       "\n",
       "    <div class=\"mermaid\">\n",
       "    graph LR\n",
       "    A[\"🧍‍♂️ User<br>(사용자)\"] -->|\"명령어 입력 / 결과 출력\"| B[\"💬 Shell (셸)<br>명령어 해석기 (CLI)\"]\n",
       "    B -->|\"시스템 호출 (System Call)\"| C[\"🧠 Kernel (커널)<br>운영체제의 핵심\"]\n",
       "    C -->|\"하드웨어 제어\"| D[\"💻 Hardware (하드웨어)\"]\n",
       "\n",
       "    </div>\n",
       "\n",
       "    <script>\n",
       "      if (typeof mermaid === 'undefined') {\n",
       "        var script = document.createElement('script');\n",
       "        script.src = \"https://cdn.jsdelivr.net/npm/mermaid/dist/mermaid.min.js\";\n",
       "        script.onload = () => mermaid.initialize({ startOnLoad: true });\n",
       "        document.head.appendChild(script);\n",
       "      } else {\n",
       "        mermaid.init();\n",
       "      }\n",
       "    </script>\n",
       "    "
      ],
      "text/plain": [
       "<IPython.core.display.HTML object>"
      ]
     },
     "metadata": {},
     "output_type": "display_data"
    }
   ],
   "source": [
    "%%mermaid\n",
    "graph LR\n",
    "    A[\"🧍‍♂️ User<br>(사용자)\"] -->|\"명령어 입력 / 결과 출력\"| B[\"💬 Shell (셸)<br>명령어 해석기 (CLI)\"]\n",
    "    B -->|\"시스템 호출 (System Call)\"| C[\"🧠 Kernel (커널)<br>운영체제의 핵심\"]\n",
    "    C -->|\"하드웨어 제어\"| D[\"💻 Hardware (하드웨어)\"]"
   ]
  },
  {
   "cell_type": "markdown",
   "id": "ec16d320",
   "metadata": {},
   "source": [
    "### Python의 REPL Shell\n",
    "\n",
    "python의 shell은 `REPL`의 단계를 가지는데 각각 다음과 같다\n",
    "\n",
    "- `Read` : 사용자가 `python shell`의 `prompt`에 입력한 `statement`를 읽음\n",
    "- `Evaluate` : 읽은 `statement`를 평가 및 실행\n",
    "- `Print` : 실행 결과를 출력\n",
    "- `Loop` : 위 과정을 반복\n"
   ]
  },
  {
   "cell_type": "markdown",
   "id": "4f433a3a",
   "metadata": {},
   "source": [
    "## keywords (Reserved Wrods)\n"
   ]
  },
  {
   "cell_type": "markdown",
   "id": "ae9e5636",
   "metadata": {},
   "source": [
    "### What is keyword?\n",
    "\n",
    "`keyword`는 python에서 특정한 목적을 수행하는 이미 `예약된 단어(reserved words)`로 `variable`, `function`, `object`의 `name`으로 사용할 수 없는 단어를 의미함\n",
    "\n",
    "파이썬이 문법을 이해할 때 기준으로 삼기 때문에, 키워드를 잘 알아두면 문법 구조를 파악하기 쉬움\n",
    "\n",
    "아래는 `keyword list`를 확인해 볼 수 있는 예제\n"
   ]
  },
  {
   "cell_type": "code",
   "execution_count": null,
   "id": "cfbf8227",
   "metadata": {},
   "outputs": [
    {
     "name": "stdout",
     "output_type": "stream",
     "text": [
      "['False', 'None', 'True', 'and', 'as', 'assert', 'async', 'await', 'break', 'class', 'continue', 'def', 'del', 'elif', 'else', 'except', 'finally', 'for', 'from', 'global', 'if', 'import', 'in', 'is', 'lambda', 'nonlocal', 'not', 'or', 'pass', 'raise', 'return', 'try', 'while', 'with', 'yield']\n"
     ]
    }
   ],
   "source": [
    "import keyword\n",
    "\n",
    "print(keyword.kwlist)"
   ]
  },
  {
   "cell_type": "code",
   "execution_count": 4,
   "id": "c6acc3e6",
   "metadata": {},
   "outputs": [
    {
     "name": "stdout",
     "output_type": "stream",
     "text": [
      "=== Python Keyword 목록 ===\n",
      "총 개수: 35개\n",
      "\n",
      "False         None          True          and           as          \n",
      "assert        async         await         break         class       \n",
      "continue      def           del           elif          else        \n",
      "except        finally       for           from          global      \n",
      "if            import        in            is            lambda      \n",
      "nonlocal      not           or            pass          raise       \n",
      "return        try           while         with          yield       \n"
     ]
    }
   ],
   "source": [
    "import keyword\n",
    "\n",
    "print(\"=== Python Keyword 목록 ===\")\n",
    "print(f\"총 개수: {len(keyword.kwlist)}개\\n\")\n",
    "\n",
    "# 5개씩 깔끔하게 출력\n",
    "for i in range(0, len(keyword.kwlist), 5):\n",
    "  group = keyword.kwlist[i:i+5]\n",
    "  print(\"  \".join(f\"{kw:12}\" for kw in group))"
   ]
  },
  {
   "cell_type": "markdown",
   "id": "209ec6f8",
   "metadata": {},
   "source": [
    "### Soft Keyword\n",
    "\n",
    "소프트 키워드는 이름 그대로 `부드러운 키워드`, 즉\n",
    "\n",
    "> `*특정 문맥(context)에서만 키워드로 작동하는 단어*`\n",
    "> 를 말한다.\n",
    "\n",
    "보통 기존 문법과의 호환성을 위해 도입된다.\n",
    "일반 키워드처럼 항상 예약된 단어가 아니기 때문에, 다른 상황에서는 변수 이름으로도 쓸 수 있다.\n",
    "\n",
    "대표적으로 `match` 와 `case`가 있음\n"
   ]
  },
  {
   "cell_type": "code",
   "execution_count": null,
   "id": "8a106753",
   "metadata": {},
   "outputs": [
    {
     "name": "stdout",
     "output_type": "stream",
     "text": [
      "one\n"
     ]
    }
   ],
   "source": [
    "x = 1\n",
    "\n",
    "match x:\n",
    "  case 1:\n",
    "    print(\"one\")\n",
    "  case 2:\n",
    "    print(\"two\")"
   ]
  },
  {
   "cell_type": "markdown",
   "id": "215f995f",
   "metadata": {},
   "source": [
    "| 구분     | 하드 키워드 (Hard Keyword)  | 소프트 키워드 (Soft Keyword)                       |\n",
    "| -------- | --------------------------- | -------------------------------------------------- |\n",
    "| **의미** | 항상 예약된 단어            | 특정 문맥에서만 키워드                             |\n",
    "| **사용** | 변수명 등으로 사용 불가     | 문맥 밖에서는 변수명으로 사용 가능                 |\n",
    "| **예시** | `if`, `for`, `while`, `def` | `match`, `case`, `async`, `await` _(초기 도입 시)_ |\n"
   ]
  },
  {
   "cell_type": "markdown",
   "id": "6f1d36c7",
   "metadata": {},
   "source": [
    "## Literal\n"
   ]
  },
  {
   "cell_type": "markdown",
   "id": "125854d5",
   "metadata": {},
   "source": [
    "### What is Literal\n",
    "\n",
    "> `값 그 자체를 코드 안에서 직접 표현한 것` 을 의미함\n",
    ">\n",
    "> 소스코드 상에서 고정된 값, 고정된 값을 나타내는 표기법\n",
    "\n",
    "즉 변수나 계산 결과가 아닌 '있는 그대로의 값'을 의미함\n",
    "\n",
    "예를 들어 `3`, `\"hello\"`, `True`, `[1, 2, 3]` 같은 것들이 모두 리터럴임\n"
   ]
  },
  {
   "cell_type": "code",
   "execution_count": 1,
   "id": "3beb8954",
   "metadata": {},
   "outputs": [],
   "source": [
    "x = 10        # 정수 리터럴\n",
    "name = \"Jay\"  # 문자열 리터럴\n",
    "flag = True   # 불리언 리터럴"
   ]
  },
  {
   "cell_type": "markdown",
   "id": "1b0c8cfe",
   "metadata": {},
   "source": [
    "쉽게 말해 리터럴은 `파이썬이 그대로 이해하고 메모리에 바로 저장할 수 있는 값`"
   ]
  },
  {
   "cell_type": "markdown",
   "id": "16b4c49c",
   "metadata": {},
   "source": []
  },
  {
   "cell_type": "code",
   "execution_count": null,
   "id": "14015ce0",
   "metadata": {},
   "outputs": [],
   "source": []
  }
 ],
 "metadata": {
  "kernelspec": {
   "display_name": "clt-python (3.13.7)",
   "language": "python",
   "name": "python3"
  },
  "language_info": {
   "codemirror_mode": {
    "name": "ipython",
    "version": 3
   },
   "file_extension": ".py",
   "mimetype": "text/x-python",
   "name": "python",
   "nbconvert_exporter": "python",
   "pygments_lexer": "ipython3",
   "version": "3.13.7"
  }
 },
 "nbformat": 4,
 "nbformat_minor": 5
}
