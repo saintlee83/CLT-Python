{
 "cells": [
  {
   "cell_type": "markdown",
   "metadata": {},
   "source": [
    "# Collection Types 심화\n",
    "\n",
    "## 📋 학습 목표\n",
    "1. 각 Collection Type의 특징과 차이를 설명할 수 있다\n",
    "2. 시간/공간 복잡도를 고려하여 적절한 자료구조를 선택할 수 있다\n",
    "3. collections 모듈의 고급 자료구조를 활용할 수 있다\n",
    "4. Hashing의 동작 원리를 이해한다\n",
    "\n",
    "---"
   ]
  },
  {
   "cell_type": "markdown",
   "metadata": {},
   "source": [
    "# 📚 1. Sequence Types (50분)\n",
    "\n",
    "## 🔑 핵심 개념\n",
    "\n",
    "### Collection이란?\n",
    "- **Collection**: 여러 개의 데이터를 하나로 묶어서 관리하는 자료구조\n",
    "- Python의 주요 Collection Types:\n",
    "  - **Sequence Types**: 순서가 있는 컬렉션 (list, tuple, str, bytes, range)\n",
    "  - **Mapping Type**: 키-값 쌍의 컬렉션 (dict)\n",
    "  - **Set Types**: 중복 없는 컬렉션 (set, frozenset)\n",
    "\n",
    "### Sequence Type이란?\n",
    "- **정의**: 요소들이 순서대로 저장되어 있고, 인덱스로 접근 가능한 컬렉션\n",
    "- **특징**: \n",
    "  - 인덱싱 (indexing): `seq[0]`\n",
    "  - 슬라이싱 (slicing): `seq[1:3]`\n",
    "  - 길이 확인: `len(seq)`\n",
    "  - 반복 가능 (iterable): for 루프 사용 가능\n",
    "\n",
    "### Mutable vs Immutable\n",
    "| 구분 | Mutable (가변) | Immutable (불변) |\n",
    "|------|----------------|------------------|\n",
    "| 의미 | 생성 후 수정 가능 | 생성 후 수정 불가 |\n",
    "| 예시 | list, dict, set | tuple, str, frozenset |\n",
    "| 장점 | 유연한 데이터 조작 | 안전성, 해시 가능 |\n",
    "| 단점 | 의도치 않은 변경 가능 | 수정 시 새 객체 생성 |"
   ]
  },
  {
   "cell_type": "code",
   "execution_count": null,
   "metadata": {},
   "outputs": [],
   "source": [
    "# Collection의 예시\n",
    "print(\"=== Collection Types 예시 ===\")\n",
    "\n",
    "# Sequence (순서가 있음)\n",
    "my_list = [1, 2, 3, 4, 5]\n",
    "my_tuple = (1, 2, 3, 4, 5)\n",
    "my_string = \"Hello\"\n",
    "\n",
    "# Mapping (키-값 쌍)\n",
    "my_dict = {'a': 1, 'b': 2, 'c': 3}\n",
    "\n",
    "# Set (중복 없음, 순서 없음)\n",
    "my_set = {1, 2, 3, 4, 5}\n",
    "\n",
    "print(f\"List: {my_list}\")\n",
    "print(f\"Tuple: {my_tuple}\")\n",
    "print(f\"String: {my_string}\")\n",
    "print(f\"Dict: {my_dict}\")\n",
    "print(f\"Set: {my_set}\")"
   ]
  },
  {
   "cell_type": "code",
   "execution_count": null,
   "metadata": {},
   "outputs": [],
   "source": [
    "# Mutable vs Immutable 비교\n",
    "print(\"\\n=== Mutable vs Immutable ===\")\n",
    "\n",
    "# Mutable (list)\n",
    "mutable_list = [1, 2, 3]\n",
    "print(f\"Original list: {mutable_list}, id: {id(mutable_list)}\")\n",
    "mutable_list[0] = 100  # 수정 가능\n",
    "print(f\"Modified list: {mutable_list}, id: {id(mutable_list)}\")\n",
    "print(\"→ 같은 객체가 수정됨 (id 동일)\\n\")\n",
    "\n",
    "# Immutable (tuple)\n",
    "immutable_tuple = (1, 2, 3)\n",
    "print(f\"Original tuple: {immutable_tuple}, id: {id(immutable_tuple)}\")\n",
    "try:\n",
    "    immutable_tuple[0] = 100  # 에러 발생!\n",
    "except TypeError as e:\n",
    "    print(f\"Error: {e}\")\n",
    "    print(\"→ 수정 불가능!\")"
   ]
  },
  {
   "cell_type": "markdown",
   "metadata": {},
   "source": [
    "## 1.1 List (Mutable Sequence)\n",
    "\n",
    "### 📖 List란?\n",
    "- **정의**: 여러 개의 값을 순서대로 저장하는 가변(mutable) 시퀀스\n",
    "- **특징**:\n",
    "  - 대괄호 `[]`로 생성\n",
    "  - 다양한 타입의 요소를 함께 저장 가능\n",
    "  - 요소 추가/삭제/수정 가능\n",
    "  - 동적 크기 (자동으로 크기 조정)\n",
    "- **사용 시기**: 데이터를 순서대로 저장하고 자주 수정할 때"
   ]
  },
  {
   "cell_type": "code",
   "execution_count": null,
   "metadata": {},
   "outputs": [],
   "source": [
    "# List 기본 생성\n",
    "numbers = [1, 2, 3, 4, 5]\n",
    "mixed = [1, \"hello\", 3.14, True]\n",
    "\n",
    "print(f\"Numbers: {numbers}\")\n",
    "print(f\"Mixed types: {mixed}\")"
   ]
  },
  {
   "cell_type": "code",
   "execution_count": null,
   "metadata": {},
   "outputs": [],
   "source": [
    "# List는 mutable - 요소 변경 가능\n",
    "fruits = ['apple', 'banana', 'cherry']\n",
    "print(f\"Original: {fruits}\")\n",
    "\n",
    "fruits[1] = 'blueberry'\n",
    "print(f\"Modified: {fruits}\")\n",
    "\n",
    "# 요소 추가\n",
    "fruits.append('date')\n",
    "print(f\"After append: {fruits}\")\n",
    "\n",
    "# 요소 삽입\n",
    "fruits.insert(1, 'avocado')\n",
    "print(f\"After insert: {fruits}\")"
   ]
  },
  {
   "cell_type": "code",
   "execution_count": null,
   "metadata": {},
   "outputs": [],
   "source": [
    "# List comprehension\n",
    "squares = [x**2 for x in range(1, 6)]\n",
    "print(f\"Squares: {squares}\")\n",
    "\n",
    "even_squares = [x**2 for x in range(1, 11) if x % 2 == 0]\n",
    "print(f\"Even squares: {even_squares}\")"
   ]
  },
  {
   "cell_type": "markdown",
   "metadata": {},
   "source": [
    "## 1.2 Tuple (Immutable Sequence)\n",
    "\n",
    "### 📖 Tuple이란?\n",
    "- **정의**: 여러 개의 값을 순서대로 저장하는 불변(immutable) 시퀀스\n",
    "- **특징**:\n",
    "  - 소괄호 `()`로 생성 (또는 괄호 생략 가능)\n",
    "  - 생성 후 수정 불가능\n",
    "  - List보다 메모리 효율적\n",
    "  - Dictionary의 키로 사용 가능 (hashable)\n",
    "- **사용 시기**: \n",
    "  - 변경되지 않아야 하는 데이터 (좌표, 날짜 등)\n",
    "  - 함수에서 여러 값 반환\n",
    "  - Dictionary의 키로 사용"
   ]
  },
  {
   "cell_type": "code",
   "execution_count": null,
   "metadata": {},
   "outputs": [],
   "source": [
    "# Tuple 생성\n",
    "coordinates = (10, 20)\n",
    "rgb = (255, 128, 0)\n",
    "single = (42,)  # 단일 요소 튜플은 콤마 필요\n",
    "\n",
    "print(f\"Coordinates: {coordinates}\")\n",
    "print(f\"RGB: {rgb}\")\n",
    "print(f\"Single element: {single}\")"
   ]
  },
  {
   "cell_type": "code",
   "execution_count": null,
   "metadata": {},
   "outputs": [],
   "source": [
    "# Tuple의 불변성\n",
    "point = (3, 4)\n",
    "print(f\"Point: {point}\")\n",
    "\n",
    "try:\n",
    "    point[0] = 5  # 에러 발생!\n",
    "except TypeError as e:\n",
    "    print(f\"Error: {e}\")"
   ]
  },
  {
   "cell_type": "code",
   "execution_count": null,
   "metadata": {},
   "outputs": [],
   "source": [
    "# Tuple unpacking\n",
    "x, y = (10, 20)\n",
    "print(f\"x: {x}, y: {y}\")\n",
    "\n",
    "# 함수에서 여러 값 반환\n",
    "def get_min_max(numbers):\n",
    "    return min(numbers), max(numbers)\n",
    "\n",
    "minimum, maximum = get_min_max([3, 1, 4, 1, 5, 9, 2, 6])\n",
    "print(f\"Min: {minimum}, Max: {maximum}\")"
   ]
  },
  {
   "cell_type": "markdown",
   "metadata": {},
   "source": [
    "## 1.3 String (Text Sequence)\n",
    "\n",
    "### 📖 String이란?\n",
    "- **정의**: 문자들의 불변(immutable) 시퀀스\n",
    "- **특징**:\n",
    "  - 따옴표 `'`, `\"`, `'''`, `\"\"\"`로 생성\n",
    "  - 텍스트 데이터 저장 및 처리\n",
    "  - 불변 → 수정 시 새로운 문자열 생성\n",
    "  - 다양한 문자열 메서드 제공 (upper, lower, split, replace 등)\n",
    "- **사용 시기**: 텍스트 데이터를 다룰 때"
   ]
  },
  {
   "cell_type": "code",
   "execution_count": null,
   "metadata": {},
   "outputs": [],
   "source": [
    "# String 기본 연산\n",
    "text = \"Python Programming\"\n",
    "\n",
    "print(f\"Original: {text}\")\n",
    "print(f\"Uppercase: {text.upper()}\")\n",
    "print(f\"Lowercase: {text.lower()}\")\n",
    "print(f\"Length: {len(text)}\")"
   ]
  },
  {
   "cell_type": "code",
   "execution_count": null,
   "metadata": {},
   "outputs": [],
   "source": [
    "# String slicing\n",
    "text = \"Hello, World!\"\n",
    "\n",
    "print(f\"First 5: {text[:5]}\")\n",
    "print(f\"Last 6: {text[-6:]}\")\n",
    "print(f\"Every 2nd char: {text[::2]}\")\n",
    "print(f\"Reverse: {text[::-1]}\")"
   ]
  },
  {
   "cell_type": "code",
   "execution_count": null,
   "metadata": {},
   "outputs": [],
   "source": [
    "# String methods\n",
    "sentence = \"  Hello, Python World!  \"\n",
    "\n",
    "print(f\"Strip: '{sentence.strip()}'\")\n",
    "print(f\"Replace: {sentence.replace('Python', 'Java')}\")\n",
    "print(f\"Split: {sentence.split()}\")\n",
    "print(f\"Starts with 'Hello': {sentence.strip().startswith('Hello')}\")"
   ]
  },
  {
   "cell_type": "markdown",
   "metadata": {},
   "source": [
    "## 1.4 Bytes and Bytearray\n",
    "\n",
    "### 📖 Bytes와 Bytearray란?\n",
    "- **Bytes**: \n",
    "  - **정의**: 불변 바이트 시퀀스\n",
    "  - **특징**: 0-255 범위의 정수들의 불변 시퀀스\n",
    "  - **사용 시기**: 바이너리 데이터, 파일 I/O, 네트워크 통신\n",
    "\n",
    "- **Bytearray**:\n",
    "  - **정의**: 가변 바이트 시퀀스\n",
    "  - **특징**: bytes의 가변 버전\n",
    "  - **사용 시기**: 바이트 데이터를 수정해야 할 때\n",
    "\n",
    "- **Encoding/Decoding**:\n",
    "  - String → Bytes: `encode()`\n",
    "  - Bytes → String: `decode()`"
   ]
  },
  {
   "cell_type": "code",
   "execution_count": null,
   "metadata": {},
   "outputs": [],
   "source": [
    "# Bytes (불변)\n",
    "b = b'Hello'\n",
    "print(f\"Bytes: {b}\")\n",
    "print(f\"Type: {type(b)}\")\n",
    "print(f\"Length: {len(b)}\")\n",
    "\n",
    "# String to bytes\n",
    "text = \"안녕하세요\"\n",
    "encoded = text.encode('utf-8')\n",
    "print(f\"Encoded: {encoded}\")\n",
    "print(f\"Decoded: {encoded.decode('utf-8')}\")"
   ]
  },
  {
   "cell_type": "code",
   "execution_count": null,
   "metadata": {},
   "outputs": [],
   "source": [
    "# Bytearray (가변)\n",
    "ba = bytearray(b'Hello')\n",
    "print(f\"Original: {ba}\")\n",
    "\n",
    "ba[0] = ord('J')  # 첫 글자를 'J'로 변경\n",
    "print(f\"Modified: {ba}\")\n",
    "print(f\"As string: {ba.decode('utf-8')}\")"
   ]
  },
  {
   "cell_type": "markdown",
   "metadata": {},
   "source": [
    "## 1.5 Range\n",
    "\n",
    "### 📖 Range란?\n",
    "- **정의**: 숫자 시퀀스를 나타내는 불변 객체\n",
    "- **특징**:\n",
    "  - 실제로 모든 값을 메모리에 저장하지 않음 (지연 평가)\n",
    "  - 매우 메모리 효율적\n",
    "  - `range(start, stop, step)` 형태\n",
    "- **사용 시기**: \n",
    "  - for 루프에서 특정 횟수만큼 반복\n",
    "  - 규칙적인 숫자 시퀀스가 필요할 때\n",
    "\n",
    "### 💡 Range vs List\n",
    "- `range(1000000)`: 메모리에 시작, 끝, 간격만 저장 → 작은 메모리\n",
    "- `list(range(1000000))`: 모든 100만 개 숫자를 저장 → 큰 메모리"
   ]
  },
  {
   "cell_type": "code",
   "execution_count": null,
   "metadata": {},
   "outputs": [],
   "source": [
    "# Range 기본 사용\n",
    "r1 = range(5)           # 0, 1, 2, 3, 4\n",
    "r2 = range(1, 6)        # 1, 2, 3, 4, 5\n",
    "r3 = range(0, 10, 2)    # 0, 2, 4, 6, 8\n",
    "\n",
    "print(f\"range(5): {list(r1)}\")\n",
    "print(f\"range(1, 6): {list(r2)}\")\n",
    "print(f\"range(0, 10, 2): {list(r3)}\")"
   ]
  },
  {
   "cell_type": "code",
   "execution_count": null,
   "metadata": {},
   "outputs": [],
   "source": [
    "# Range의 메모리 효율성\n",
    "import sys\n",
    "\n",
    "# List는 모든 값을 메모리에 저장\n",
    "list_version = list(range(1000000))\n",
    "range_version = range(1000000)\n",
    "\n",
    "print(f\"List size: {sys.getsizeof(list_version):,} bytes\")\n",
    "print(f\"Range size: {sys.getsizeof(range_version):,} bytes\")"
   ]
  },
  {
   "cell_type": "markdown",
   "metadata": {},
   "source": [
    "## 🎯 연습 문제 1\n",
    "\n",
    "1. 1부터 100까지의 숫자 중 3의 배수만 포함하는 리스트를 생성하세요.\n",
    "2. 주어진 문자열을 역순으로 뒤집으세요.\n",
    "3. 튜플을 사용하여 좌표 (x, y)를 저장하고, 원점으로부터의 거리를 계산하세요."
   ]
  },
  {
   "cell_type": "code",
   "execution_count": null,
   "metadata": {},
   "outputs": [],
   "source": [
    "# 연습 문제 풀이 공간\n",
    "\n",
    "# 1. 3의 배수 리스트\n",
    "\n",
    "\n",
    "# 2. 문자열 역순\n",
    "\n",
    "\n",
    "# 3. 좌표와 거리\n"
   ]
  },
  {
   "cell_type": "markdown",
   "metadata": {},
   "source": [
    "---\n",
    "\n",
    "# 📚 2. Mapping & Set Types (50분)\n",
    "\n",
    "## 🔑 핵심 개념\n",
    "\n",
    "### Mapping Type이란?\n",
    "- **정의**: 키(key)와 값(value)을 쌍으로 저장하는 컬렉션\n",
    "- **특징**:\n",
    "  - 키로 값에 빠르게 접근 (O(1))\n",
    "  - 키는 고유해야 함 (중복 불가)\n",
    "  - 키는 hashable 객체여야 함\n",
    "- **대표 타입**: dict, OrderedDict, defaultdict, Counter\n",
    "\n",
    "### Set Type이란?\n",
    "- **정의**: 중복되지 않는 요소들의 모음\n",
    "- **특징**:\n",
    "  - 순서 없음 (unordered)\n",
    "  - 중복 자동 제거\n",
    "  - 집합 연산 지원 (합집합, 교집합, 차집합)\n",
    "  - 빠른 멤버십 테스트 (O(1))\n",
    "- **대표 타입**: set, frozenset\n",
    "\n",
    "### Hashable이란?\n",
    "- **정의**: 해시 함수로 고유한 해시 값을 생성할 수 있는 객체\n",
    "- **조건**: 불변(immutable)이어야 함\n",
    "- **Hashable**: int, float, str, tuple, frozenset\n",
    "- **Not Hashable**: list, dict, set\n",
    "- **용도**: Dictionary의 키, Set의 요소로 사용"
   ]
  },
  {
   "cell_type": "code",
   "execution_count": null,
   "metadata": {},
   "outputs": [],
   "source": [
    "# Mapping vs Set 비교\n",
    "print(\"=== Mapping Type (Dict) ===\")\n",
    "person = {'name': 'Alice', 'age': 25, 'city': 'Seoul'}\n",
    "print(f\"Person: {person}\")\n",
    "print(f\"Name 접근: person['name'] = {person['name']}\")\n",
    "print(f\"키로 빠른 검색: O(1)\\n\")\n",
    "\n",
    "print(\"=== Set Type ===\")\n",
    "numbers = {1, 2, 3, 4, 5, 5, 5}  # 중복 자동 제거\n",
    "print(f\"Set: {numbers}\")\n",
    "print(f\"3 in numbers: {3 in numbers}  # O(1) 검색\")\n",
    "print(f\"10 in numbers: {10 in numbers}\")"
   ]
  },
  {
   "cell_type": "code",
   "execution_count": null,
   "metadata": {},
   "outputs": [],
   "source": [
    "# Hashable vs Not Hashable\n",
    "print(\"\\n=== Hashable 객체 ===\")\n",
    "print(f\"hash('hello'): {hash('hello')}\")\n",
    "print(f\"hash(42): {hash(42)}\")\n",
    "print(f\"hash((1, 2, 3)): {hash((1, 2, 3))}\")\n",
    "\n",
    "print(\"\\n=== Not Hashable 객체 ===\")\n",
    "try:\n",
    "    print(hash([1, 2, 3]))\n",
    "except TypeError as e:\n",
    "    print(f\"List는 hashable하지 않음: {e}\")\n",
    "\n",
    "try:\n",
    "    print(hash({'a': 1}))\n",
    "except TypeError as e:\n",
    "    print(f\"Dict는 hashable하지 않음: {e}\")"
   ]
  },
  {
   "cell_type": "markdown",
   "metadata": {},
   "source": [
    "## 2.1 Dictionary (dict)\n",
    "\n",
    "### 📖 Dictionary란?\n",
    "- **정의**: 키-값 쌍을 저장하는 가변 매핑 타입\n",
    "- **특징**:\n",
    "  - 중괄호 `{}`로 생성\n",
    "  - 키로 값에 O(1) 시간에 접근\n",
    "  - Python 3.7+부터 삽입 순서 보장\n",
    "  - 키는 hashable 객체만 가능\n",
    "- **사용 시기**: \n",
    "  - 키-값 관계가 있는 데이터\n",
    "  - 빠른 검색이 필요할 때\n",
    "  - JSON 데이터 처리"
   ]
  },
  {
   "cell_type": "code",
   "execution_count": null,
   "metadata": {},
   "outputs": [],
   "source": [
    "# Dictionary 기본 생성\n",
    "student = {\n",
    "    'name': 'Alice',\n",
    "    'age': 20,\n",
    "    'major': 'Computer Science'\n",
    "}\n",
    "\n",
    "print(f\"Student: {student}\")\n",
    "print(f\"Name: {student['name']}\")\n",
    "print(f\"Age: {student.get('age')}\")"
   ]
  },
  {
   "cell_type": "code",
   "execution_count": null,
   "metadata": {},
   "outputs": [],
   "source": [
    "# Dictionary 메서드\n",
    "student = {'name': 'Bob', 'age': 21}\n",
    "\n",
    "# 키 추가/수정\n",
    "student['grade'] = 'A'\n",
    "student['age'] = 22\n",
    "\n",
    "print(f\"Updated: {student}\")\n",
    "print(f\"Keys: {student.keys()}\")\n",
    "print(f\"Values: {student.values()}\")\n",
    "print(f\"Items: {student.items()}\")"
   ]
  },
  {
   "cell_type": "code",
   "execution_count": null,
   "metadata": {},
   "outputs": [],
   "source": [
    "# Dictionary comprehension\n",
    "numbers = [1, 2, 3, 4, 5]\n",
    "squares_dict = {x: x**2 for x in numbers}\n",
    "print(f\"Squares: {squares_dict}\")\n",
    "\n",
    "# 조건부 dictionary comprehension\n",
    "even_squares = {x: x**2 for x in range(1, 11) if x % 2 == 0}\n",
    "print(f\"Even squares: {even_squares}\")"
   ]
  },
  {
   "cell_type": "markdown",
   "metadata": {},
   "source": [
    "## 2.2 collections 모듈\n",
    "\n",
    "### 📖 collections 모듈이란?\n",
    "- **정의**: Python 표준 라이브러리의 특수 컨테이너 자료형 모듈\n",
    "- **제공하는 주요 자료구조**:\n",
    "  - **OrderedDict**: 순서 보장 + 순서 관련 메서드 제공\n",
    "  - **defaultdict**: 기본값을 자동으로 생성하는 dict\n",
    "  - **Counter**: 카운팅에 특화된 dict\n",
    "  - **deque**: 양방향 큐 (이번 강의에서는 다루지 않음)\n",
    "  - **namedtuple**: 필드 이름이 있는 tuple (이번 강의에서는 다루지 않음)\n",
    "\n",
    "### 💡 언제 collections 모듈을 사용하나요?\n",
    "- 일반 dict/list로는 코드가 복잡해질 때\n",
    "- 특정 패턴의 작업을 자주 할 때 (카운팅, 그룹화 등)\n",
    "- 코드를 더 간결하고 명확하게 만들고 싶을 때"
   ]
  },
  {
   "cell_type": "code",
   "execution_count": null,
   "metadata": {},
   "outputs": [],
   "source": [
    "from collections import OrderedDict\n",
    "\n",
    "# OrderedDict - 삽입 순서 보장 (Python 3.7+에서는 일반 dict도 순서 보장)\n",
    "od = OrderedDict()\n",
    "od['banana'] = 3\n",
    "od['apple'] = 4\n",
    "od['pear'] = 1\n",
    "\n",
    "print(f\"OrderedDict: {od}\")\n",
    "\n",
    "# move_to_end 메서드\n",
    "od.move_to_end('banana')\n",
    "print(f\"After move_to_end: {od}\")"
   ]
  },
  {
   "cell_type": "code",
   "execution_count": null,
   "metadata": {},
   "outputs": [],
   "source": [
    "from collections import defaultdict\n",
    "\n",
    "# defaultdict - 기본값 자동 생성\n",
    "word_count = defaultdict(int)\n",
    "\n",
    "words = ['apple', 'banana', 'apple', 'cherry', 'banana', 'apple']\n",
    "for word in words:\n",
    "    word_count[word] += 1\n",
    "\n",
    "print(f\"Word count: {dict(word_count)}\")\n",
    "\n",
    "# defaultdict with list\n",
    "group_by_length = defaultdict(list)\n",
    "for word in words:\n",
    "    group_by_length[len(word)].append(word)\n",
    "\n",
    "print(f\"Grouped by length: {dict(group_by_length)}\")"
   ]
  },
  {
   "cell_type": "code",
   "execution_count": null,
   "metadata": {},
   "outputs": [],
   "source": [
    "from collections import Counter\n",
    "\n",
    "# Counter - 카운팅 특화\n",
    "words = ['apple', 'banana', 'apple', 'cherry', 'banana', 'apple', 'date']\n",
    "counter = Counter(words)\n",
    "\n",
    "print(f\"Counter: {counter}\")\n",
    "print(f\"Most common 2: {counter.most_common(2)}\")\n",
    "print(f\"Apple count: {counter['apple']}\")\n",
    "\n",
    "# Counter 연산\n",
    "c1 = Counter(['a', 'b', 'c', 'a'])\n",
    "c2 = Counter(['a', 'b', 'd'])\n",
    "\n",
    "print(f\"c1 + c2: {c1 + c2}\")\n",
    "print(f\"c1 - c2: {c1 - c2}\")"
   ]
  },
  {
   "cell_type": "markdown",
   "metadata": {},
   "source": [
    "## 2.3 Set (집합)\n",
    "\n",
    "### 📖 Set이란?\n",
    "- **정의**: 중복되지 않는 요소들의 가변 컬렉션\n",
    "- **특징**:\n",
    "  - 중괄호 `{}`로 생성 (빈 set은 `set()`)\n",
    "  - 순서 없음 (unordered)\n",
    "  - 중복 자동 제거\n",
    "  - O(1) 검색/삽입/삭제\n",
    "  - 수학적 집합 연산 지원\n",
    "- **사용 시기**:\n",
    "  - 중복 제거가 필요할 때\n",
    "  - 빠른 멤버십 테스트 (in 연산)\n",
    "  - 집합 연산 (교집합, 합집합 등)\n",
    "\n",
    "### 💡 Set의 집합 연산\n",
    "- **Union (합집합)**: `a | b` 또는 `a.union(b)`\n",
    "- **Intersection (교집합)**: `a & b` 또는 `a.intersection(b)`\n",
    "- **Difference (차집합)**: `a - b` 또는 `a.difference(b)`\n",
    "- **Symmetric Difference (대칭차)**: `a ^ b` 또는 `a.symmetric_difference(b)`"
   ]
  },
  {
   "cell_type": "code",
   "execution_count": null,
   "metadata": {},
   "outputs": [],
   "source": [
    "# Set 생성\n",
    "fruits = {'apple', 'banana', 'cherry'}\n",
    "numbers = set([1, 2, 3, 2, 1])  # 중복 제거됨\n",
    "\n",
    "print(f\"Fruits: {fruits}\")\n",
    "print(f\"Numbers: {numbers}\")\n",
    "\n",
    "# Set에 요소 추가\n",
    "fruits.add('date')\n",
    "print(f\"After add: {fruits}\")"
   ]
  },
  {
   "cell_type": "code",
   "execution_count": null,
   "metadata": {},
   "outputs": [],
   "source": [
    "# Set operations (집합 연산)\n",
    "a = {1, 2, 3, 4, 5}\n",
    "b = {4, 5, 6, 7, 8}\n",
    "\n",
    "print(f\"A: {a}\")\n",
    "print(f\"B: {b}\")\n",
    "print()\n",
    "print(f\"Union (합집합): {a | b}\")\n",
    "print(f\"Intersection (교집합): {a & b}\")\n",
    "print(f\"Difference (차집합): {a - b}\")\n",
    "print(f\"Symmetric Difference (대칭차): {a ^ b}\")"
   ]
  },
  {
   "cell_type": "code",
   "execution_count": null,
   "metadata": {},
   "outputs": [],
   "source": [
    "# Set methods\n",
    "set1 = {1, 2, 3}\n",
    "set2 = {2, 3, 4}\n",
    "\n",
    "print(f\"Is subset: {set1.issubset({1, 2, 3, 4, 5})}\")\n",
    "print(f\"Is superset: {{1, 2, 3, 4, 5}.issuperset(set1)}\")\n",
    "print(f\"Is disjoint: {set1.isdisjoint({4, 5, 6})}\")"
   ]
  },
  {
   "cell_type": "markdown",
   "metadata": {},
   "source": [
    "## 2.4 Frozenset (불변 Set)\n",
    "\n",
    "### 📖 Frozenset이란?\n",
    "- **정의**: 불변(immutable) 집합\n",
    "- **특징**:\n",
    "  - Set의 불변 버전\n",
    "  - 생성 후 수정 불가 (요소 추가/삭제 불가)\n",
    "  - Hashable → Dict의 키나 Set의 요소로 사용 가능\n",
    "  - 집합 연산은 가능\n",
    "- **사용 시기**:\n",
    "  - 변경되지 않아야 하는 집합 데이터\n",
    "  - Dictionary의 키로 집합을 사용해야 할 때\n",
    "  - Set의 요소로 집합을 사용해야 할 때\n",
    "\n",
    "### 💡 Set vs Frozenset\n",
    "| 특성 | Set | Frozenset |\n",
    "|------|-----|----------|\n",
    "| 가변성 | Mutable | Immutable |\n",
    "| 요소 추가/삭제 | 가능 | 불가능 |\n",
    "| Hashable | ✗ | ✓ |\n",
    "| Dict 키 사용 | 불가 | 가능 |\n",
    "| Set 요소 사용 | 불가 | 가능 |"
   ]
  },
  {
   "cell_type": "code",
   "execution_count": null,
   "metadata": {},
   "outputs": [],
   "source": [
    "# Frozenset 생성\n",
    "fs = frozenset([1, 2, 3, 4, 5])\n",
    "print(f\"Frozenset: {fs}\")\n",
    "\n",
    "# Frozenset은 dictionary의 키로 사용 가능\n",
    "sets_dict = {\n",
    "    frozenset([1, 2]): 'set A',\n",
    "    frozenset([3, 4]): 'set B'\n",
    "}\n",
    "\n",
    "print(f\"Dictionary with frozenset keys: {sets_dict}\")\n",
    "print(f\"Value for {{1, 2}}: {sets_dict[frozenset([1, 2])]}\")"
   ]
  },
  {
   "cell_type": "markdown",
   "metadata": {},
   "source": [
    "## 🎯 연습 문제 2\n",
    "\n",
    "1. 문자열에서 각 문자의 등장 횟수를 Counter로 세고, 가장 많이 등장한 문자 3개를 출력하세요.\n",
    "2. 두 리스트에서 공통 요소와 고유 요소를 set을 사용하여 찾으세요.\n",
    "3. defaultdict를 사용하여 학생들의 성적을 과목별로 그룹화하세요."
   ]
  },
  {
   "cell_type": "code",
   "execution_count": null,
   "metadata": {},
   "outputs": [],
   "source": [
    "# 연습 문제 풀이 공간\n",
    "\n",
    "# 1. Counter 사용\n",
    "\n",
    "\n",
    "# 2. Set 연산\n",
    "\n",
    "\n",
    "# 3. defaultdict 사용\n"
   ]
  },
  {
   "cell_type": "markdown",
   "metadata": {},
   "source": [
    "---\n",
    "\n",
    "# 📚 3. Performance & Best Practices (50분)\n",
    "\n",
    "## 🔑 핵심 개념\n",
    "\n",
    "### Time Complexity (시간 복잡도)란?\n",
    "- **정의**: 알고리즘이 실행되는 데 걸리는 시간을 입력 크기에 따라 표현한 것\n",
    "- **Big-O 표기법**: 최악의 경우를 나타냄\n",
    "  - **O(1)**: 상수 시간 - 입력 크기와 무관 (가장 빠름)\n",
    "  - **O(log n)**: 로그 시간 - 이진 탐색\n",
    "  - **O(n)**: 선형 시간 - 모든 요소를 한 번씩 확인\n",
    "  - **O(n log n)**: 선형 로그 시간 - 효율적인 정렬\n",
    "  - **O(n²)**: 이차 시간 - 중첩 루프\n",
    "\n",
    "### Space Complexity (공간 복잡도)란?\n",
    "- **정의**: 알고리즘이 실행되는 데 필요한 메모리 공간\n",
    "- **고려사항**: 대용량 데이터를 다룰 때 중요\n",
    "\n",
    "### Hash Table이란?\n",
    "- **정의**: 키를 해시 함수로 변환하여 값을 저장/검색하는 자료구조\n",
    "- **원리**: \n",
    "  1. 키를 해시 함수에 넣어 해시 값(정수) 생성\n",
    "  2. 해시 값을 인덱스로 사용하여 값 저장/검색\n",
    "- **장점**: O(1) 검색/삽입/삭제\n",
    "- **Python에서**: Dict와 Set이 해시 테이블로 구현됨\n",
    "\n",
    "### 💡 왜 성능이 중요한가요?\n",
    "- 작은 데이터: 성능 차이 미미\n",
    "- 큰 데이터: 성능 차이가 실행 시간에 큰 영향\n",
    "- 예: 100만 개 데이터에서 검색\n",
    "  - List (O(n)): 최대 100만 번 비교\n",
    "  - Set (O(1)): 약 1번 비교"
   ]
  },
  {
   "cell_type": "markdown",
   "metadata": {},
   "source": [
    "## 3.1 Time Complexity 비교\n",
    "\n",
    "각 자료구조의 연산별 시간 복잡도를 이해하는 것이 중요합니다."
   ]
  },
  {
   "cell_type": "code",
   "execution_count": null,
   "metadata": {},
   "outputs": [],
   "source": [
    "import time\n",
    "\n",
    "# List vs Set - Membership test\n",
    "size = 100000\n",
    "test_list = list(range(size))\n",
    "test_set = set(range(size))\n",
    "target = size - 1  # 최악의 경우 (마지막 요소)\n",
    "\n",
    "# List search: O(n)\n",
    "start = time.time()\n",
    "result = target in test_list\n",
    "list_time = time.time() - start\n",
    "\n",
    "# Set search: O(1)\n",
    "start = time.time()\n",
    "result = target in test_set\n",
    "set_time = time.time() - start\n",
    "\n",
    "print(f\"List search time: {list_time:.6f} seconds\")\n",
    "print(f\"Set search time: {set_time:.6f} seconds\")\n",
    "print(f\"Speed difference: {list_time / set_time:.1f}x faster\")"
   ]
  },
  {
   "cell_type": "markdown",
   "metadata": {},
   "source": [
    "### 시간 복잡도 요약\n",
    "\n",
    "| 연산 | List | Set | Dict |\n",
    "|------|------|-----|------|\n",
    "| 검색 | O(n) | O(1) | O(1) |\n",
    "| 삽입 | O(1)* | O(1) | O(1) |\n",
    "| 삭제 | O(n) | O(1) | O(1) |\n",
    "| 정렬 | O(n log n) | - | - |\n",
    "\n",
    "*List의 append는 O(1), insert는 O(n)"
   ]
  },
  {
   "cell_type": "code",
   "execution_count": null,
   "metadata": {},
   "outputs": [],
   "source": [
    "# List 연산 시간 복잡도 실험\n",
    "test_list = list(range(100000))\n",
    "\n",
    "# append: O(1)\n",
    "start = time.time()\n",
    "test_list.append(100001)\n",
    "print(f\"Append time: {time.time() - start:.6f} seconds\")\n",
    "\n",
    "# insert at beginning: O(n)\n",
    "start = time.time()\n",
    "test_list.insert(0, -1)\n",
    "print(f\"Insert at start time: {time.time() - start:.6f} seconds\")\n",
    "\n",
    "# pop from end: O(1)\n",
    "start = time.time()\n",
    "test_list.pop()\n",
    "print(f\"Pop from end time: {time.time() - start:.6f} seconds\")\n",
    "\n",
    "# pop from beginning: O(n)\n",
    "start = time.time()\n",
    "test_list.pop(0)\n",
    "print(f\"Pop from start time: {time.time() - start:.6f} seconds\")"
   ]
  },
  {
   "cell_type": "markdown",
   "metadata": {},
   "source": [
    "## 3.2 Hashing 메커니즘\n",
    "\n",
    "Set과 Dict가 O(1) 검색을 가능하게 하는 Hashing의 원리를 이해합니다."
   ]
  },
  {
   "cell_type": "code",
   "execution_count": null,
   "metadata": {},
   "outputs": [],
   "source": [
    "# Hash 함수\n",
    "print(f\"Hash of 'hello': {hash('hello')}\")\n",
    "print(f\"Hash of 42: {hash(42)}\")\n",
    "print(f\"Hash of (1, 2, 3): {hash((1, 2, 3))}\")\n",
    "\n",
    "# Hashable vs Unhashable\n",
    "try:\n",
    "    print(hash([1, 2, 3]))  # List는 hashable하지 않음\n",
    "except TypeError as e:\n",
    "    print(f\"Error: {e}\")"
   ]
  },
  {
   "cell_type": "code",
   "execution_count": null,
   "metadata": {},
   "outputs": [],
   "source": [
    "# Hashable 객체의 조건\n",
    "# 1. 불변(immutable)이어야 함\n",
    "# 2. __hash__() 메서드를 구현해야 함\n",
    "# 3. __eq__() 메서드를 구현해야 함\n",
    "\n",
    "class Point:\n",
    "    def __init__(self, x, y):\n",
    "        self.x = x\n",
    "        self.y = y\n",
    "    \n",
    "    def __hash__(self):\n",
    "        return hash((self.x, self.y))\n",
    "    \n",
    "    def __eq__(self, other):\n",
    "        return self.x == other.x and self.y == other.y\n",
    "    \n",
    "    def __repr__(self):\n",
    "        return f\"Point({self.x}, {self.y})\"\n",
    "\n",
    "# Set에 사용 가능\n",
    "points = {Point(1, 2), Point(3, 4), Point(1, 2)}  # 중복 제거됨\n",
    "print(f\"Points set: {points}\")\n",
    "\n",
    "# Dict의 키로 사용 가능\n",
    "point_names = {\n",
    "    Point(0, 0): \"Origin\",\n",
    "    Point(1, 0): \"Unit X\",\n",
    "    Point(0, 1): \"Unit Y\"\n",
    "}\n",
    "print(f\"Point names: {point_names}\")"
   ]
  },
  {
   "cell_type": "markdown",
   "metadata": {},
   "source": [
    "## 3.3 적절한 자료구조 선택 기준\n",
    "\n",
    "상황에 맞는 자료구조를 선택하는 것이 중요합니다."
   ]
  },
  {
   "cell_type": "code",
   "execution_count": null,
   "metadata": {},
   "outputs": [],
   "source": [
    "# 시나리오 1: 중복 제거\n",
    "numbers_with_duplicates = [1, 2, 2, 3, 3, 3, 4, 4, 4, 4]\n",
    "\n",
    "# Bad: List comprehension (O(n²))\n",
    "unique_list = []\n",
    "for num in numbers_with_duplicates:\n",
    "    if num not in unique_list:\n",
    "        unique_list.append(num)\n",
    "\n",
    "# Good: Set (O(n))\n",
    "unique_set = set(numbers_with_duplicates)\n",
    "unique_list_from_set = list(unique_set)\n",
    "\n",
    "print(f\"Unique (bad way): {unique_list}\")\n",
    "print(f\"Unique (good way): {sorted(unique_list_from_set)}\")"
   ]
  },
  {
   "cell_type": "code",
   "execution_count": null,
   "metadata": {},
   "outputs": [],
   "source": [
    "# 시나리오 2: 빈도 카운팅\n",
    "words = ['apple', 'banana', 'apple', 'cherry', 'banana', 'apple']\n",
    "\n",
    "# Bad: Manual counting with dict\n",
    "count_dict = {}\n",
    "for word in words:\n",
    "    if word in count_dict:\n",
    "        count_dict[word] += 1\n",
    "    else:\n",
    "        count_dict[word] = 1\n",
    "\n",
    "# Better: defaultdict\n",
    "from collections import defaultdict\n",
    "count_defaultdict = defaultdict(int)\n",
    "for word in words:\n",
    "    count_defaultdict[word] += 1\n",
    "\n",
    "# Best: Counter\n",
    "from collections import Counter\n",
    "count_counter = Counter(words)\n",
    "\n",
    "print(f\"Manual dict: {count_dict}\")\n",
    "print(f\"Defaultdict: {dict(count_defaultdict)}\")\n",
    "print(f\"Counter: {count_counter}\")\n",
    "print(f\"Most common: {count_counter.most_common(2)}\")"
   ]
  },
  {
   "cell_type": "code",
   "execution_count": null,
   "metadata": {},
   "outputs": [],
   "source": [
    "# 시나리오 3: 순서가 중요한 경우\n",
    "# List: 순서 보장, 인덱스 접근, 중복 허용\n",
    "# Tuple: 불변, 순서 보장, 중복 허용\n",
    "# OrderedDict: 순서 보장, 키-값 쌍, 중복 키 불가\n",
    "\n",
    "# 학생 성적을 입력 순서대로 관리\n",
    "from collections import OrderedDict\n",
    "\n",
    "grades = OrderedDict()\n",
    "grades['Alice'] = 95\n",
    "grades['Bob'] = 87\n",
    "grades['Charlie'] = 92\n",
    "\n",
    "print(\"Grades in order:\")\n",
    "for name, grade in grades.items():\n",
    "    print(f\"  {name}: {grade}\")"
   ]
  },
  {
   "cell_type": "markdown",
   "metadata": {},
   "source": [
    "## 3.4 Space Complexity (공간 복잡도)\n",
    "\n",
    "메모리 사용량도 고려해야 합니다."
   ]
  },
  {
   "cell_type": "code",
   "execution_count": null,
   "metadata": {},
   "outputs": [],
   "source": [
    "import sys\n",
    "\n",
    "# 동일한 데이터의 메모리 사용량 비교\n",
    "data = list(range(10000))\n",
    "\n",
    "as_list = data\n",
    "as_tuple = tuple(data)\n",
    "as_set = set(data)\n",
    "as_dict = {i: i for i in data}\n",
    "\n",
    "print(f\"List size: {sys.getsizeof(as_list):,} bytes\")\n",
    "print(f\"Tuple size: {sys.getsizeof(as_tuple):,} bytes\")\n",
    "print(f\"Set size: {sys.getsizeof(as_set):,} bytes\")\n",
    "print(f\"Dict size: {sys.getsizeof(as_dict):,} bytes\")"
   ]
  },
  {
   "cell_type": "markdown",
   "metadata": {},
   "source": [
    "## 3.5 Best Practices 요약"
   ]
  },
  {
   "cell_type": "code",
   "execution_count": null,
   "metadata": {},
   "outputs": [],
   "source": [
    "# Best Practice 1: 멤버십 테스트에는 Set 사용\n",
    "# Bad\n",
    "allowed_users = ['alice', 'bob', 'charlie']  # List\n",
    "if 'alice' in allowed_users:  # O(n)\n",
    "    print(\"Allowed\")\n",
    "\n",
    "# Good\n",
    "allowed_users = {'alice', 'bob', 'charlie'}  # Set\n",
    "if 'alice' in allowed_users:  # O(1)\n",
    "    print(\"Allowed\")"
   ]
  },
  {
   "cell_type": "code",
   "execution_count": null,
   "metadata": {},
   "outputs": [],
   "source": [
    "# Best Practice 2: 카운팅에는 Counter 사용\n",
    "from collections import Counter\n",
    "\n",
    "# Bad\n",
    "words = ['apple', 'banana', 'apple']\n",
    "word_count = {}\n",
    "for word in words:\n",
    "    word_count[word] = word_count.get(word, 0) + 1\n",
    "\n",
    "# Good\n",
    "word_count = Counter(words)\n",
    "print(word_count.most_common(1))"
   ]
  },
  {
   "cell_type": "code",
   "execution_count": null,
   "metadata": {},
   "outputs": [],
   "source": [
    "# Best Practice 3: 불변 데이터에는 Tuple 사용\n",
    "# Bad: List for coordinates (가변이지만 변경할 필요 없음)\n",
    "point = [3, 4]\n",
    "point[0] = 5  # 실수로 변경 가능\n",
    "\n",
    "# Good: Tuple for coordinates (불변)\n",
    "point = (3, 4)\n",
    "# point[0] = 5  # Error: tuple은 변경 불가"
   ]
  },
  {
   "cell_type": "code",
   "execution_count": null,
   "metadata": {},
   "outputs": [],
   "source": [
    "# Best Practice 4: 키-값 매핑에는 Dict 사용\n",
    "# Bad: Two parallel lists\n",
    "names = ['Alice', 'Bob', 'Charlie']\n",
    "ages = [25, 30, 35]\n",
    "# Alice의 나이를 찾으려면 인덱스를 찾아야 함\n",
    "index = names.index('Alice')\n",
    "alice_age = ages[index]\n",
    "\n",
    "# Good: Dictionary\n",
    "people = {'Alice': 25, 'Bob': 30, 'Charlie': 35}\n",
    "alice_age = people['Alice']  # 직접 접근\n",
    "print(f\"Alice's age: {alice_age}\")"
   ]
  },
  {
   "cell_type": "markdown",
   "metadata": {},
   "source": [
    "## 🎯 종합 연습 문제\n",
    "\n",
    "다음 시나리오에 가장 적합한 자료구조를 선택하고 구현하세요:\n",
    "\n",
    "1. 웹사이트 방문자 로그 분석: 각 페이지의 방문 횟수 카운팅\n",
    "2. 두 사용자의 친구 목록에서 공통 친구 찾기\n",
    "3. 학생들의 과목별 성적 저장 및 조회\n",
    "4. 최근 검색어 10개 저장 (순서 유지, 중복 제거)"
   ]
  },
  {
   "cell_type": "code",
   "execution_count": null,
   "metadata": {},
   "outputs": [],
   "source": [
    "# 종합 연습 문제 풀이 공간\n",
    "\n",
    "# 1. 페이지 방문 횟수 카운팅\n",
    "\n",
    "\n",
    "# 2. 공통 친구 찾기\n",
    "\n",
    "\n",
    "# 3. 학생 성적 관리\n",
    "\n",
    "\n",
    "# 4. 최근 검색어 관리\n"
   ]
  },
  {
   "cell_type": "markdown",
   "metadata": {},
   "source": [
    "---\n",
    "\n",
    "# 🎯 체크리스트\n",
    "\n",
    "이번 강의를 통해 다음을 할 수 있나요?\n",
    "\n",
    "- [ ] 각 Collection의 시간 복잡도를 안다\n",
    "- [ ] 상황에 맞는 자료구조를 선택할 수 있다\n",
    "- [ ] collections 모듈을 활용할 수 있다\n",
    "- [ ] Hashable 개념을 이해한다\n",
    "- [ ] List vs Tuple의 차이를 설명할 수 있다\n",
    "- [ ] Set operations을 활용할 수 있다\n",
    "- [ ] Dict vs OrderedDict vs defaultdict의 차이를 안다\n",
    "- [ ] Counter를 활용한 카운팅을 할 수 있다\n",
    "\n",
    "---"
   ]
  },
  {
   "cell_type": "markdown",
   "metadata": {},
   "source": [
    "# 💡 핵심 요약\n",
    "\n",
    "## Sequence Types\n",
    "- **List**: 가변, 순서 보장, 중복 허용, O(n) 검색\n",
    "- **Tuple**: 불변, 순서 보장, 중복 허용, 메모리 효율적\n",
    "- **String**: 불변 텍스트, 다양한 문자열 메서드 제공\n",
    "- **Bytes/Bytearray**: 바이트 데이터 처리\n",
    "- **Range**: 메모리 효율적인 숫자 시퀀스\n",
    "\n",
    "## Mapping & Set Types\n",
    "- **Dict**: 키-값 쌍, O(1) 검색/삽입/삭제\n",
    "- **OrderedDict**: 순서 보장 + 추가 메서드\n",
    "- **defaultdict**: 기본값 자동 생성\n",
    "- **Counter**: 카운팅 특화\n",
    "- **Set/Frozenset**: 중복 제거, O(1) 멤버십 테스트\n",
    "\n",
    "## Performance\n",
    "- **List**: 인덱스 접근 O(1), 검색 O(n)\n",
    "- **Set/Dict**: 검색/삽입/삭제 O(1)\n",
    "- **Hashing**: hashable 객체만 dict 키나 set 요소 가능\n",
    "\n",
    "## 선택 기준\n",
    "- **멤버십 테스트 빈번** → Set\n",
    "- **키-값 매핑** → Dict\n",
    "- **카운팅** → Counter\n",
    "- **순서 중요 + 불변** → Tuple\n",
    "- **순서 중요 + 가변** → List\n",
    "\n",
    "---"
   ]
  },
  {
   "cell_type": "markdown",
   "metadata": {},
   "source": [
    "# 📚 추가 학습 자료\n",
    "\n",
    "- **필수:**\n",
    "  - Collections: https://ds31x.tistory.com/122\n",
    "  - List: https://ds31x.tistory.com/34\n",
    "  - String: https://ds31x.tistory.com/125\n",
    "  - Dict: https://ds31x.tistory.com/31\n",
    "\n",
    "- **권장:**\n",
    "  - collections.abc: https://ds31x.tistory.com/241\n",
    "  - Hashing: https://ds31x.tistory.com/248\n",
    "\n",
    "---"
   ]
  }
 ],
 "metadata": {
  "kernelspec": {
   "display_name": "Python 3",
   "language": "python",
   "name": "python3"
  },
  "language_info": {
   "codemirror_mode": {
    "name": "ipython",
    "version": 3
   },
   "file_extension": ".py",
   "mimetype": "text/x-python",
   "name": "python",
   "nbconvert_exporter": "python",
   "pygments_lexer": "ipython3",
   "version": "3.8.0"
  }
 },
 "nbformat": 4,
 "nbformat_minor": 4
}