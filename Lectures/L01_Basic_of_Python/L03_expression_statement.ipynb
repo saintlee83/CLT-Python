{
 "cells": [
  {
   "cell_type": "markdown",
   "metadata": {},
   "source": [
    "# 📅 Class 3. Expression & Statement\n",
    "\n",
    "## 📋 학습 목표\n",
    "1. Expression과 Statement의 차이를 명확히 구분할 수 있다\n",
    "2. AST(Abstract Syntax Tree)를 읽고 해석할 수 있다\n",
    "3. eval()과 exec()의 차이를 이해하고 올바르게 사용할 수 있다\n",
    "4. Compound Statement의 구조를 이해할 수 있다\n"
   ]
  },
  {
   "cell_type": "markdown",
   "metadata": {},
   "source": [
    "## 🕐 1. Expression의 모든 것\n",
    "\n",
    "### 1.1 Expression이란?\n",
    "\n",
    "#### 💡 핵심 정의\n",
    "\n",
    "**Expression (표현식)**: \"하나의 값으로 reduce(축약) 가능한 코드\"\n",
    "\n",
    "```\n",
    "Expression → 평가(Evaluation) → 값(Value)\n",
    "```\n",
    "\n",
    "**핵심 특징**:\n",
    "- 항상 **값을 생성**\n",
    "- 다른 Expression의 **일부가 될 수 있음**\n",
    "- 함수의 **인자로 사용 가능**\n",
    "- 변수에 **할당 가능**"
   ]
  },
  {
   "cell_type": "code",
   "execution_count": 1,
   "metadata": {},
   "outputs": [
    {
     "name": "stdout",
     "output_type": "stream",
     "text": [
      "=== Expression 예시 ===\n",
      "\n",
      "2 + 3 = 5\n",
      "10 > 5 = True\n",
      "'Hello'.upper() = HELLO\n",
      "\n",
      "(2 + 3) * (4 + 5) = 45\n",
      "\n",
      "max(10, 20) = 20\n",
      "len([1, 2, 3]) = 3\n"
     ]
    }
   ],
   "source": [
    "# Expression 기본 예시\n",
    "print(\"=== Expression 예시 ===\")\n",
    "print()\n",
    "\n",
    "# Expression은 값을 생성\n",
    "print(f\"2 + 3 = {2 + 3}\")  # 5를 생성\n",
    "print(f\"10 > 5 = {10 > 5}\")  # True를 생성\n",
    "print(f\"'Hello'.upper() = {'Hello'.upper()}\")  # 'HELLO'를 생성\n",
    "print()\n",
    "\n",
    "# Expression은 중첩 가능\n",
    "result = (2 + 3) * (4 + 5)\n",
    "print(f\"(2 + 3) * (4 + 5) = {result}\")\n",
    "print()\n",
    "\n",
    "# Expression은 인자로 전달 가능\n",
    "print(f\"max(10, 20) = {max(10, 20)}\")\n",
    "print(f\"len([1, 2, 3]) = {len([1, 2, 3])}\")"
   ]
  },
  {
   "cell_type": "markdown",
   "metadata": {},
   "source": [
    "### 1.2 Expression의 종류\n",
    "\n",
    "```\n",
    "Expression 분류\n",
    "│\n",
    "├─ 1. Literal Expression\n",
    "│   └─ 42, \"Hello\", [1, 2, 3]\n",
    "│\n",
    "├─ 2. Arithmetic Expression\n",
    "│   └─ 2 + 3, x * y, 10 / 2\n",
    "│\n",
    "├─ 3. Boolean Expression\n",
    "│   └─ x > 5, a and b, not flag\n",
    "│\n",
    "├─ 4. Function Call Expression\n",
    "│   └─ len([1, 2]), max(10, 20)\n",
    "│\n",
    "├─ 5. Lambda Expression\n",
    "│   └─ lambda x: x + 1\n",
    "│\n",
    "└─ 6. Comprehension Expression\n",
    "    └─ [x*2 for x in range(5)]\n",
    "```"
   ]
  },
  {
   "cell_type": "code",
   "execution_count": 2,
   "metadata": {},
   "outputs": [
    {
     "name": "stdout",
     "output_type": "stream",
     "text": [
      "=== Expression 종류 ===\n",
      "\n",
      "1. Literal: 42, Hello, [1, 2, 3]\n",
      "2. Arithmetic: 2 + 3 = 5\n",
      "3. Boolean: 10 > 5 = True\n",
      "4. Function Call: len([1,2,3]) = 3\n",
      "5. Lambda: square(5) = 25\n",
      "6. Comprehension: [x*2 for x in range(5)] = [0, 2, 4, 6, 8]\n"
     ]
    }
   ],
   "source": [
    "# Expression 종류별 예시\n",
    "print(\"=== Expression 종류 ===\")\n",
    "print()\n",
    "\n",
    "# 1. Literal Expression\n",
    "print(f\"1. Literal: {42}, {'Hello'}, {[1, 2, 3]}\")\n",
    "\n",
    "# 2. Arithmetic Expression\n",
    "print(f\"2. Arithmetic: 2 + 3 = {2 + 3}\")\n",
    "\n",
    "# 3. Boolean Expression\n",
    "print(f\"3. Boolean: 10 > 5 = {10 > 5}\")\n",
    "\n",
    "# 4. Function Call\n",
    "print(f\"4. Function Call: len([1,2,3]) = {len([1, 2, 3])}\")\n",
    "\n",
    "# 5. Lambda\n",
    "square = lambda x: x ** 2\n",
    "print(f\"5. Lambda: square(5) = {square(5)}\")\n",
    "\n",
    "# 6. Comprehension\n",
    "print(f\"6. Comprehension: [x*2 for x in range(5)] = {[x*2 for x in range(5)]}\")"
   ]
  },
  {
   "cell_type": "markdown",
   "metadata": {},
   "source": [
    "### 1.3 Operator 우선순위\n",
    "\n",
    "| 우선순위 | 연산자 | 설명 |\n",
    "|----------|--------|------|\n",
    "| 1 (높음) | () | 괄호 |\n",
    "| 2 | ** | 거듭제곱 |\n",
    "| 3 | *, /, //, % | 곱셈, 나눗셈 |\n",
    "| 4 | +, - | 덧셈, 뺄셈 |\n",
    "| 5 | ==, !=, <, > | 비교 |\n",
    "| 6 | not | 논리 NOT |\n",
    "| 7 | and | 논리 AND |\n",
    "| 8 (낮음) | or | 논리 OR |"
   ]
  },
  {
   "cell_type": "code",
   "execution_count": 3,
   "metadata": {},
   "outputs": [
    {
     "name": "stdout",
     "output_type": "stream",
     "text": [
      "=== Operator 우선순위 ===\n",
      "\n",
      "2 + 3 * 4 = 14  (= 2 + 12)\n",
      "(2 + 3) * 4 = 20  (괄호로 변경)\n",
      "\n",
      "2 * 3 ** 2 = 18  (= 2 * 9)\n",
      "(2 * 3) ** 2 = 36  (괄호로 변경)\n",
      "\n",
      "x < y and y < 15 = True\n",
      "  → 먼저 비교(True and True), 그 다음 and\n"
     ]
    }
   ],
   "source": [
    "# Operator 우선순위\n",
    "print(\"=== Operator 우선순위 ===\")\n",
    "print()\n",
    "\n",
    "# 곱셈 > 덧셈\n",
    "print(f\"2 + 3 * 4 = {2 + 3 * 4}  (= 2 + 12)\")\n",
    "print(f\"(2 + 3) * 4 = {(2 + 3) * 4}  (괄호로 변경)\")\n",
    "print()\n",
    "\n",
    "# 거듭제곱 > 곱셈\n",
    "print(f\"2 * 3 ** 2 = {2 * 3 ** 2}  (= 2 * 9)\")\n",
    "print(f\"(2 * 3) ** 2 = {(2 * 3) ** 2}  (괄호로 변경)\")\n",
    "print()\n",
    "\n",
    "# 비교 > 논리\n",
    "x, y = 5, 10\n",
    "print(f\"x < y and y < 15 = {x < y and y < 15}\")\n",
    "print(f\"  → 먼저 비교(True and True), 그 다음 and\")"
   ]
  },
  {
   "cell_type": "markdown",
   "metadata": {},
   "source": [
    "### 1.4 결합성 (Associativity)\n",
    "\n",
    "**좌결합 (Left-associative)**: 왼쪽부터 계산\n",
    "- 대부분의 연산자: +, -, *, /\n",
    "\n",
    "**우결합 (Right-associative)**: 오른쪽부터 계산\n",
    "- 거듭제곱: **\n",
    "- 할당: ="
   ]
  },
  {
   "cell_type": "code",
   "execution_count": 4,
   "metadata": {},
   "outputs": [
    {
     "name": "stdout",
     "output_type": "stream",
     "text": [
      "=== 결합성 ===\n",
      "\n",
      "좌결합 (대부분):\n",
      "  10 - 3 - 2 = 5  (= (10-3)-2 = 5)\n",
      "\n",
      "우결합 (거듭제곱):\n",
      "  2 ** 3 ** 2 = 512  (= 2**(3**2) = 512)\n",
      "  (2 ** 3) ** 2 = 64  (좌결합 강제 = 64)\n"
     ]
    }
   ],
   "source": [
    "# 결합성\n",
    "print(\"=== 결합성 ===\")\n",
    "print()\n",
    "\n",
    "# 좌결합\n",
    "print(\"좌결합 (대부분):\")\n",
    "print(f\"  10 - 3 - 2 = {10 - 3 - 2}  (= (10-3)-2 = 5)\")\n",
    "print()\n",
    "\n",
    "# 우결합 (거듭제곱)\n",
    "print(\"우결합 (거듭제곱):\")\n",
    "print(f\"  2 ** 3 ** 2 = {2 ** 3 ** 2}  (= 2**(3**2) = 512)\")\n",
    "print(f\"  (2 ** 3) ** 2 = {(2 ** 3) ** 2}  (좌결합 강제 = 64)\")"
   ]
  },
  {
   "cell_type": "markdown",
   "metadata": {},
   "source": [
    "---\n",
    "\n",
    "## 🕑 2. Statement의 구조\n",
    "\n",
    "### 2.1 Statement란?\n",
    "\n",
    "#### 📝 핵심 정의\n",
    "\n",
    "**Statement (문장)**: \"실행 가능한 명령의 단위\"\n",
    "\n",
    "```\n",
    "Statement → 실행(Execution) → 동작(Action)\n",
    "```\n",
    "\n",
    "**핵심 특징**:\n",
    "- **동작을 수행** (값 생성 아님)\n",
    "- **독립적으로 실행** 가능\n",
    "- **Expression을 포함**할 수 있음\n",
    "- 다른 Statement의 일부가 될 수 없음"
   ]
  },
  {
   "cell_type": "markdown",
   "metadata": {},
   "source": [
    "### 2.2 Expression vs Statement\n",
    "\n",
    "```\n",
    "┌─────────────────────────────────┐\n",
    "│   Expression vs Statement       │\n",
    "├──────────────┬──────────────────┤\n",
    "│ Expression   │ Statement        │\n",
    "├──────────────┼──────────────────┤\n",
    "│ 값을 생성    │ 동작을 수행      │\n",
    "│ 중첩 가능    │ 독립적           │\n",
    "│ 인자로 전달  │ 인자로 불가      │\n",
    "└──────────────┴──────────────────┘\n",
    "\n",
    "핵심 관계:\n",
    "Statement는 Expression을 포함  ✅\n",
    "Expression은 Statement를 포함  ❌\n",
    "```"
   ]
  },
  {
   "cell_type": "code",
   "execution_count": 5,
   "metadata": {},
   "outputs": [
    {
     "name": "stdout",
     "output_type": "stream",
     "text": [
      "=== Expression vs Statement ===\n",
      "\n",
      "Expression (값 생성):\n",
      "  2 + 3 = 5\n",
      "  'hello'.upper() = HELLO\n",
      "\n",
      "Statement (동작 수행):\n",
      "  x = 10 실행 (반환값 없음)\n",
      "  if 문 실행 (반환값 없음)\n",
      "\n",
      "Statement는 Expression 포함:\n",
      "  y = 2 + 3\n",
      "    Statement: y = ...\n",
      "    Expression: 2 + 3\n"
     ]
    }
   ],
   "source": [
    "# Expression vs Statement\n",
    "print(\"=== Expression vs Statement ===\")\n",
    "print()\n",
    "\n",
    "# Expression - 값 생성\n",
    "print(\"Expression (값 생성):\")\n",
    "print(f\"  2 + 3 = {2 + 3}\")\n",
    "print(f\"  'hello'.upper() = {'hello'.upper()}\")\n",
    "print()\n",
    "\n",
    "# Statement - 동작 수행\n",
    "print(\"Statement (동작 수행):\")\n",
    "x = 10  # 할당문\n",
    "print(f\"  x = 10 실행 (반환값 없음)\")\n",
    "if x > 5:  # 조건문\n",
    "    print(f\"  if 문 실행 (반환값 없음)\")\n",
    "print()\n",
    "\n",
    "# Statement는 Expression을 포함\n",
    "print(\"Statement는 Expression 포함:\")\n",
    "y = 2 + 3  # Statement 안에 Expression\n",
    "print(f\"  y = 2 + 3\")\n",
    "print(f\"    Statement: y = ...\")\n",
    "print(f\"    Expression: 2 + 3\")"
   ]
  },
  {
   "cell_type": "markdown",
   "metadata": {},
   "source": [
    "### 2.3 Simple Statement\n",
    "\n",
    "**Simple Statement**: 한 줄로 완결되는 Statement\n",
    "\n",
    "**종류**:\n",
    "- Assignment: `x = 10`\n",
    "- Expression Statement: `print(\"Hello\")`\n",
    "- Pass: `pass`\n",
    "- Del: `del x`\n",
    "- Return: `return x`\n",
    "- Import: `import math`"
   ]
  },
  {
   "cell_type": "code",
   "execution_count": 6,
   "metadata": {},
   "outputs": [
    {
     "name": "stdout",
     "output_type": "stream",
     "text": [
      "=== Simple Statement ===\n",
      "\n",
      "Assignment: x = 10\n",
      "Expression Statement: print() 호출\n",
      "Pass: 실행됨 (아무 동작 없음)\n",
      "Del: temp 변수 삭제\n"
     ]
    }
   ],
   "source": [
    "# Simple Statement\n",
    "print(\"=== Simple Statement ===\")\n",
    "print()\n",
    "\n",
    "# Assignment\n",
    "x = 10\n",
    "print(f\"Assignment: x = {x}\")\n",
    "\n",
    "# Expression Statement\n",
    "print(\"Expression Statement: print() 호출\")\n",
    "\n",
    "# Pass\n",
    "pass  # 아무것도 안 함\n",
    "print(\"Pass: 실행됨 (아무 동작 없음)\")\n",
    "\n",
    "# Del\n",
    "temp = 100\n",
    "del temp\n",
    "print(\"Del: temp 변수 삭제\")"
   ]
  },
  {
   "cell_type": "markdown",
   "metadata": {},
   "source": [
    "### 2.4 Compound Statement\n",
    "\n",
    "**Compound Statement**: 다른 Statement를 포함하는 Statement\n",
    "\n",
    "**구조**:\n",
    "```python\n",
    "header:\n",
    "    suite (들여쓴 Statement 블록)\n",
    "```\n",
    "\n",
    "**종류**:\n",
    "- if/elif/else\n",
    "- for/while\n",
    "- def (함수 정의)\n",
    "- class (클래스 정의)\n",
    "- try/except\n",
    "- with"
   ]
  },
  {
   "cell_type": "code",
   "execution_count": 7,
   "metadata": {},
   "outputs": [
    {
     "name": "stdout",
     "output_type": "stream",
     "text": [
      "=== Compound Statement ===\n",
      "\n",
      "x(10)는 5보다 큽니다\n",
      "\n",
      "for 문:\n",
      "  i = 0\n",
      "  i = 1\n",
      "  i = 2\n",
      "\n",
      "함수 호출: Hello, Python!\n"
     ]
    }
   ],
   "source": [
    "# Compound Statement\n",
    "print(\"=== Compound Statement ===\")\n",
    "print()\n",
    "\n",
    "# if Statement\n",
    "x = 10\n",
    "if x > 5:\n",
    "    print(f\"x({x})는 5보다 큽니다\")\n",
    "else:\n",
    "    print(f\"x({x})는 5 이하입니다\")\n",
    "print()\n",
    "\n",
    "# for Statement\n",
    "print(\"for 문:\")\n",
    "for i in range(3):\n",
    "    print(f\"  i = {i}\")\n",
    "print()\n",
    "\n",
    "# def Statement\n",
    "def greet(name):\n",
    "    return f\"Hello, {name}!\"\n",
    "\n",
    "print(f\"함수 호출: {greet('Python')}\")"
   ]
  },
  {
   "cell_type": "markdown",
   "metadata": {},
   "source": [
    "---\n",
    "\n",
    "## 🕒 3. AST & eval/exec\n",
    "\n",
    "### 3.1 AST (Abstract Syntax Tree)\n",
    "\n",
    "**AST**: 코드의 문법 구조를 트리 형태로 표현\n",
    "\n",
    "```\n",
    "코드: x = 10 + 5\n",
    "\n",
    "AST:\n",
    "    Module\n",
    "      │\n",
    "    Assign\n",
    "    ├─ targets: [x]\n",
    "    └─ value: BinOp\n",
    "              ├─ left: 10\n",
    "              ├─ op: Add\n",
    "              └─ right: 5\n",
    "```"
   ]
  },
  {
   "cell_type": "code",
   "execution_count": 8,
   "metadata": {},
   "outputs": [
    {
     "name": "stdout",
     "output_type": "stream",
     "text": [
      "=== AST 예시 ===\n",
      "\n",
      "코드: x = 10 + 5\n",
      "\n",
      "AST 구조:\n",
      "Module(\n",
      "  body=[\n",
      "    Assign(\n",
      "      targets=[\n",
      "        Name(id='x', ctx=Store())],\n",
      "      value=BinOp(\n",
      "        left=Constant(value=10),\n",
      "        op=Add(),\n",
      "        right=Constant(value=5)))])\n"
     ]
    }
   ],
   "source": [
    "# AST 기본\n",
    "import ast\n",
    "\n",
    "print(\"=== AST 예시 ===\")\n",
    "print()\n",
    "\n",
    "code = \"x = 10 + 5\"\n",
    "tree = ast.parse(code)\n",
    "\n",
    "print(f\"코드: {code}\")\n",
    "print(\"\\nAST 구조:\")\n",
    "print(ast.dump(tree, indent=2))"
   ]
  },
  {
   "cell_type": "code",
   "execution_count": 10,
   "metadata": {},
   "outputs": [
    {
     "name": "stdout",
     "output_type": "stream",
     "text": [
      "=== 함수의 AST ===\n",
      "\n",
      "코드: \n",
      "def add(a, b): \n",
      "  return a + b\n",
      "\n",
      "a = add(10, 10)  \n",
      "\n",
      "\n",
      "AST 구조:\n",
      "Module(\n",
      "  body=[\n",
      "    FunctionDef(\n",
      "      name='add',\n",
      "      args=arguments(\n",
      "        args=[\n",
      "          arg(arg='a'),\n",
      "          arg(arg='b')]),\n",
      "      body=[\n",
      "        Return(\n",
      "          value=BinOp(\n",
      "            left=Name(id='a', ctx=Load()),\n",
      "            op=Add(),\n",
      "            right=Name(id='b', ctx=Load())))]),\n",
      "    Assign(\n",
      "      targets=[\n",
      "        Name(id='a', ctx=Store())],\n",
      "      value=Call(\n",
      "        func=Name(id='add', ctx=Load()),\n",
      "        args=[\n",
      "          Constant(value=10),\n",
      "          Constant(value=10)]))])\n"
     ]
    }
   ],
   "source": [
    "# 함수 정의의 AST\n",
    "print(\"=== 함수의 AST ===\")\n",
    "print()\n",
    "\n",
    "code = \"\"\"\n",
    "def add(a, b): \n",
    "  return a + b\n",
    "\n",
    "a = add(10, 10)  \n",
    "\"\"\"\n",
    "tree = ast.parse(code)\n",
    "\n",
    "print(f\"코드: {code}\")\n",
    "print(\"\\nAST 구조:\")\n",
    "print(ast.dump(tree, indent=2))"
   ]
  },
  {
   "cell_type": "markdown",
   "metadata": {},
   "source": [
    "### 3.2 eval() vs exec() vs compile()\n",
    "\n",
    "| 함수 | 용도 | 입력 | 출력 |\n",
    "|------|------|------|------|\n",
    "| eval() | Expression 평가 | Expression 문자열 | 값 |\n",
    "| exec() | Statement 실행 | Statement 문자열 | None |\n",
    "| compile() | 코드 컴파일 | 코드 문자열 | 코드 객체 |"
   ]
  },
  {
   "cell_type": "code",
   "execution_count": null,
   "metadata": {},
   "outputs": [
    {
     "name": "stdout",
     "output_type": "stream",
     "text": [
      "=== eval() ===\n",
      "Expression을 평가하여 값 반환\n",
      "\n",
      "eval('2 + 3') = 5\n",
      "x = 10\n",
      "eval('x * 2') = 20\n",
      "\n",
      "eval('x = 10') → SyntaxError\n",
      "  eval()은 Expression만 가능!\n"
     ]
    }
   ],
   "source": [
    "# eval() - Expression 평가\n",
    "print(\"=== eval() ===\")\n",
    "print(\"Expression을 평가하여 값 반환\")\n",
    "print()\n",
    "\n",
    "result = eval(\"2 + 3\")\n",
    "print(f\"eval('2 + 3') = {result}\")\n",
    "\n",
    "x = 10\n",
    "result = eval(\"x * 2\")\n",
    "print(f\"x = {x}\")\n",
    "print(f\"eval('x * 2') = {result}\")\n",
    "print()\n",
    "\n",
    "# eval()은 Statement 불가\n",
    "try:\n",
    "    eval(\"x = 10\")\n",
    "except SyntaxError:\n",
    "    print(\"eval('x = 10') → SyntaxError\")\n",
    "    print(\"  eval()은 Expression만 가능!\")"
   ]
  },
  {
   "cell_type": "code",
   "execution_count": 14,
   "metadata": {},
   "outputs": [
    {
     "name": "stdout",
     "output_type": "stream",
     "text": [
      "=== exec() ===\n",
      "Statement를 실행 (반환값 없음)\n",
      "\n",
      "exec('y = 100') 실행\n",
      "  y = 100\n",
      "\n",
      "여러 줄 실행 후 z = 60\n"
     ]
    }
   ],
   "source": [
    "# exec() - Statement 실행\n",
    "print(\"=== exec() ===\")\n",
    "print(\"Statement를 실행 (반환값 없음)\")\n",
    "print()\n",
    "\n",
    "# 변수 생성\n",
    "exec(\"y = 100\")\n",
    "print(f\"exec('y = 100') 실행\")\n",
    "print(f\"  y = {y}\")\n",
    "print()\n",
    "\n",
    "# 여러 줄 실행\n",
    "code = \"\"\"\n",
    "z = 50\n",
    "z += 10\n",
    "\"\"\"\n",
    "exec(code)\n",
    "print(f\"여러 줄 실행 후 z = {z}\")"
   ]
  },
  {
   "cell_type": "code",
   "execution_count": 15,
   "metadata": {},
   "outputs": [
    {
     "data": {
      "text/plain": [
       "100"
      ]
     },
     "execution_count": 15,
     "metadata": {},
     "output_type": "execute_result"
    }
   ],
   "source": [
    "y"
   ]
  },
  {
   "cell_type": "code",
   "execution_count": 16,
   "metadata": {},
   "outputs": [
    {
     "name": "stdout",
     "output_type": "stream",
     "text": [
      "=== compile() ===\n",
      "코드를 미리 컴파일\n",
      "\n",
      "compile('2 + 3', mode='eval')\n",
      "  결과: 5\n",
      "\n",
      "compile('a = 100', mode='exec')\n",
      "  a = 100\n"
     ]
    }
   ],
   "source": [
    "# compile() - 코드 컴파일\n",
    "print(\"=== compile() ===\")\n",
    "print(\"코드를 미리 컴파일\")\n",
    "print()\n",
    "\n",
    "# eval 모드\n",
    "code_obj = compile(\"2 + 3\", \"<string>\", \"eval\")\n",
    "result = eval(code_obj)\n",
    "print(f\"compile('2 + 3', mode='eval')\")\n",
    "print(f\"  결과: {result}\")\n",
    "print()\n",
    "\n",
    "# exec 모드\n",
    "code_obj = compile(\"a = 100\", \"<string>\", \"exec\")\n",
    "exec(code_obj)\n",
    "print(f\"compile('a = 100', mode='exec')\")\n",
    "print(f\"  a = {a}\")"
   ]
  },
  {
   "cell_type": "markdown",
   "metadata": {},
   "source": [
    "### 3.3 eval/exec 보안 이슈 ⚠️\n",
    "\n",
    "**eval()과 exec()는 매우 위험합니다!**\n",
    "\n",
    "```python\n",
    "# ❌ 위험한 코드\n",
    "user_input = input(\"계산식: \")\n",
    "result = eval(user_input)  # 위험!\n",
    "\n",
    "# 악의적 입력 가능:\n",
    "# __import__('os').system('rm -rf /')  # 시스템 파일 삭제\n",
    "```\n",
    "\n",
    "**안전한 대안**:\n",
    "1. ast.literal_eval() 사용\n",
    "2. 제한된 네임스페이스\n",
    "3. AST 기반 파서"
   ]
  },
  {
   "cell_type": "code",
   "execution_count": 17,
   "metadata": {},
   "outputs": [
    {
     "name": "stdout",
     "output_type": "stream",
     "text": [
      "=== 안전한 eval ===\n",
      "\n",
      "ast.literal_eval('[1, 2, 3]') = [1, 2, 3]\n",
      "ast.literal_eval('__import__...') → ValueError (차단!)\n",
      "\n",
      "제한된 네임스페이스:\n",
      "  eval('max(10, 20)', safe_dict) = 20\n",
      "  eval('__import__...') → NameError (차단!)\n"
     ]
    }
   ],
   "source": [
    "# 안전한 eval 사용\n",
    "print(\"=== 안전한 eval ===\")\n",
    "print()\n",
    "\n",
    "# 1. ast.literal_eval (가장 안전)\n",
    "import ast\n",
    "\n",
    "result = ast.literal_eval(\"[1, 2, 3]\")\n",
    "print(f\"ast.literal_eval('[1, 2, 3]') = {result}\")\n",
    "\n",
    "try:\n",
    "    ast.literal_eval(\"__import__('os')\")\n",
    "except ValueError:\n",
    "    print(\"ast.literal_eval('__import__...') → ValueError (차단!)\")\n",
    "print()\n",
    "\n",
    "# 2. 제한된 네임스페이스\n",
    "safe_dict = {\"__builtins__\": {}, \"abs\": abs, \"max\": max}\n",
    "result = eval(\"max(10, 20)\", safe_dict)\n",
    "print(f\"제한된 네임스페이스:\")\n",
    "print(f\"  eval('max(10, 20)', safe_dict) = {result}\")\n",
    "\n",
    "try:\n",
    "    eval(\"__import__('os')\", safe_dict)\n",
    "except NameError:\n",
    "    print(\"  eval('__import__...') → NameError (차단!)\")"
   ]
  },
  {
   "cell_type": "markdown",
   "metadata": {},
   "source": [
    "---\n",
    "\n",
    "## 💻 실습 과제\n",
    "\n",
    "### 과제 1: Expression 판별기 (15점)"
   ]
  },
  {
   "cell_type": "code",
   "execution_count": null,
   "metadata": {},
   "outputs": [],
   "source": [
    "# 과제 1: Expression vs Statement 판별\n",
    "import ast\n",
    "\n",
    "def is_expression(code):\n",
    "    \"\"\"\n",
    "    주어진 코드가 Expression인지 판별\n",
    "    반환: True (Expression) / False (Statement)\n",
    "    \"\"\"\n",
    "    # TODO: 여기에 코드 작성\n",
    "    # 힌트: ast.parse(code, mode='eval') 시도\n",
    "    pass\n",
    "\n",
    "# 테스트\n",
    "test_cases = [\n",
    "    (\"2 + 3\", True),\n",
    "    (\"x = 10\", False),\n",
    "    (\"len([1, 2, 3])\", True),\n",
    "    (\"if x > 5: pass\", False),\n",
    "]\n",
    "\n",
    "for code, expected in test_cases:\n",
    "    result = is_expression(code)\n",
    "    status = \"✅\" if result == expected else \"❌\"\n",
    "    print(f\"{status} {code:20} → {result}\")"
   ]
  },
  {
   "cell_type": "markdown",
   "metadata": {},
   "source": [
    "### 과제 2: AST 분석기 (20점)"
   ]
  },
  {
   "cell_type": "code",
   "execution_count": null,
   "metadata": {},
   "outputs": [],
   "source": [
    "# 과제 2: AST 분석기\n",
    "import ast\n",
    "\n",
    "def analyze_ast(code):\n",
    "    \"\"\"\n",
    "    코드의 AST를 분석하여 통계 출력:\n",
    "    - 함수 정의 개수\n",
    "    - 변수 할당 개수\n",
    "    - 함수 호출 개수\n",
    "    \"\"\"\n",
    "    # TODO: 여기에 코드 작성\n",
    "    pass\n",
    "\n",
    "# 테스트\n",
    "test_code = \"\"\"\n",
    "def add(a, b):\n",
    "    return a + b\n",
    "\n",
    "x = 10\n",
    "y = 20\n",
    "result = add(x, y)\n",
    "print(result)\n",
    "\"\"\"\n",
    "\n",
    "analyze_ast(test_code)"
   ]
  },
  {
   "cell_type": "markdown",
   "metadata": {},
   "source": [
    "### 과제 3: 안전한 계산기 (25점)"
   ]
  },
  {
   "cell_type": "code",
   "execution_count": null,
   "metadata": {},
   "outputs": [],
   "source": [
    "# 과제 3: AST 기반 안전한 계산기\n",
    "import ast\n",
    "import operator\n",
    "\n",
    "class SafeCalculator:\n",
    "    \"\"\"\n",
    "    AST를 사용한 안전한 계산기\n",
    "    - 사칙연산만 허용\n",
    "    - 악의적 코드 차단\n",
    "    \"\"\"\n",
    "    \n",
    "    def __init__(self):\n",
    "        self.ops = {\n",
    "            ast.Add: operator.add,\n",
    "            ast.Sub: operator.sub,\n",
    "            ast.Mult: operator.mul,\n",
    "            ast.Div: operator.truediv,\n",
    "        }\n",
    "    \n",
    "    def eval(self, expr):\n",
    "        \"\"\"Expression 평가\"\"\"\n",
    "        # TODO: 여기에 코드 작성\n",
    "        pass\n",
    "\n",
    "# 테스트\n",
    "calc = SafeCalculator()\n",
    "print(\"=== 안전한 계산기 ===\")\n",
    "print(f\"2 + 3 = {calc.eval('2 + 3')}\")\n",
    "print(f\"(10 + 5) * 2 = {calc.eval('(10 + 5) * 2')}\")\n",
    "\n",
    "# 보안 테스트\n",
    "try:\n",
    "    calc.eval(\"__import__('os')\")\n",
    "except Exception as e:\n",
    "    print(f\"악의적 코드 차단: {e}\")"
   ]
  },
  {
   "cell_type": "markdown",
   "metadata": {},
   "source": [
    "---\n",
    "\n",
    "## 🤔 토론 주제\n",
    "\n",
    "### 1. Python에서 거의 모든 것이 Expression인 이유는?\n",
    "\n",
    "**여러분의 의견:**\n",
    "- \n",
    "- \n",
    "\n",
    "### 2. AST를 직접 조작하면 무엇을 할 수 있을까?\n",
    "\n",
    "**가능한 것들:**\n",
    "- \n",
    "- \n",
    "\n",
    "### 3. eval()은 왜 위험한가?\n",
    "\n",
    "**위험한 이유:**\n",
    "- \n",
    "- \n",
    "\n",
    "**안전한 대안:**\n",
    "- \n",
    "- "
   ]
  },
  {
   "cell_type": "markdown",
   "metadata": {},
   "source": [
    "---\n",
    "\n",
    "## ✅ 체크리스트\n",
    "\n",
    "### Expression\n",
    "- [ ] Expression의 정의를 설명할 수 있다\n",
    "- [ ] Expression의 종류를 나열할 수 있다\n",
    "- [ ] Operator 우선순위를 안다\n",
    "- [ ] 결합성을 이해한다\n",
    "\n",
    "### Statement\n",
    "- [ ] Statement의 정의를 설명할 수 있다\n",
    "- [ ] Simple/Compound Statement를 구분할 수 있다\n",
    "- [ ] Expression vs Statement 차이를 안다\n",
    "\n",
    "### AST\n",
    "- [ ] AST가 무엇인지 안다\n",
    "- [ ] ast.parse()를 사용할 수 있다\n",
    "- [ ] AST 구조를 읽을 수 있다\n",
    "\n",
    "### eval/exec\n",
    "- [ ] eval()과 exec() 차이를 안다\n",
    "- [ ] compile()을 사용할 수 있다\n",
    "- [ ] 보안 위험을 이해한다\n",
    "- [ ] ast.literal_eval()을 사용할 수 있다"
   ]
  },
  {
   "cell_type": "markdown",
   "metadata": {},
   "source": [
    "---\n",
    "\n",
    "## 📚 참고 자료\n",
    "\n",
    "### 필수\n",
    "- [Statement and Expression](https://dsaint31.tistory.com/514)\n",
    "- [Compound Statement](https://ds31x.tistory.com/493)\n",
    "\n",
    "### 권장\n",
    "- [Python AST](https://docs.python.org/3/library/ast.html)\n",
    "- [eval/exec/compile](https://stackoverflow.com/questions/2220699/whats-the-difference-between-eval-exec-and-compile)\n",
    "\n",
    "---\n",
    "\n",
    "## 🎉 수고하셨습니다!\n",
    "\n",
    "**다음 주 예고: Object Model & Type System**"
   ]
  }
 ],
 "metadata": {
  "kernelspec": {
   "display_name": "clt-python (3.13.7)",
   "language": "python",
   "name": "python3"
  },
  "language_info": {
   "codemirror_mode": {
    "name": "ipython",
    "version": 3
   },
   "file_extension": ".py",
   "mimetype": "text/x-python",
   "name": "python",
   "nbconvert_exporter": "python",
   "pygments_lexer": "ipython3",
   "version": "3.13.7"
  }
 },
 "nbformat": 4,
 "nbformat_minor": 4
}
