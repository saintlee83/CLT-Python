{
  "cells": [
    {
      "cell_type": "markdown",
      "metadata": {},
      "source": [
        "# 📅 Class 2. Lexical Structure & Literal System\n",
        "\n",
        "## 📋 학습 목표\n",
        "\n",
        "1. Token의 4가지 종류를 구분하고 설명할 수 있다\n",
        "2. 모든 종류의 Literal을 작성하고 활용할 수 있다\n",
        "3. Python의 명명 규칙을 이해하고 PEP 8을 적용할 수 있다\n",
        "4. `tokenize` 모듈을 사용하여 코드를 파싱할 수 있다\n"
      ]
    },
    {
      "cell_type": "markdown",
      "metadata": {},
      "source": [
        "## 🕐 1. Token의 종류와 구분\n",
        "\n",
        "### 1.1 Token 복습\n",
        "\n",
        "**Token**: 코드를 이루는 가장 작은 의미 있는 단위\n",
        "\n",
        "```\n",
        "문장을 단어로 나누듯이\n",
        "\"나는 파이썬을 공부한다\" → [나는] [파이썬을] [공부한다]\n",
        "\n",
        "코드를 Token으로 나눔\n",
        "\"x = 10 + 5\" → [x] [=] [10] [+] [5]\n",
        "```\n"
      ]
    },
    {
      "cell_type": "markdown",
      "metadata": {},
      "source": [
        "### 1.2 Token의 4가지 종류\n",
        "\n",
        "```\n",
        "┌─────────────────────────────────────┐\n",
        "│          Token의 분류               │\n",
        "├─────────────────────────────────────┤\n",
        "│ 1. Keyword (키워드)                 │\n",
        "│    - Python이 미리 정한 특별한 단어  │\n",
        "│    - 예: if, for, def, class        │\n",
        "├─────────────────────────────────────┤\n",
        "│ 2. Identifier (식별자)              │\n",
        "│    - 우리가 만드는 이름             │\n",
        "│    - 예: 변수명, 함수명, 클래스명    │\n",
        "├─────────────────────────────────────┤\n",
        "│ 3. Literal (리터럴)                 │\n",
        "│    - 코드에 직접 쓴 값              │\n",
        "│    - 예: 10, 3.14, \"Hello\"          │\n",
        "├─────────────────────────────────────┤\n",
        "│ 4. Operator/Delimiter (연산자/구분자)│\n",
        "│    - 연산/구조를 나타내는 기호      │\n",
        "│    - 예: +, -, =, (), [], {}        │\n",
        "└─────────────────────────────────────┘\n",
        "```\n"
      ]
    },
    {
      "cell_type": "code",
      "execution_count": 2,
      "metadata": {},
      "outputs": [
        {
          "name": "stdout",
          "output_type": "stream",
          "text": [
            "Total: 500\n"
          ]
        }
      ],
      "source": [
        "# 예제 코드로 Token 종류 구분하기\n",
        "\n",
        "def calculate_total(price, quantity):  # def, calculate_total, price, quantity 등\n",
        "  total = price * quantity           # total, =, *, 등\n",
        "  return total                       # return\n",
        "\n",
        "\n",
        "result = calculate_total(100, 5)       # result, =, 100, 5 등\n",
        "print(f\"Total: {result}\")              # print, \"Total: \", result 등\n",
        "\n",
        "# 각 Token이 어떤 종류인지 생각해보세요!"
      ]
    },
    {
      "cell_type": "markdown",
      "metadata": {},
      "source": [
        "### 1.3 Keyword (키워드/예약어)\n",
        "\n",
        "**Keyword**: Python이 특별한 용도로 미리 예약한 단어\n",
        "\n",
        "- 언어의 핵심 기능을 구성\n",
        "- **변수명/함수명으로 사용 불가** (대소문자 구분)\n",
        "- (참고) 최신 버전에서 개수는 약간 달라질 수 있음\n"
      ]
    },
    {
      "cell_type": "code",
      "execution_count": 3,
      "metadata": {},
      "outputs": [
        {
          "name": "stdout",
          "output_type": "stream",
          "text": [
            "=== Python Keyword 목록 ===\n",
            "총 개수: 35개\n",
            "\n",
            "False         None          True          and           as          \n",
            "assert        async         await         break         class       \n",
            "continue      def           del           elif          else        \n",
            "except        finally       for           from          global      \n",
            "if            import        in            is            lambda      \n",
            "nonlocal      not           or            pass          raise       \n",
            "return        try           while         with          yield       \n"
          ]
        }
      ],
      "source": [
        "import keyword\n",
        "\n",
        "print(\"=== Python Keyword 목록 ===\")\n",
        "print(f\"총 개수: {len(keyword.kwlist)}개\\n\")\n",
        "\n",
        "# 5개씩 깔끔하게 출력\n",
        "for i in range(0, len(keyword.kwlist), 5):\n",
        "  group = keyword.kwlist[i:i+5]\n",
        "  print(\"  \".join(f\"{kw:12}\" for kw in group))"
      ]
    },
    {
      "cell_type": "markdown",
      "metadata": {},
      "source": [
        "#### Hard Keyword vs Soft Keyword (3.10+)\n",
        "\n",
        "- **Hard Keyword**: 어떤 문맥에서도 키워드 (예: `if`, `for`, `def`)\n",
        "- **Soft Keyword**: 특정 문맥에서만 키워드, 그 밖에서는 식별자로 사용 가능 (예: `match`, `case`, `_`)\n"
      ]
    },
    {
      "cell_type": "code",
      "execution_count": null,
      "metadata": {},
      "outputs": [],
      "source": [
        "import keyword\n",
        "\n",
        "print(\"=== Soft Keyword 체크 ===\")\n",
        "for w in [\"match\", \"case\", \"_\", \"async\", \"await\"]:\n",
        "  print(f\"{w:>6}  | iskeyword? {keyword.iskeyword(w)}  | issoftkeyword? {keyword.issoftkeyword(w)}\")\n",
        "\n",
        "# Soft keyword는 일반 문맥에서 변수명으로 사용 가능\n",
        "match = \"문자열 매칭\"  # ✅ (match-case 문 밖)\n",
        "case = \"케이스\"        # ✅\n",
        "print(\"\\n변수로 사용한 예:\", match, case)\n",
        "\n",
        "# match-case 문에서는 키워드로 동작\n",
        "value = 2\n",
        "match value:              # 여기서는 match / case 가 키워드\n",
        "  case 1:\n",
        "    print(\"값은 1\")\n",
        "  case 2:\n",
        "    print(\"값은 2\")\n",
        "  case _:\n",
        "    print(\"그 외\")"
      ]
    },
    {
      "cell_type": "markdown",
      "metadata": {},
      "source": [
        "### 1.4 Identifier (식별자)\n",
        "\n",
        "**Identifier**: 프로그래머가 정의하는 이름 (변수/함수/클래스/모듈 등)\n",
        "\n",
        "**규칙 (Rules)**\n",
        "\n",
        "1. 사용 가능한 문자: 영문자/숫자/언더스코어 `_`\n",
        "2. 첫 글자는 영문자 혹은 `_` (숫자 불가)\n",
        "3. **Keyword 금지**\n",
        "4. 대소문자 구분\n",
        "5. 특수문자/공백 금지\n"
      ]
    },
    {
      "cell_type": "code",
      "execution_count": null,
      "metadata": {},
      "outputs": [],
      "source": [
        "# 올바른 식별자 예시\n",
        "age = 25\n",
        "user_name = \"Alice\"\n",
        "total_price = 1000\n",
        "_temp = 100\n",
        "count1 = 5\n",
        "\n",
        "print(age, user_name, total_price, _temp, count1)\n",
        "\n",
        "# 잘못된 식별자는 주석으로만 예시\n",
        "# 2age = 10        # ❌ 숫자로 시작\n",
        "# user-name = \"x\"  # ❌ 하이픈\n",
        "# for = 10         # ❌ 키워드\n",
        "# my var = 10      # ❌ 공백"
      ]
    },
    {
      "cell_type": "markdown",
      "metadata": {},
      "source": [
        "### 1.5 Operator & Delimiter 요약\n",
        "\n",
        "- **산술**: `+ - * / // % **`\n",
        "- **비교**: `== != < <= > >=`\n",
        "- **논리**: `and or not`\n",
        "- **할당**: `= += -= *= /=`\n",
        "- **비트**: `& | ^ ~ << >>`\n",
        "- **멤버십/동일성**: `in not in`, `is is not`\n",
        "- **구분자**: `() [] {} : , . ;`\n"
      ]
    },
    {
      "cell_type": "code",
      "execution_count": null,
      "metadata": {},
      "outputs": [],
      "source": [
        "# Operator & Delimiter 예시\n",
        "x = 10\n",
        "y = x + 5\n",
        "is_equal = (x == 10)\n",
        "result = (x > 5) and (y < 20)\n",
        "\n",
        "my_list = [1, 2, 3]\n",
        "my_tuple = (4, 5, 6)\n",
        "my_dict = {'a': 1, 'b': 2}\n",
        "\n",
        "print(x, y, is_equal, result)\n",
        "print(my_list, my_tuple, my_dict, my_dict['a'])"
      ]
    },
    {
      "cell_type": "markdown",
      "metadata": {},
      "source": [
        "---\n",
        "\n",
        "## 🕑 2. Literal 심화\n",
        "\n",
        "**Literal**: 코드에 직접 작성된 '값 그 자체'  \n",
        "예) `10`, `\"Alice\"`, `3.14`, `True`, `None`, `[1,2,3]`\n"
      ]
    },
    {
      "cell_type": "markdown",
      "metadata": {},
      "source": [
        "### 2.2 Numeric Literals — Integers\n",
        "\n",
        "**10진수/2진수/8진수/16진수** 및 언더스코어로 가독성 높이기\n"
      ]
    },
    {
      "cell_type": "code",
      "execution_count": null,
      "metadata": {},
      "outputs": [],
      "source": [
        "print(\"=== Integer Literals ===\\n\")\n",
        "\n",
        "# 10진수\n",
        "decimal = 42\n",
        "large_number = 1_000_000\n",
        "print(f\"10진수: {decimal}\")\n",
        "print(f\"큰 수 (언더스코어): {large_number}\")\n",
        "print()\n",
        "\n",
        "# 2진수\n",
        "binary = 0b1010\n",
        "binary2 = 0b1111_0000\n",
        "print(f\"2진수 0b1010: {binary}\")\n",
        "print(f\"2진수 0b1111_0000: {binary2}\")\n",
        "print()\n",
        "\n",
        "# 8진수\n",
        "octal = 0o12\n",
        "octal2 = 0o755\n",
        "print(f\"8진수 0o12: {octal}\")\n",
        "print(f\"8진수 0o755: {octal2}\")\n",
        "print()\n",
        "\n",
        "# 16진수\n",
        "hexadecimal = 0xA\n",
        "hexadecimal2 = 0xFF\n",
        "hexadecimal3 = 0x1A2B\n",
        "print(f\"16진수 0xA: {hexadecimal}\")\n",
        "print(f\"16진수 0xFF: {hexadecimal2}\")\n",
        "print(f\"16진수 0x1A2B: {hexadecimal3}\")"
      ]
    },
    {
      "cell_type": "code",
      "execution_count": null,
      "metadata": {},
      "outputs": [],
      "source": [
        "# 진법 변환 도구\n",
        "print(\"=== 진법 변환 ===\\n\")\n",
        "number = 255\n",
        "print(f\"10진수: {number}\")\n",
        "print(f\"2진수: {bin(number)}\")\n",
        "print(f\"8진수: {oct(number)}\")\n",
        "print(f\"16진수: {hex(number)}\")\n",
        "print()\n",
        "\n",
        "print(\"=== 문자열 → 정수 변환 ===\")\n",
        "print(f\"int('1010', 2): {int('1010', 2)}\")\n",
        "print(f\"int('12', 8): {int('12', 8)}\")\n",
        "print(f\"int('FF', 16): {int('FF', 16)}\")"
      ]
    },
    {
      "cell_type": "markdown",
      "metadata": {},
      "source": [
        "### Float / Scientific Notation\n"
      ]
    },
    {
      "cell_type": "code",
      "execution_count": null,
      "metadata": {},
      "outputs": [],
      "source": [
        "import math\n",
        "print(\"=== Float Literals ===\\n\")\n",
        "pi = 3.14\n",
        "half = .5\n",
        "five = 5.\n",
        "print(pi, half, five)\n",
        "\n",
        "print(\"\\n=== 과학적 표기법 ===\")\n",
        "large = 1e10\n",
        "small = 1.5e-3\n",
        "medium = 2.5E6\n",
        "print(large, small, medium)\n",
        "\n",
        "print(\"\\n=== 부동소수점 주의 ===\")\n",
        "print(0.1 + 0.2)\n",
        "print((0.1 + 0.2) == 0.3)\n",
        "print(\"round:\", round(0.1 + 0.2, 1) == 0.3)\n",
        "print(\"isclose:\", math.isclose(0.1 + 0.2, 0.3))"
      ]
    },
    {
      "cell_type": "markdown",
      "metadata": {},
      "source": [
        "### Complex Literals\n"
      ]
    },
    {
      "cell_type": "code",
      "execution_count": null,
      "metadata": {},
      "outputs": [],
      "source": [
        "print(\"=== Complex Literals ===\\n\")\n",
        "c1 = 1+2j\n",
        "c2 = 3.14+0j\n",
        "c3 = -5j\n",
        "c4 = complex(1, 2)\n",
        "print(c1, c2, c3, c4)\n",
        "\n",
        "print(\"\\n연산/속성:\")\n",
        "a = 1+2j\n",
        "b = 3+4j\n",
        "print(\"a+b =\", a+b, \" a*b =\", a*b)\n",
        "c = 3+4j\n",
        "print(\"real/imag:\", c.real, c.imag, \" conjugate:\",\n",
        "      c.conjugate(), \" abs:\", abs(c))"
      ]
    },
    {
      "cell_type": "markdown",
      "metadata": {},
      "source": [
        "### 2.3 String Literals (문자열) — 기본/Raw/f-string/Bytes\n"
      ]
    },
    {
      "cell_type": "code",
      "execution_count": null,
      "metadata": {},
      "outputs": [],
      "source": [
        "print(\"=== String 기본 ===\")\n",
        "str1 = 'Hello, World!'\n",
        "str2 = \"Hello, Python!\"\n",
        "str3 = \"It's a beautiful day\"\n",
        "str4 = 'He said \"Hello\"'\n",
        "print(str1)\n",
        "print(str2)\n",
        "print(str3)\n",
        "print(str4)\n",
        "\n",
        "print(\"\\n=== 여러 줄 (삼중따옴표) ===\")\n",
        "multiline = '''첫 번째 줄\n",
        "두 번째 줄\n",
        "세 번째 줄'''\n",
        "print(multiline)\n",
        "\n",
        "print(\"\\n=== 특수 접두사 ===\")\n",
        "normal_path = 'C:\\\\Users\\\\name'\n",
        "raw_path = r'C:\\Users\\name'\n",
        "print(\"일반:\", normal_path)\n",
        "print(\"Raw :\", raw_path)\n",
        "\n",
        "normal_escape = \"\\\\n은 줄바꿈\"\n",
        "raw_escape = r\"\\n은 줄바꿈\"\n",
        "print(normal_escape)\n",
        "print(raw_escape)\n",
        "\n",
        "name = \"Alice\"\n",
        "age = 25\n",
        "f_msg = f\"이름: {name}, 나이: {age}, 2+3={2+3}\"\n",
        "print(\"\\nf-string:\", f_msg)\n",
        "\n",
        "byte_str = b'Hello'\n",
        "print(\"bytes:\", byte_str, type(byte_str), \"->\", byte_str.decode(\"utf-8\"))"
      ]
    },
    {
      "cell_type": "markdown",
      "metadata": {},
      "source": [
        "#### Escape Sequences\n"
      ]
    },
    {
      "cell_type": "code",
      "execution_count": null,
      "metadata": {},
      "outputs": [],
      "source": [
        "print(\"=== Escape Sequences ===\")\n",
        "print(\"첫 줄\\n둘째 줄\")\n",
        "print(\"이름\\t나이\\t직업\")\n",
        "print('He said \\\"Hi\\\" / It\\'s OK')\n",
        "print(\"경로: C:\\\\Users\\\\Documents\")\n",
        "print(\"Loading...\\rDone!\")"
      ]
    },
    {
      "cell_type": "markdown",
      "metadata": {},
      "source": [
        "### 2.4 Boolean / 2.5 None\n"
      ]
    },
    {
      "cell_type": "code",
      "execution_count": null,
      "metadata": {},
      "outputs": [],
      "source": [
        "print(\"=== Boolean ===\")\n",
        "is_active = True\n",
        "is_valid = False\n",
        "print(is_active, is_valid, 10 > 5, 'a' == 'b')\n",
        "print(True and False, True or False, not True)\n",
        "\n",
        "print(\"\\nTruthy/Falsy 예시\")\n",
        "print(bool(0), bool(1), bool(''), bool('x'), bool([]), bool([1]))\n",
        "\n",
        "print(\"\\n=== None ===\")\n",
        "result = None\n",
        "print(result, type(None), bool(None))\n",
        "\n",
        "\n",
        "def no_return():\n",
        "  pass\n",
        "\n",
        "\n",
        "print(\"함수 기본 반환:\", no_return())\n",
        "print(\"is None:\", (result is None))"
      ]
    },
    {
      "cell_type": "markdown",
      "metadata": {},
      "source": [
        "### 2.6 Container Literals — list/tuple/set/dict\n"
      ]
    },
    {
      "cell_type": "code",
      "execution_count": null,
      "metadata": {},
      "outputs": [],
      "source": [
        "print(\"=== List ===\")\n",
        "empty_list = []\n",
        "numbers = [1, 2, 3, 4, 5]\n",
        "mixed = [1, 'two', 3.0, True, None]\n",
        "nested = [[1, 2], [3, 4], [5, 6]]\n",
        "numbers[0] = 10\n",
        "print(empty_list, numbers, mixed, nested)\n",
        "\n",
        "print(\"\\n=== Tuple ===\")\n",
        "empty_tuple = ()\n",
        "coordinates = (10, 20)\n",
        "single = (42,)\n",
        "not_tuple = (42)\n",
        "print(empty_tuple, coordinates, single, type(\n",
        "    single), not_tuple, type(not_tuple))\n",
        "rgb = 255, 128, 0\n",
        "print(\"packing tuple:\", rgb)\n",
        "\n",
        "print(\"\\n=== Set ===\")\n",
        "empty_set = set()\n",
        "numbers = {1, 2, 3, 4, 5}\n",
        "duplicates = {1, 2, 2, 3, 3, 3}\n",
        "letters = {'c', 'a', 'b'}\n",
        "a = {1, 2, 3}\n",
        "b = {3, 4, 5}\n",
        "print(empty_set, numbers, duplicates, letters)\n",
        "print(\"합집합/교집합/차집합:\", a | b, a & b, a-b)\n",
        "\n",
        "print(\"\\n=== Dict ===\")\n",
        "empty_dict = {}\n",
        "person = {'name': 'Alice', 'age': 25, 'city': 'Seoul'}\n",
        "mixed_keys = {'string_key': 1, 42: 'number_key', (1, 2): 'tuple_key'}\n",
        "print(empty_dict, person, mixed_keys)\n",
        "print(f\"이름: {person['name']}\")\n",
        "print(f\"나이: {person.get('age')}\")\n",
        "\n",
        "nested_dict = {'user1': {'name': 'Alice', 'age': 25},\n",
        "               'user2': {'name': 'Bob', 'age': 30}}\n",
        "print(f\"중첩 딕셔너리: {nested_dict}\")\n",
        "print(f\"user1 이름: {nested_dict['user1']['name']}\")"
      ]
    },
    {
      "cell_type": "markdown",
      "metadata": {},
      "source": [
        "---\n",
        "\n",
        "## 🕒 3. 실습 - Code Tokenization\n",
        "\n",
        "### 3.1 `tokenize` 모듈 기본/심화\n"
      ]
    },
    {
      "cell_type": "code",
      "execution_count": null,
      "metadata": {},
      "outputs": [],
      "source": [
        "# tokenize 모듈 기본 사용법\n",
        "import tokenize\n",
        "import io\n",
        "\n",
        "code = \"x = 42\"\n",
        "tokens = tokenize.generate_tokens(io.StringIO(code).readline)\n",
        "\n",
        "print(\"=== Token 구조 분석 ===\")\n",
        "print(f\"코드: {code}\\n\")\n",
        "\n",
        "for token in tokens:\n",
        "  print(f\"Token 객체: {token}\")\n",
        "  print(f\"  type: {token.type} ({tokenize.tok_name[token.type]})\")\n",
        "  print(f\"  string: '{token.string}'\")\n",
        "  print(f\"  start: {token.start}\")\n",
        "  print(f\"  end: {token.end}\\n\")"
      ]
    },
    {
      "cell_type": "code",
      "execution_count": null,
      "metadata": {},
      "outputs": [],
      "source": [
        "# 더 복잡한 코드 분석\n",
        "complex_code = \"\"\"\n",
        "def calculate_total(price, quantity):\n",
        "    total = price * quantity\n",
        "    return total\n",
        "\"\"\"\n",
        "\n",
        "print(\"=== 복잡한 코드의 Token 분석 ===\")\n",
        "print(\"코드:\")\n",
        "print(complex_code)\n",
        "print(\"\\nToken 분석 결과:\")\n",
        "print(\"=\" * 70)\n",
        "\n",
        "tokens = tokenize.generate_tokens(io.StringIO(complex_code).readline)\n",
        "\n",
        "for token in tokens:\n",
        "  if token.type not in [tokenize.ENCODING, tokenize.ENDMARKER]:\n",
        "    token_type = tokenize.tok_name[token.type]\n",
        "    print(f\"{token_type:12} | '{token.string:20}' | 위치: {token.start}\")"
      ]
    },
    {
      "cell_type": "code",
      "execution_count": null,
      "metadata": {},
      "outputs": [],
      "source": [
        "# Token 타입별 분류/통계\n",
        "from collections import Counter\n",
        "\n",
        "\n",
        "def analyze_tokens(code: str):\n",
        "  \"\"\"코드의 Token을 타입별로 분류하고 통계를 반환\"\"\"\n",
        "  tokens = tokenize.generate_tokens(io.StringIO(code).readline)\n",
        "  token_types = []\n",
        "  token_strings = []\n",
        "  for token in tokens:\n",
        "    if token.type not in {\n",
        "        tokenize.ENCODING, tokenize.ENDMARKER,\n",
        "        tokenize.NEWLINE, tokenize.NL, tokenize.INDENT, tokenize.DEDENT\n",
        "    }:\n",
        "      token_types.append(tokenize.tok_name[token.type])\n",
        "      token_strings.append(token.string)\n",
        "  return token_types, token_strings\n",
        "\n",
        "\n",
        "test_code = \"result = (10 + 5) * 2\"\n",
        "types, strings = analyze_tokens(test_code)\n",
        "\n",
        "print(\"=== Token 분석 결과 ===\")\n",
        "print(f\"코드: {test_code}\\n\")\n",
        "print(\"Token 목록:\")\n",
        "for t, s in zip(types, strings):\n",
        "  print(f\"  {t:10} : '{s}'\")\n",
        "print()\n",
        "print(\"Token 타입 통계:\")\n",
        "for token_type, count in Counter(types).items():\n",
        "  print(f\"  {token_type:10} : {count}개\")"
      ]
    },
    {
      "cell_type": "markdown",
      "metadata": {},
      "source": [
        "### 3.2 Keyword 완전 정복\n"
      ]
    },
    {
      "cell_type": "code",
      "execution_count": 1,
      "metadata": {},
      "outputs": [
        {
          "name": "stdout",
          "output_type": "stream",
          "text": [
            "=== Python Keyword 분류(예시) ===\n",
            "\n",
            "제어 흐름:\n",
            "  - if\n",
            "  - elif\n",
            "  - else\n",
            "  - for\n",
            "  - while\n",
            "  - break\n",
            "  - continue\n",
            "  - pass\n",
            "\n",
            "함수/클래스:\n",
            "  - def\n",
            "  - class\n",
            "  - return\n",
            "  - yield\n",
            "  - lambda\n",
            "\n",
            "논리/멤버십/동일성:\n",
            "  - and\n",
            "  - or\n",
            "  - not\n",
            "  - is\n",
            "  - in\n",
            "\n",
            "예외 처리:\n",
            "  - try\n",
            "  - except\n",
            "  - finally\n",
            "  - raise\n",
            "  - assert\n",
            "\n",
            "모듈:\n",
            "  - import\n",
            "  - from\n",
            "  - as\n",
            "\n",
            "변수 범위:\n",
            "  - global\n",
            "  - nonlocal\n",
            "\n",
            "컨텍스트:\n",
            "  - with\n",
            "\n",
            "비동기:\n",
            "  - async\n",
            "  - await\n",
            "\n",
            "리터럴:\n",
            "  - True\n",
            "  - False\n",
            "  - None\n",
            "\n",
            "패턴매칭:\n",
            "  - match (Soft)\n",
            "  - case (Soft)\n",
            "  - _ (Soft)\n"
          ]
        }
      ],
      "source": [
        "import keyword\n",
        "\n",
        "print(\"=== Python Keyword 분류(예시) ===\")\n",
        "keyword_categories = {\n",
        "    '제어 흐름': ['if', 'elif', 'else', 'for', 'while', 'break', 'continue', 'pass'],\n",
        "    '함수/클래스': ['def', 'class', 'return', 'yield', 'lambda'],\n",
        "    '논리/멤버십/동일성': ['and', 'or', 'not', 'is', 'in'],\n",
        "    '예외 처리': ['try', 'except', 'finally', 'raise', 'assert'],\n",
        "    '모듈': ['import', 'from', 'as'],\n",
        "    '변수 범위': ['global', 'nonlocal'],\n",
        "    '컨텍스트': ['with'],\n",
        "    '비동기': ['async', 'await'],\n",
        "    '리터럴': ['True', 'False', 'None'],\n",
        "    '패턴매칭': ['match', 'case', '_']\n",
        "}\n",
        "for category, kws in keyword_categories.items():\n",
        "  print(f\"\\n{category}:\")\n",
        "  for kw in kws:\n",
        "    soft = \" (Soft)\" if keyword.issoftkeyword(kw) else \"\"\n",
        "    print(f\"  - {kw}{soft}\")"
      ]
    },
    {
      "cell_type": "code",
      "execution_count": null,
      "metadata": {},
      "outputs": [],
      "source": [
        "# Keyword 사용 스니펫\n",
        "print(\"=== Keyword 사용 예제 ===\\n\")\n",
        "\n",
        "print(\"1) 제어 흐름 if/elif/else\")\n",
        "score = 85\n",
        "if score >= 90:\n",
        "  print(\" A 학점\")\n",
        "elif score >= 80:\n",
        "  print(\" B 학점\")\n",
        "else:\n",
        "  print(\" C 이하\")\n",
        "print()\n",
        "\n",
        "print(\"2) 함수/람다/클래스/return\")\n",
        "def greet(name): return f\"Hello, {name}!\"\n",
        "\n",
        "\n",
        "def square(x): return x**2\n",
        "\n",
        "\n",
        "print(greet(\"Python\"), \" / square(5) =\", square(5))\n",
        "print()\n",
        "\n",
        "print(\"3) 논리/멤버십/동일성\")\n",
        "x = 10\n",
        "print((x > 5) and (x < 15), 'a' in 'abc', None is None)\n",
        "print()\n",
        "\n",
        "print(\"4) 예외 처리\")\n",
        "try:\n",
        "  r = 10/2\n",
        "  print(\" ok\", r)\n",
        "except ZeroDivisionError:\n",
        "  print(\" not ok\")\n",
        "finally:\n",
        "  print(\" always\")"
      ]
    },
    {
      "cell_type": "markdown",
      "metadata": {},
      "source": [
        "### 3.3 PEP 8 스타일 가이드 실전\n"
      ]
    },
    {
      "cell_type": "code",
      "execution_count": null,
      "metadata": {},
      "outputs": [],
      "source": [
        "print(\"=== PEP 8 핵심 규칙 ===\")\n",
        "\n",
        "\n",
        "def example_function():\n",
        "  if True:\n",
        "    print(\"공백 4개 들여쓰기\")\n",
        "\n",
        "\n",
        "long_string = (\n",
        "    \"이것은 매우 긴 문자열입니다. \"\n",
        "    \"여러 줄로 나눠서 작성합니다.\"\n",
        ")\n",
        "\n",
        "\n",
        "class MyClass:\n",
        "  def method1(self): pass\n",
        "  def method2(self): pass\n",
        "\n",
        "\n",
        "def my_function(): pass\n",
        "\n",
        "\n",
        "print(\"규칙 예시 출력 완료\")"
      ]
    },
    {
      "cell_type": "code",
      "execution_count": null,
      "metadata": {},
      "outputs": [],
      "source": [
        "print(\"=== PEP 8 명명 규칙 ===\")\n",
        "user_name = \"Alice\"\n",
        "total_count = 100\n",
        "is_active = True\n",
        "def calculate_total(): return 100\n",
        "def get_user_info(): return {}\n",
        "\n",
        "\n",
        "class UserAccount:\n",
        "    pass\n",
        "\n",
        "\n",
        "class BankTransaction:\n",
        "    pass\n",
        "\n",
        "\n",
        "MAX_SIZE = 1000\n",
        "DEFAULT_TIMEOUT = 30\n",
        "PI = 3.14159\n",
        "print(\"변수/함수/클래스/상수 예시 OK\")"
      ]
    },
    {
      "cell_type": "code",
      "execution_count": null,
      "metadata": {},
      "outputs": [],
      "source": [
        "print(\"=== 공백 규칙 ===\")\n",
        "result = 10 + 5  # 연산자 양옆 공백\n",
        "def func(a, b, c): return a + b + c\n",
        "\n",
        "\n",
        "my_list = [1, 2, 3]\n",
        "my_dict = {'a': 1, 'b': 2}\n",
        "print(\"공백 규칙 예시 OK\")"
      ]
    },
    {
      "cell_type": "markdown",
      "metadata": {},
      "source": [
        "### 3.4 코드 스타일 체크 도구 (설치 필요)\n",
        "\n",
        "- **pylint**: 코드 품질 검사\n",
        "- **flake8**: PEP 8 위반 검사\n",
        "- **black**: 자동 포매팅\n",
        "- **autopep8**: PEP 8 자동 수정\n"
      ]
    },
    {
      "cell_type": "code",
      "execution_count": null,
      "metadata": {},
      "outputs": [],
      "source": [
        "print(\"=== 사용 예 (터미널) ===\")\n",
        "print(\"pylint my_script.py\")\n",
        "print(\"flake8 my_script.py\")\n",
        "print(\"black my_script.py\")\n",
        "print(\"autopep8 --in-place --aggressive my_script.py\")\n",
        "\n",
        "bad_code = \"\"\"\n",
        "def badFunction( x,y ):\n",
        "    result=x+y\n",
        "    return result\n",
        "\"\"\"\n",
        "\n",
        "good_code = \"\"\"\n",
        "def good_function(x, y):\n",
        "    result = x + y\n",
        "    return result\n",
        "\"\"\"\n",
        "\n",
        "print(\"\\n[Bad]\\n\", bad_code)\n",
        "print(\"[Good]\\n\", good_code)"
      ]
    },
    {
      "cell_type": "markdown",
      "metadata": {},
      "source": [
        "---\n",
        "\n",
        "## 💻 실습 과제\n"
      ]
    },
    {
      "cell_type": "markdown",
      "metadata": {},
      "source": [
        "### 과제 1: Keyword 마스터 (10점)\n"
      ]
    },
    {
      "cell_type": "code",
      "execution_count": null,
      "metadata": {},
      "outputs": [],
      "source": [
        "import keyword\n",
        "\n",
        "print(\"=== 과제 1: Keyword 목록/Soft 여부 출력 ===\")\n",
        "for kw in sorted(set(keyword.kwlist + ['match', 'case', '_'])):\n",
        "  print(f\"{kw:>8} | soft? {keyword.issoftkeyword(kw)}\")\n",
        "\n",
        "\n",
        "def check_keyword(word: str):\n",
        "  \"\"\"단어가 키워드/소프트키워드인지 체크\"\"\"\n",
        "  print(f\"{word:>8} | keyword={keyword.iskeyword(word)} | soft={keyword.issoftkeyword(word)}\")\n",
        "\n",
        "\n",
        "for w in ['if', 'If', 'print', 'match', 'def', 'function']:\n",
        "  check_keyword(w)"
      ]
    },
    {
      "cell_type": "markdown",
      "metadata": {},
      "source": [
        "### 과제 2: Literal 실습 (15점)\n"
      ]
    },
    {
      "cell_type": "code",
      "execution_count": null,
      "metadata": {},
      "outputs": [],
      "source": [
        "print(\"=== 과제 2-1: Integer Literal ===\")\n",
        "decimal_num = 100\n",
        "binary_num = 0b1100100\n",
        "octal_num = 0o144\n",
        "hex_num = 0x64\n",
        "large_num = 100_000_000\n",
        "print(decimal_num, binary_num, octal_num, hex_num, f\"{large_num:,}\")\n",
        "\n",
        "print(\"\\n=== 과제 2-2: String Literal ===\")\n",
        "multiline = \"\"\"여러 줄\n",
        "문자열\n",
        "입니다\"\"\"\n",
        "file_path = r\"C:\\Windows\\System32\"\n",
        "name, age = \"Alice\", 25\n",
        "greeting = f\"안녕하세요 {name}님, {age}살이시군요!\"\n",
        "formatted_text = \"이름\\t나이\\nAlice\\t25\"\n",
        "print(multiline, file_path, greeting, formatted_text, sep=\"\\n\")\n",
        "\n",
        "print(\"\\n=== 과제 2-3: Container Literal ===\")\n",
        "student = {\"name\": \"Jay\", \"age\": 23, \"scores\": [95, 88, 91]}\n",
        "coordinates = (1.0, 2.5, -3.2)\n",
        "unique_numbers = {1, 2, 2, 3, 4}\n",
        "matrix = [[1, 2, 3], [4, 5, 6], [7, 8, 9]]\n",
        "print(student, coordinates, unique_numbers, matrix, sep=\"\\n\")"
      ]
    },
    {
      "cell_type": "markdown",
      "metadata": {},
      "source": [
        "### 과제 3: Token 분석 프로젝트 (20점)\n"
      ]
    },
    {
      "cell_type": "code",
      "execution_count": null,
      "metadata": {},
      "outputs": [],
      "source": [
        "import tokenize\n",
        "import io\n",
        "from collections import Counter\n",
        "\n",
        "\n",
        "def advanced_token_analyzer(code: str):\n",
        "  tokens = list(tokenize.generate_tokens(io.StringIO(code).readline))\n",
        "  total = len(tokens)\n",
        "  types = [tokenize.tok_name[t.type] for t in tokens]\n",
        "  type_counts = Counter(types)\n",
        "  keywords = [t.string for t in tokens if t.type ==\n",
        "              tokenize.NAME and t.string in __import__('keyword').kwlist]\n",
        "  identifiers = [t.string for t in tokens if t.type ==\n",
        "                 tokenize.NAME and t.string not in __import__('keyword').kwlist]\n",
        "  literals = [t.string for t in tokens if t.type in (\n",
        "      tokenize.NUMBER, tokenize.STRING)]\n",
        "  print(\"총 Token 수:\", total)\n",
        "  print(\"타입별 개수:\", dict(type_counts))\n",
        "  print(\"키워드:\", sorted(set(keywords)))\n",
        "  print(\"식별자:\", sorted(set(identifiers)))\n",
        "  print(\"리터럴:\", literals)\n",
        "\n",
        "\n",
        "test_code = \"\"\"\n",
        "def calculate_area(radius):\n",
        "    pi = 3.14159\n",
        "    area = pi * radius ** 2\n",
        "    return area\n",
        "\n",
        "result = calculate_area(5)\n",
        "print(f\"Area: {result}\")\n",
        "\"\"\"\n",
        "advanced_token_analyzer(test_code)"
      ]
    },
    {
      "cell_type": "markdown",
      "metadata": {},
      "source": [
        "### 과제 4: PEP 8 코드 리팩토링 (15점)\n"
      ]
    },
    {
      "cell_type": "code",
      "execution_count": null,
      "metadata": {},
      "outputs": [],
      "source": [
        "bad_code = \"\"\"\n",
        "def CalculateTotal(Price,Quantity,discount):\n",
        "    Total=Price*Quantity\n",
        "    if discount>0:\n",
        "        Total=Total-Total*discount/100\n",
        "    return Total\n",
        "\n",
        "class userAccount:\n",
        "    def __init__( self,name,age ):\n",
        "        self.Name=name\n",
        "        self.Age=age\n",
        "    def GetInfo(self):\n",
        "        return self.Name,self.Age\n",
        "\n",
        "MyUser=userAccount('alice',25)\n",
        "name,age=MyUser.GetInfo()\n",
        "PRICE=100\n",
        "qty=5\n",
        "total=CalculateTotal(PRICE,qty,10)\n",
        "\"\"\"\n",
        "\n",
        "good_code = \"\"\"\n",
        "def calculate_total(price, quantity, discount=0):\n",
        "    total = price * quantity\n",
        "    if discount > 0:\n",
        "        total = total - total * discount / 100\n",
        "    return total\n",
        "\n",
        "class UserAccount:\n",
        "    def __init__(self, name, age):\n",
        "        self.name = name\n",
        "        self.age = age\n",
        "\n",
        "    def get_info(self):\n",
        "        return self.name, self.age\n",
        "\n",
        "my_user = UserAccount('alice', 25)\n",
        "name, age = my_user.get_info()\n",
        "PRICE = 100\n",
        "QTY = 5\n",
        "total = calculate_total(PRICE, QTY, 10)\n",
        "\"\"\"\n",
        "\n",
        "print(\"=== 수정 전 (Bad) ===\\n\", bad_code)\n",
        "print(\"\\n=== 수정 후 (Good) ===\\n\", good_code)"
      ]
    },
    {
      "cell_type": "markdown",
      "metadata": {},
      "source": [
        "---\n",
        "\n",
        "## 🤔 토론 주제\n",
        "\n",
        "1. Python의 키워드 수가 비교적 적은 이유는? 장/단점은?\n",
        "2. Soft Keyword의 장단점과 경험 공유\n",
        "3. f-string은 Literal인가 Expression인가? (둘 다 관점 존재)\n"
      ]
    },
    {
      "cell_type": "markdown",
      "metadata": {},
      "source": [
        "## ✅ 체크리스트\n",
        "\n",
        "- [ ] Token의 4가지 종류 설명 가능\n",
        "- [ ] 모든 Literal (Numeric/String/Boolean/None/Container) 작성 가능\n",
        "- [ ] PEP 8 핵심 규칙 적용 가능\n",
        "- [ ] `tokenize`로 코드 분해/통계 가능\n"
      ]
    },
    {
      "cell_type": "markdown",
      "metadata": {},
      "source": [
        "## 📚 참고 자료\n",
        "\n",
        "- PEP 8: https://www.python.org/dev/peps/pep-0008/\n",
        "- Python Lexical Analysis: https://docs.python.org/3/reference/lexical_analysis.html\n",
        "- `tokenize` 모듈: https://docs.python.org/3/library/tokenize.html\n"
      ]
    }
  ],
  "metadata": {
    "kernelspec": {
      "display_name": "clt-python (3.13.7)",
      "language": "python",
      "name": "python3"
    },
    "language_info": {
      "codemirror_mode": {
        "name": "ipython",
        "version": 3
      },
      "file_extension": ".py",
      "mimetype": "text/x-python",
      "name": "python",
      "nbconvert_exporter": "python",
      "pygments_lexer": "ipython3",
      "version": "3.13.7"
    }
  },
  "nbformat": 4,
  "nbformat_minor": 5
}
