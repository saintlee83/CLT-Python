{
 "cells": [
  {
   "cell_type": "markdown",
   "id": "6605bea0",
   "metadata": {},
   "source": [
    "# Looping, imoprt, while, for\n"
   ]
  },
  {
   "cell_type": "markdown",
   "id": "e29b9bcd",
   "metadata": {},
   "source": [
    "## while\n",
    "\n",
    "python의 대표적인 loop structure임, condition인 True인 동안 반복 실행\n",
    "\n",
    "```python\n",
    "while condition:\n",
    "    while_block\n",
    "```\n",
    "\n",
    "동작 방식:\n",
    "\n",
    "- condition이 True일 때 while_block 실행\n",
    "\n",
    "- 블록 실행 후 다시 조건 검사\n",
    "\n",
    "- 조건이 False가 되면 반복 종료\n",
    "\n",
    "- 처음부터 False면 한 번도 실행 안 됨\n"
   ]
  },
  {
   "cell_type": "code",
   "execution_count": null,
   "id": "8ecb36d3",
   "metadata": {},
   "outputs": [
    {
     "name": "stdout",
     "output_type": "stream",
     "text": [
      "1\n",
      "2\n",
      "3\n",
      "4\n"
     ]
    }
   ],
   "source": [
    "a = 1\n",
    "while a < 5:\n",
    "  print(a)\n",
    "  a += 1  # 1부터 4까지 출력"
   ]
  },
  {
   "cell_type": "code",
   "execution_count": null,
   "id": "61f7f8d1",
   "metadata": {},
   "outputs": [
    {
     "name": "stdout",
     "output_type": "stream",
     "text": [
      "iteration #: 1\n",
      "iteration #: 2\n",
      "done!\n"
     ]
    }
   ],
   "source": [
    "cnt = 0\n",
    "while True:\n",
    "  cnt += 1\n",
    "  print('iteration #:', cnt)\n",
    "  ans = input('Do you want to quit?[y/n]: ').strip().lower()\n",
    "  if ans == 'y':\n",
    "    break\n",
    "print('done!')"
   ]
  },
  {
   "cell_type": "markdown",
   "id": "8fbe1a19",
   "metadata": {},
   "source": [
    "### continue문\n",
    "\n",
    "continue는 현재 반복의 나머지를 건너뛰고 다음 반복으로 이동함\n",
    "동작 방식:\n",
    "\n",
    "1. 현재 블록의 나머지 코드 생략\n",
    "\n",
    "2. 바로 조건 검사로 이동\n",
    "\n",
    "3. 다음 반복 시작\n",
    "\n",
    "예제 - 문자열에서 알파벳 개수 세기함\n"
   ]
  },
  {
   "cell_type": "code",
   "execution_count": null,
   "id": "0101c6cf",
   "metadata": {},
   "outputs": [
    {
     "name": "stdout",
     "output_type": "stream",
     "text": [
      "# of alphabets: 4\n"
     ]
    }
   ],
   "source": [
    "s = 'a1b2b3c3'\n",
    "cnt = 0\n",
    "idx = 0\n",
    "while True:\n",
    "  if idx >= len(s):\n",
    "    break\n",
    "  if not s[idx].isalpha():\n",
    "    idx += 1\n",
    "    continue  # 알파벳이 아니면 건너뛰기\n",
    "  idx += 1\n",
    "  cnt += 1\n",
    "print('# of alphabets:', cnt)"
   ]
  },
  {
   "cell_type": "markdown",
   "id": "ed410c55",
   "metadata": {},
   "source": [
    "핵심 정리\n",
    "\n",
    "- while: 조건이 참인 동안 반복\n",
    "\n",
    "- break: 반복문 완전 종료\n",
    "\n",
    "- continue: 현재 반복만 건너뛰고 다음 반복 진행\n",
    "\n",
    "- Python은 do-while이 없지만 while True + break 조합으로 구현 가능\n"
   ]
  },
  {
   "cell_type": "markdown",
   "id": "74541a22",
   "metadata": {},
   "source": [
    "## for\n",
    "\n",
    "Python에서는 iterable 객체 (주로 collection type의 객체들)이 가지고 있는 item들을 iterate(순회)하는 용도로 사용됨\n",
    "\n",
    "반복을 얼마나 효율적으로 하느냐가 성능을 결정함\n",
    "\n",
    "#### 기본 구조\n",
    "\n",
    "```python\n",
    "pythonfor loop_variable in iterable_obj:\n",
    "    for_block  # 반복될 코드 블록\n",
    "```\n",
    "\n",
    "#### 구성 요소:\n",
    "\n",
    "- `for`: 키워드로 시작\n",
    "\n",
    "- `loop_variable`: 각 반복마다 iterable의 item이 할당됨\n",
    "\n",
    "- `in`: 키워드\n",
    "\n",
    "- `iterable_obj`: 순회할 객체\n",
    "\n",
    "- `:` : compound statement 표시\n",
    "\n",
    "- `for_block`: 들여쓰기된 반복 코드\n",
    "\n",
    "활용 예시\n"
   ]
  },
  {
   "cell_type": "code",
   "execution_count": null,
   "id": "9a1b8c9c",
   "metadata": {},
   "outputs": [],
   "source": [
    "l = [0, 1, 2, 3, 4, 5]\n",
    "for c in l:\n",
    "  print(c)"
   ]
  },
  {
   "cell_type": "code",
   "execution_count": null,
   "id": "70a37f37",
   "metadata": {},
   "outputs": [],
   "source": [
    "s = 'abce1234ABC'\n",
    "for c in s:\n",
    "  if c.isdigit():\n",
    "    print(c)  # 1234 출력"
   ]
  },
  {
   "cell_type": "code",
   "execution_count": null,
   "id": "3e0a6551",
   "metadata": {},
   "outputs": [],
   "source": [
    "for c in range(0, 21, 2):\n",
    "  print(c)  # 0부터 20까지 짝수만 출력"
   ]
  },
  {
   "cell_type": "code",
   "execution_count": null,
   "id": "c0e7511e",
   "metadata": {},
   "outputs": [],
   "source": [
    "a = [0, 1, 2, 3, 4]\n",
    "s = 'abcdefgh'\n",
    "for i, c in zip(a, s):\n",
    "  print(f'{i},{c}')  # 5번만 반복 (짧은 쪽 기준)"
   ]
  },
  {
   "cell_type": "markdown",
   "id": "3127f236",
   "metadata": {},
   "source": [
    "#### 특징\n",
    "\n",
    "- NumPy 등을 사용하면 loop보다 matrix 연산이 더 효율적\n",
    "\n",
    "- 중첩 loop 구성 가능\n",
    "\n",
    "- break로 조기 종료, else로 정상 종료 확인 가능\n"
   ]
  },
  {
   "cell_type": "code",
   "execution_count": null,
   "id": "7aa09479",
   "metadata": {},
   "outputs": [],
   "source": []
  },
  {
   "cell_type": "markdown",
   "id": "a6d5694c",
   "metadata": {},
   "source": [
    "## Iterable, Iterator, and Generator\n",
    "\n",
    "### Iterable\n",
    "\n",
    "개념:\n",
    "\n",
    "- `for`문에서 `in` 뒤에 위치할 수 있는 순회 가능한 객체\n",
    "- `__iter__()` special method를 구현\n",
    "- Iterator 객체를 반환할 수 있음\n",
    "\n",
    "대표적인 예:\n",
    "\n",
    "`Collection` 타입: `list`, `tuple`, `dict`, `set`\n",
    "`string`, `range` 객체, 파일 객체 등\n",
    "\n",
    "### Iterator\n",
    "\n",
    "개념:\n",
    "\n",
    "- `iter()` 함수나 `__iter__()`로 생성됨\n",
    "- `__next__()` 메서드로 다음 요소 반환\n",
    "- 모든 요소 소진 시 StopIteration 예외 발생\n",
    "- `Lazy evaluation` 가능 (필요할 때 값 생성)\n",
    "\n",
    "```python\n",
    "# for element in iterable_object:\n",
    "#     print(element)\n",
    "\n",
    "# 실제 동작:\n",
    "iterator_object = iter(iterable_object)\n",
    "while True:\n",
    "    try:\n",
    "        element = next(iterator_object)\n",
    "        print(element)\n",
    "    except StopIteration:\n",
    "        break\n",
    "```\n"
   ]
  },
  {
   "cell_type": "code",
   "execution_count": null,
   "id": "a3a1340d",
   "metadata": {},
   "outputs": [
    {
     "name": "stdout",
     "output_type": "stream",
     "text": [
      "list is a subclass of Iterable True\n",
      "tuple is a subclass of Iterable True\n",
      "set is a subclass of Iterable True\n",
      "dict is a subclass of Iterable True\n"
     ]
    }
   ],
   "source": [
    "from collections.abc import Iterable\n",
    "\n",
    "cs = (list, tuple, set, dict)\n",
    "\n",
    "for a in cs:\n",
    "  print(f'{a.__name__} is a subclass of Iterable', issubclass(a, Iterable))"
   ]
  },
  {
   "cell_type": "markdown",
   "id": "2d033dee",
   "metadata": {},
   "source": [
    "Generator\n",
    "개념:\n",
    "\n",
    "yield를 사용하는 함수로 구현\n",
    "Generator iterator를 생성\n",
    "Lazy evaluation으로 메모리 효율적\n",
    "필요할 때 값을 동적으로 생성\n",
    "\n",
    "장점:\n",
    "\n",
    "큰 데이터셋에서 메모리 효율적\n",
    "무한 시퀀스 생성 가능\n",
    "\n",
    "단점:\n",
    "\n",
    "재사용 불가 (다시 생성해야 함)\n",
    "여러 번 iterate 필요시 list가 더 효과적\n",
    "\n",
    "구현 방법:\n",
    "\n",
    "yield 사용:\n"
   ]
  },
  {
   "cell_type": "markdown",
   "id": "803e05c4",
   "metadata": {},
   "source": [
    "### 1. yield\n"
   ]
  },
  {
   "cell_type": "code",
   "execution_count": null,
   "id": "4ff84adf",
   "metadata": {},
   "outputs": [
    {
     "name": "stdout",
     "output_type": "stream",
     "text": [
      "0\n",
      "1\n",
      "2\n",
      "3\n"
     ]
    }
   ],
   "source": [
    "def ds_get_generator(end):\n",
    "  for i in range(0, end+1):\n",
    "    yield i\n",
    "\n",
    "\n",
    "g = ds_get_generator(3)\n",
    "for c in g:\n",
    "  print(c)  # 0, 1, 2, 3 출력"
   ]
  },
  {
   "cell_type": "markdown",
   "id": "af11d804",
   "metadata": {},
   "source": [
    "#### 2. yeild from\n"
   ]
  },
  {
   "cell_type": "code",
   "execution_count": null,
   "id": "76b4504f",
   "metadata": {},
   "outputs": [],
   "source": [
    "def ds_get_generator(end):\n",
    "  l = range(0, end+1)\n",
    "  yield from l"
   ]
  },
  {
   "cell_type": "markdown",
   "id": "b7682b58",
   "metadata": {},
   "source": [
    "#### 3. Generator Expression\n"
   ]
  },
  {
   "cell_type": "code",
   "execution_count": 8,
   "id": "d88c496a",
   "metadata": {},
   "outputs": [],
   "source": [
    "g = (x for x in range(5))"
   ]
  },
  {
   "cell_type": "markdown",
   "id": "18a24479",
   "metadata": {},
   "source": [
    "### 비교표: range vs iterator vs generator\n",
    "\n",
    "| 항목                 | range                | iterator       | generator              |\n",
    "| -------------------- | -------------------- | -------------- | ---------------------- |\n",
    "| **목적**             | 고정된 숫자 sequence | iteration 제어 | 유연한 값 생성         |\n",
    "| **Lazy evaluation**  | Yes                  | Yes            | Yes                    |\n",
    "| **next() 인자 가능** | No                   | Yes            | Yes                    |\n",
    "| **상태 저장**        | No                   | Yes            | Yes                    |\n",
    "| **중간 제어 가능**   | No                   | 제한적         | Yes                    |\n",
    "| **무한 생성 가능**   | No                   | 제한적         | Yes                    |\n",
    "| **구현 방식**        | built-in             | `__next__()`   | `yield`, comprehension |\n"
   ]
  },
  {
   "cell_type": "markdown",
   "id": "b6c4e7ec",
   "metadata": {},
   "source": [
    "expression의 값을 구하는 방식은 다음의 두가지가 있음:\n",
    "\n",
    "1. 필요할 때에 비로서 값을 구하는 `lazy evaluation`\n",
    "\n",
    "2. `exporession`을 실행하자마자 그 즉시 값을 구하는 경우를 `eager evaluation`라 함\n",
    "\n",
    "일반적으로 Python에서는 eager evaluation이 기본이지만, range, iterator, generator 처럼 매우 큰 데이터셋에 대한 순회등을 해야하는 경우에는 lazy evaluation을 사용함: 메모리 효율성과 계산 효율성 등을 위해 laze evaluation이 사용된다.\n"
   ]
  },
  {
   "cell_type": "markdown",
   "id": "f910d800",
   "metadata": {},
   "source": [
    "## range and enumerate\n",
    "\n",
    "### range\n",
    "\n",
    "개념:\n",
    "\n",
    "- 숫자들의 immutable sequence를 생성하는 built-in 타입\n",
    "\n",
    "- Lazy Iterable (메모리 효율적)\n",
    "\n",
    "- range() 함수는 실제로는 클래스 생성자\n",
    "\n",
    "```python\n",
    "range(start, stop, step)\n",
    "```\n",
    "\n",
    "Parameters:\n",
    "\n",
    "- start: 시작 값 (기본값: 0)\n",
    "\n",
    "- stop: 종료 값 (exclusive, 포함 안 됨)\n",
    "\n",
    "- step: 증가량 (기본값: 1)\n"
   ]
  },
  {
   "cell_type": "code",
   "execution_count": 10,
   "id": "dd2c7b3c",
   "metadata": {},
   "outputs": [
    {
     "name": "stdout",
     "output_type": "stream",
     "text": [
      "range(0, 10)\n",
      "range(1, 11)\n",
      "range(0, 20, 2)\n",
      "range(10, 0, -1)\n"
     ]
    }
   ],
   "source": [
    "# 단일 argument\n",
    "print(range(10))  # 0부터 9까지\n",
    "\n",
    "# 두 개 arguments\n",
    "print(range(1, 11))  # 1부터 10까지\n",
    "\n",
    "# 세 개 arguments\n",
    "print(range(0, 20, 2))  # 0부터 18까지 짝수\n",
    "\n",
    "# 역순\n",
    "print(range(10, 0, -1))  # 10부터 1까지 역순"
   ]
  },
  {
   "cell_type": "code",
   "execution_count": 11,
   "id": "4333d5ac",
   "metadata": {},
   "outputs": [
    {
     "name": "stdout",
     "output_type": "stream",
     "text": [
      "0\n",
      "1\n",
      "2\n",
      "3\n",
      "4\n",
      "5\n",
      "6\n",
      "7\n",
      "8\n",
      "9\n"
     ]
    }
   ],
   "source": [
    "for i in range(10):\n",
    "    print(i)  # 0~9 출력"
   ]
  },
  {
   "cell_type": "markdown",
   "id": "d450bb32",
   "metadata": {},
   "source": [
    "### enumerate\n",
    "개념:\n",
    "\n",
    "- Iterable 객체를 입력받아 index와 item을 함께 반환\n",
    "\n",
    "- enumerate 객체를 생성\n",
    "\n",
    "- 각 반복에서 (index, item) 튜플 반환\n",
    "\n",
    "```python\n",
    "enumerate(iterable, start=0)\n",
    "```"
   ]
  },
  {
   "cell_type": "code",
   "execution_count": 14,
   "id": "8bf110a4",
   "metadata": {},
   "outputs": [
    {
     "name": "stdout",
     "output_type": "stream",
     "text": [
      "iteration 0: one\n",
      "iteration 1: two\n",
      "iteration 2: three\n",
      "iteration 3: four\n",
      "\n",
      "iteration 0: one\n",
      "iteration 1: two\n",
      "iteration 2: three\n",
      "iteration 3: four\n",
      "\n",
      "iteration 8: one\n",
      "iteration 9: two\n",
      "iteration 10: three\n",
      "iteration 11: four\n"
     ]
    }
   ],
   "source": [
    "a = ['one', 'two', 'three', 'four']\n",
    "\n",
    "# 방법 1: 튜플로 받기\n",
    "for t in enumerate(a):\n",
    "    idx = t[0]\n",
    "    item = t[1]\n",
    "    print(f'iteration {idx}: {item}')\n",
    "\n",
    "print()\n",
    "\n",
    "# 방법 2: Unpacking (더 일반적)\n",
    "for idx, item in enumerate(a):\n",
    "    print(f'iteration {idx}: {item}')\n",
    "\n",
    "print()\n",
    "# 시작 index 지정\n",
    "for idx, item in enumerate(a, 8):\n",
    "    print(f'iteration {idx}: {item}')  # index가 8부터 시작"
   ]
  },
  {
   "cell_type": "markdown",
   "id": "2f0a8379",
   "metadata": {},
   "source": [
    "index만 필요한 경우\n",
    "\n",
    "```python\n",
    "# Pythonic way (추천)\n",
    "for idx, _ in enumerate(iterator):\n",
    "    do_something(idx)\n",
    "\n",
    "# 비추천 방식\n",
    "for idx in range(len(iterator)):\n",
    "    do_something(idx)\n",
    "```\n",
    "\n",
    "#### 핵심 차이점\n",
    "\n",
    "- range: 숫자 시퀀스만 생성, 재사용 가능\n",
    "\n",
    "- enumerate: 모든 iterable에 index 추가, 반복 횟수 추적에 유용\n",
    "\n",
    "- 공통점: 둘 다 메모리 효율적인 lazy evaluation 사용"
   ]
  },
  {
   "cell_type": "markdown",
   "id": "20986ab2",
   "metadata": {},
   "source": [
    "## import\n"
   ]
  },
  {
   "cell_type": "markdown",
   "id": "4f3399e0",
   "metadata": {},
   "source": [
    "## Python VM\n"
   ]
  },
  {
   "cell_type": "markdown",
   "id": "dec8d295",
   "metadata": {},
   "source": [
    "## RSP Game\n"
   ]
  },
  {
   "cell_type": "markdown",
   "id": "2d4f5947",
   "metadata": {},
   "source": []
  }
 ],
 "metadata": {
  "kernelspec": {
   "display_name": "clt-python (3.13.7)",
   "language": "python",
   "name": "python3"
  },
  "language_info": {
   "codemirror_mode": {
    "name": "ipython",
    "version": 3
   },
   "file_extension": ".py",
   "mimetype": "text/x-python",
   "name": "python",
   "nbconvert_exporter": "python",
   "pygments_lexer": "ipython3",
   "version": "3.13.7"
  }
 },
 "nbformat": 4,
 "nbformat_minor": 5
}
