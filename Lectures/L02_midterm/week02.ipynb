{
 "cells": [
  {
   "cell_type": "markdown",
   "id": "cb3d2dda",
   "metadata": {},
   "source": [
    "# Control Structure\n"
   ]
  },
  {
   "cell_type": "markdown",
   "id": "4acdac33",
   "metadata": {},
   "source": [
    "## bool: Boolean Type\n",
    "\n",
    "`if` statment, `while` statment 및 logical operator 들과 자주 사용되는 type임\n",
    "\n",
    "- Boolean object가 가질 수 있는 value는 단 두가지로 모두 키워드에 해당\n"
   ]
  },
  {
   "cell_type": "code",
   "execution_count": 2,
   "id": "38722980",
   "metadata": {},
   "outputs": [
    {
     "name": "stdout",
     "output_type": "stream",
     "text": [
      "<class 'bool'>\n",
      "<class 'bool'>\n"
     ]
    }
   ],
   "source": [
    "# Boolean 값은 종류가 True False 딱 두가지 뿐\n",
    "\n",
    "boolean = True\n",
    "print(type(boolean))\n",
    "\n",
    "boolean = False\n",
    "print(type(boolean))"
   ]
  },
  {
   "cell_type": "markdown",
   "id": "c204d86d",
   "metadata": {},
   "source": [
    "### Truthiness\n",
    "\n",
    "값이 True/False 처럼 평가되는 성질\n",
    "\n",
    "프로그래밍에서 Truthiness는 실제 boolean 값이 아니지만 boolean value로 다루어 지는 경우를 가르킴\n",
    "\n",
    "Python에서 다음의 경우들은 False로 다루어짐.\n",
    "\n",
    "```python\n",
    "None\n",
    "0\n",
    "0.0\n",
    "an empty str, \"\"\n",
    "an empty list, []\n",
    "an empty set, set()\n",
    "an empty dict, {}\n",
    "```\n",
    "\n",
    "그 외의 경우는 True로 다루어짐.\n"
   ]
  },
  {
   "cell_type": "markdown",
   "id": "92492ae3",
   "metadata": {},
   "source": [
    "## Boolean Operators\n",
    "\n",
    "기본 boolean operator는 다음 3가지로 구성\n",
    "\n",
    "- `and` : binary op `&` 에 해당\n",
    "- `or` : binary op `|` 에 해당\n",
    "- `not` : (unary operator로 operand가 하나)`!` 에 해당\n",
    "\n",
    "(not, and, or) : precedence 에 따라 나열됨\n",
    "\n",
    "### short-circuit evaluation\n",
    "\n",
    "boolean operator로 묶여 있는 combining comparison의 경우 `short-circuit evaluation`이 수행됨\n",
    "\n",
    "- or : 왼쪽에서 오른쪽으로 evaluation 되는 중 하나라도 True가 나오면 뒷 부분은 evaluation이 이루어 지지 않고 True를 반환\n",
    "- and : 하나라도 False가 나오면 뒷 부분은 evaluation이 이루어 지지 않고 False를 반환\n"
   ]
  },
  {
   "cell_type": "markdown",
   "id": "fc82d00e",
   "metadata": {},
   "source": [
    "## Relational Operators\n",
    "\n",
    "관계 연산자(비교 연산자) / 반환값 : boolean type\n",
    "\n",
    "```python\n",
    "> : greater than\n",
    "< : less than\n",
    ">= : greater than or equal to\n",
    "<= : less than or equal to\n",
    "== : equal to\n",
    "!= : not equal to\n",
    "```\n"
   ]
  },
  {
   "cell_type": "code",
   "execution_count": 4,
   "id": "a713323d",
   "metadata": {},
   "outputs": [
    {
     "name": "stdout",
     "output_type": "stream",
     "text": [
      "True\n",
      "False\n",
      "True\n",
      "True\n"
     ]
    }
   ],
   "source": [
    "print('A' < 'a')\n",
    "print('A' > 'a')\n",
    "print('abc' < 'abd')\n",
    "print('abc' < 'abcd')"
   ]
  },
  {
   "cell_type": "markdown",
   "id": "cdea5253",
   "metadata": {},
   "source": [
    "# Compound Statement\n",
    "\n",
    "Compound statement는 다른 문장들을 포함하는 구문으로, 하나 이상의 절(clause)로 구성됨\n",
    "\n",
    "절은 헤더(header)와 본문(suite)으로 이루어져 있음\n",
    "\n",
    "구조는 다음과 같음\n",
    "\n",
    "1. header : 키워드로 시작하고 `:`으로 끝남\n",
    "2. body(=suite) : 들여쓰기된 하나 이상의 문장\n",
    "\n",
    "### code block\n",
    "\n",
    "code block 여러 라인을 하나의 block으로 묶은 것으로 indent level이 증가 하면서 시작되며 indent 가 없거나 indent level이 감소할 때 끝남\n",
    "\n",
    "- code block은 다른 code block을 포함 할 수 있음\n"
   ]
  },
  {
   "cell_type": "markdown",
   "id": "fcffcaf8",
   "metadata": {},
   "source": [
    "## if, elif, else\n",
    "\n",
    "파이썬의 대표적인 compound statements로 프로그램의 decision point를 만들며 evaluation할 code block이 condition에 따라 나누어짐\n",
    "\n",
    "if, elif, else 모두 compount statements로 첫 라인이 `:`로 끝나야 함\n",
    "\n",
    "### condition\n",
    "\n",
    "boolean value로 reduction되는 expression을 의미함\n",
    "\n",
    "````python\n",
    "\n",
    "if condition1 :\n",
    "    ```code block```\n",
    "\n",
    "elif condition2 : # 이전에 1개 이상의 if statement가 실행 되어야 함\n",
    "    ```code block2```\n",
    "\n",
    "else : # condition이 없음\n",
    "    ```code block3```\n",
    "````\n",
    "\n",
    "- 같은 indent level의 if, elif, else statements들은 오직 하나의 condition에 대한 code block만 수행됨\n",
    "- 선행된 condition에 우선권이 있음\n"
   ]
  },
  {
   "cell_type": "code",
   "execution_count": null,
   "id": "28c74bf2",
   "metadata": {},
   "outputs": [
    {
     "name": "stdout",
     "output_type": "stream",
     "text": [
      "와우 높은 학점 이군요!\n"
     ]
    }
   ],
   "source": [
    "gpa = float(input(\"당신의 학점을 입력하세요 : \"))\n",
    "\n",
    "if gpa > 4.0:\n",
    "  print(\"와우 높은 학점 이군요!\")\n",
    "elif gpa > 3.5:\n",
    "  print(\"열심히 하고 계시군요 응원합니다!\")\n",
    "elif gpa > 3.0:\n",
    "  print(\"조금 더 힘 내 보아요\")\n",
    "else:\n",
    "  print(\"노력좀 하셔야 겠습니다.\")"
   ]
  },
  {
   "cell_type": "markdown",
   "id": "86c523a0",
   "metadata": {},
   "source": [
    "### Nesting\n",
    "\n",
    "if, elif, else statement 각각의 code block안에는 어떠한 python statments도 놓일 수 있음\n",
    "\n",
    "즉 if 안 if 를 충첩할 수 있음\n"
   ]
  },
  {
   "cell_type": "code",
   "execution_count": 8,
   "id": "105d1621",
   "metadata": {},
   "outputs": [
    {
     "name": "stdout",
     "output_type": "stream",
     "text": [
      "와우...\n"
     ]
    }
   ],
   "source": [
    "gpa = float(input(\"당신의 학점을 입력하세요 : \"))\n",
    "\n",
    "if gpa >= 4.4:\n",
    "  print(\"와우...\")\n",
    "else:\n",
    "  if gpa >= 4.0:\n",
    "    print(\"와우 높은 학점 이군요!\")\n",
    "  elif gpa >= 3.5:\n",
    "    print(\"열심히 하고 계시군요 응원합니다!\")\n",
    "  elif gpa >= 3.0:\n",
    "    print(\"조금 더 힘 내 보아요\")\n",
    "  else:\n",
    "    print(\"노력좀 하셔야 겠습니다.\")"
   ]
  },
  {
   "cell_type": "markdown",
   "id": "0a133658",
   "metadata": {},
   "source": [
    "# input을 받는 여러가지 방법\n"
   ]
  },
  {
   "cell_type": "markdown",
   "id": "23a1d85b",
   "metadata": {},
   "source": [
    "## input\n",
    "\n",
    "python의 input() 표준 입력 스트림(stdin)으로 부터 데이터를 입력 받는 함수\n"
   ]
  },
  {
   "cell_type": "markdown",
   "id": "6a5cb015",
   "metadata": {},
   "source": [
    "### 1. 표준 입력 스트림(stdin)이란\n",
    "\n",
    "- 파이썬 인터프리터는 **모든 키보드·파이프·리다이렉션 입력**을 sys.stdin이라는 *텍스트 파일-같은 객체*로 다룬다.\n",
    "- stdin, stdout, stderr는 프로그램이 시작될 때 자동으로 열리며, 각각 *입력·일반 출력·오류 출력*용으로 사용된다. sys.**stdin**처럼 “\\_\\_”가 붙은 속성에는 원본 스트림이 보관되어 있어 재지정 후 복구가 가능하다.\n",
    "- 스트림 역시 파일 디스크립터이므로 **버퍼링, 인코딩, 오류 처리 방식**을 가진다. PYTHONIOENCODING 환경변수나 -u옵션(언버퍼드 모드)로 동작을 조절할 수 있다.\n"
   ]
  },
  {
   "cell_type": "markdown",
   "id": "2e88fe86",
   "metadata": {},
   "source": [
    "### 2. input()의 기본 구조\n"
   ]
  },
  {
   "cell_type": "code",
   "execution_count": null,
   "id": "114029fa",
   "metadata": {},
   "outputs": [],
   "source": [
    "name = input()                 # 프롬프트 없이 대기\n",
    "age = input('나이를 입력: ')   # 프롬프트 출력 후 대기"
   ]
  },
  {
   "cell_type": "markdown",
   "id": "ca0fe7b7",
   "metadata": {},
   "source": [
    "- 프롬프트 문자열은 stdout으로 출력된 뒤 곧바로 stdin 대기 상태로 전환된다.\n",
    "- **반환형은 항상 str**이다. 숫자·불리언 등으로 사용하려면 형 변환이 필요하며, 실패 시 ValueError가 발생한다.\n"
   ]
  },
  {
   "cell_type": "markdown",
   "id": "7196e3c7",
   "metadata": {},
   "source": [
    "## sys.argv\n",
    "\n",
    "sys 모듈은 Python VM(Interpreter)과의 상호작용을 담당하는 모듈\n",
    "\n",
    "Python interpreter가 사용하거나 유지하는 variables 와\n",
    "Interpreter와 밀접하게 관련된 functions(종료 등)에 대한 접근을 제공함\n",
    "\n",
    "### 1. sys.argv\n",
    "\n",
    "커맨드 라인을 통해 Python 스크립트에 전달된 인자 리스트\n",
    "\n",
    "- argv[0]: 스크립트 파일 이름\n",
    "\n",
    "- argv[1] 이후: 스크립트 파일명 다음에 전달된 인자들 (공백으로 구분)\n",
    "\n",
    "- python -c 사용 시: argv[0]는 -c\n",
    "\n",
    "#### 특징\n",
    "\n",
    "1. 모든 인자는 `str`\n",
    "2. Unix/macOS/Linux에서는 OS가 bytes로 전달하고, Python이 파일 시스템 인코딩으로 디코드함\n"
   ]
  },
  {
   "cell_type": "code",
   "execution_count": null,
   "id": "c010ec58",
   "metadata": {},
   "outputs": [
    {
     "name": "stdout",
     "output_type": "stream",
     "text": [
      "00:[/Users/jaylee_83/Documents/_itsjayspace/git_clones/_CLT/CLT-Python/.venv/lib/python3.13/site-packages/ipykernel_launcher.py]\n",
      "01:[--f=/Users/jaylee_83/Library/Jupyter/runtime/kernel-v38baa791afd9f3acded8bee9a04fc30400d8cedbc.json]\n"
     ]
    }
   ],
   "source": [
    "import sys\n",
    "for idx, i in enumerate(sys.argv):\n",
    "  print(f\"{idx:02d}:[{i}]\")"
   ]
  },
  {
   "cell_type": "markdown",
   "id": "087dbd5f",
   "metadata": {},
   "source": [
    "### 2. sys.executable\n",
    "\n",
    "현재 실행 중인 Python interpreter의 절대 경로\n",
    "\n",
    "Python 명령어의 절대 경로를 문자열로 반환\n",
    "경로를 찾을 수 없으면 None 또는 빈 문자열\n"
   ]
  },
  {
   "cell_type": "markdown",
   "id": "c87bcd2d",
   "metadata": {},
   "source": [
    "### 3. sys.exit([arg])\n",
    "\n",
    "Python interpreter에게 종료를 지시\n",
    "\n",
    "arg: 종료 상태 코드\n",
    "\n",
    "- 0 : 정상 종료 (기본값), None도 같은 역할을 함\n",
    "\n",
    "- 다른 int 값: 비정상 종료를 OS에 알림, None 도 같은 역할을 함\n",
    "\n",
    "- str : 해당 문자열이 `stderr(표준에러스트림)`에 출력됨, 종료 상태 코드는 1로 설정됨\n",
    "\n",
    "- object : 객체가 문자열로 변환 가능하면 변환된 문자열 출력후 종료, 불가능한 경우 그냥 종료, 상테 코드는 1\n",
    "\n",
    "```python\n",
    "class CustomError:\n",
    "    def __str__(self):\n",
    "        return \"Custom error occurred\"\n",
    "\n",
    "sys.exit(CustomError())\n",
    "```\n",
    "\n",
    "종료 후 echo $? (Linux/macOS) 또는 echo %ERRORLEVEL% (Windows)로 확인 가능 \\\n",
    "SystemExit exception을 발생시킴\n",
    "\n",
    "exit()와의 차이:\n",
    "\n",
    "exit(): site-packages 기반, interactive shell에서 주로 사용 \\\n",
    "sys.exit(): sys 모듈 기반, 스크립트에서 주로 사용 \\\n",
    "python -S 옵션 사용 시 exit()는 NameError 발생하지만 sys.exit()는 정상 작동\n",
    "\n",
    "#### 실행 환경별 동작 차이\n",
    "\n",
    "1. 일반 Python 스크립트 (.py)\n",
    "\n",
    "   - SystemExit 예외가 처리되지 않으면 Python 인터프리터가 프로그램을 종료\n",
    "\n",
    "2. Jupyter Notebook (IPython 커널)\n",
    "\n",
    "   - 커널 안정성을 위해 설계됨\n",
    "\n",
    "   - IPython 커널이 SystemExit 예외를 의도적으로 가로채서(catch) 처리\n",
    "\n",
    "   - 해당 셀의 실행만 멈추고 커널은 계속 실행 상태 유지\n",
    "\n",
    "   - 커널 자체는 종료되지 않음\n"
   ]
  },
  {
   "cell_type": "code",
   "execution_count": null,
   "id": "04e06f05",
   "metadata": {},
   "outputs": [
    {
     "ename": "SystemExit",
     "evalue": "0",
     "output_type": "error",
     "traceback": [
      "An exception has occurred, use %tb to see the full traceback.\n",
      "\u001b[31mSystemExit\u001b[39m\u001b[31m:\u001b[39m 0\n"
     ]
    }
   ],
   "source": [
    "import sys\n",
    "\n",
    "# 1. 정상 종료\n",
    "sys.exit(0)\n",
    "sys.exit()\n",
    "sys.exit(None)\n",
    "\n",
    "# 2. 오류 종료\n",
    "sys.exit(1)\n",
    "\n",
    "# 3. 오류 메시지와 함께 종료\n",
    "sys.exit(\"An error occurred.\")\n",
    "\n",
    "# 4. 조건부 종료\n",
    "if error_condition:\n",
    "  sys.exit(\"Error: Something went wrong\")"
   ]
  },
  {
   "cell_type": "markdown",
   "id": "4d38f869",
   "metadata": {},
   "source": [
    "### 4. sys.path\n",
    "\n",
    "Python이 패키지 및 모듈을 찾기 위한 경로들의 리스트\n",
    "\n",
    "문자열 경로들을 원소로 가지는 리스트\n",
    "Python interpreter가 모듈/패키지를 찾을 때 참조하는 경로\n"
   ]
  },
  {
   "cell_type": "markdown",
   "id": "7d9206d6",
   "metadata": {},
   "source": [
    "### 5. sys.modules\n",
    "\n",
    "현재 로딩된 모듈과 패키지를 저장하는 딕셔너리\n",
    "모듈 import 과정:\n",
    "\n",
    "import 문 실행 시 sys.modules에서 먼저 확인\n",
    "없으면 builtins와 sys.path에서 모듈 검색\n",
    "찾은 모듈을 로딩하고 sys.modules에 추가\n"
   ]
  },
  {
   "cell_type": "code",
   "execution_count": null,
   "id": "7ca9116d",
   "metadata": {},
   "outputs": [
    {
     "name": "stdout",
     "output_type": "stream",
     "text": [
      "argv[00]: /Users/jaylee_83/Documents/_itsjayspace/git_clones/_CLT/CLT-Python/.venv/lib/python3.13/site-packages/ipykernel_launcher.py\n",
      "argv[01]: --f=/Users/jaylee_83/Library/Jupyter/runtime/kernel-v38baa791afd9f3acded8bee9a04fc30400d8cedbc.json\n",
      "\n",
      "---------------------\n",
      "\n",
      "sys.executable = '/Users/jaylee_83/Documents/_itsjayspace/git_clones/_CLT/CLT-Python/.venv/bin/python'\n",
      "\n",
      "---------------------\n",
      "\n",
      "path[00]: /Users/jaylee_83/Documents/_itsjayspace/git_clones/_CLT/CLT-Python/Lectures/L02_/.\n",
      ".\n",
      ".\n",
      "path[01]: /Users/jaylee_83/Documents/_itsjayspace/git_clones/_CLT/CLT-Python/Lectures/L02_\n",
      "path[02]: /opt/homebrew/Cellar/python@3.13/3.13.7/Frameworks/Python.framework/Versions/3.13/lib/python313.zip\n",
      "path[03]: /opt/homebrew/Cellar/python@3.13/3.13.7/Frameworks/Python.framework/Versions/3.13/lib/python3.13\n",
      "path[04]: /opt/homebrew/Cellar/python@3.13/3.13.7/Frameworks/Python.framework/Versions/3.13/lib/python3.13/lib-dynload\n",
      "path[05]: \n",
      "path[06]: /Users/jaylee_83/Documents/_itsjayspace/git_clones/_CLT/CLT-Python/.venv/lib/python3.13/site-packages\n",
      "\n",
      "---------------------\n",
      "\n",
      "000: sys = <module 'sys' (built-in)>\n",
      "001: builtins = <module 'builtins' (built-in)>\n",
      "002: _frozen_importlib = <module '_frozen_importlib' (frozen)>\n",
      "003: _imp = <module '_imp' (built-in)>\n",
      "004: _thread = <module '_thread' (built-in)>\n",
      "005: _warnings = <module '_warnings' (built-in)>\n"
     ]
    },
    {
     "ename": "SystemExit",
     "evalue": "0",
     "output_type": "error",
     "traceback": [
      "An exception has occurred, use %tb to see the full traceback.\n",
      "\u001b[31mSystemExit\u001b[39m\u001b[31m:\u001b[39m 0\n"
     ]
    },
    {
     "name": "stderr",
     "output_type": "stream",
     "text": [
      "/Users/jaylee_83/Documents/_itsjayspace/git_clones/_CLT/CLT-Python/.venv/lib/python3.13/site-packages/IPython/core/interactiveshell.py:3707: UserWarning: To exit: use 'exit', 'quit', or Ctrl-D.\n",
      "  warn(\"To exit: use 'exit', 'quit', or Ctrl-D.\", stacklevel=1)\n"
     ]
    }
   ],
   "source": [
    "import sys\n",
    "\n",
    "\n",
    "def show():\n",
    "  # argv 출력\n",
    "  for idx, i in enumerate(sys.argv):\n",
    "    print(f'argv[{idx:02d}]: {i}')\n",
    "\n",
    "  print('\\n---------------------\\n')\n",
    "\n",
    "  # Python 실행 파일 경로\n",
    "  print(f'{sys.executable=}')\n",
    "\n",
    "  print('\\n---------------------\\n')\n",
    "\n",
    "  # 모듈 검색 경로\n",
    "  for idx, i in enumerate(sys.path):\n",
    "    print(f'path[{idx:02d}]: {i}')\n",
    "\n",
    "  print('\\n---------------------\\n')\n",
    "\n",
    "  # 로딩된 모듈 (처음 6개만)\n",
    "  for idx, (key, v) in enumerate(sys.modules.items()):\n",
    "    if idx > 5:\n",
    "      break\n",
    "    print(f'{idx:03d}: {key} = {v}')\n",
    "\n",
    "\n",
    "if __name__ == \"__main__\":\n",
    "  show()\n",
    "  sys.exit(0)"
   ]
  },
  {
   "cell_type": "markdown",
   "id": "ebbc7e0b",
   "metadata": {},
   "source": [
    "## argparse\n",
    "\n",
    "### 0. 기본 개념\n",
    "\n",
    "CLI 주요 용어\n",
    "\n",
    "| 용어                | 설명                                                        | 예시                                          |\n",
    "| ------------------- | ----------------------------------------------------------- | --------------------------------------------- |\n",
    "| Command             | 실행할 프로그램/스크립트 이름 (POSIX: utility)              | python, git, ls                               |\n",
    "| Argument            | 명령 뒤에 오는 모든 인자의 총칭 (Parameter라고도 함)        | 모든 입력값                                   |\n",
    "| Positional Argument | 옵션 이름 없이 위치로 의미가 정해지는 인자 (POSIX: operand) | cp source.txt dest.txt의 source.txt, dest.txt |\n",
    "| Option              | - 또는 --로 시작하는 이름 있는 인자                         | -o out.txt, --mode train                      |\n",
    "| Short Option        | - 하나 + 한 글자                                            | -v, -n 3                                      |\n",
    "| Long Option         | -- 두 개 + 전체 이름 (GNU 확장)                             | --verbose, --output result.txt                |\n",
    "| Option Argument     | 옵션 뒤에 전달되는 실제 값                                  | --output result.txt의 result.txt              |\n",
    "| Flag                | 값 없이 존재 자체로 의미가 있는 옵션 (Boolean Option)       | -v, --verbose                                 |\n",
    "| Subcommand          | 명령 안의 하위 명령 (POSIX 표준 아님)                       | git commit, docker run                        |\n",
    "\n",
    "argparse의 표기법 지원 현황\n",
    "\n",
    "| 표기        | 의미                           | argparse | POSIX  | GNU  | 비고             |\n",
    "| ----------- | ------------------------------ | -------- | ------ | ---- | ---------------- |\n",
    "| -a -b       | 분리된 short option            | ✅       | ✅     | ✅   | 권장             |\n",
    "| -ab         | short option 묶기 (clustering) | ❌       | ✅     | ✅   | POSIX/GNU는 허용 |\n",
    "| -o value    | short option + 값 (띄어쓰기)   | ✅       | ✅     | ✅   | 권장             |\n",
    "| -ovalue     | short option + 값 (붙여쓰기)   | ❌       | ✅     | ✅   |                  |\n",
    "| -o=value    | short option + 값 (= 연결)     | ❌       | ❌     | 일부 |                  |\n",
    "| --opt value | long option + 값 (띄어쓰기)    | ✅       | 비표준 | ✅   | 일반적           |\n",
    "| --opt=value | long option + 값 (= 연결)      | ✅       | 비표준 | ✅   | 자주 사용됨      |\n"
   ]
  },
  {
   "cell_type": "markdown",
   "id": "00943280",
   "metadata": {},
   "source": [
    "### 1. 기본 사용법\n"
   ]
  },
  {
   "cell_type": "code",
   "execution_count": null,
   "id": "72f7f6f6",
   "metadata": {},
   "outputs": [],
   "source": [
    "import argparse\n",
    "\n",
    "parser = argparse.ArgumentParser(description=\"프로그램 설명\")\n",
    "\n",
    "# Positional argument (필수)\n",
    "parser.add_argument(\"name\", help=\"이름\")\n",
    "\n",
    "# Optional argument\n",
    "parser.add_argument(\"-o\", \"--output\", help=\"출력 파일\")\n",
    "\n",
    "# Flag\n",
    "parser.add_argument(\"-v\", \"--verbose\", action=\"store_true\", help=\"상세 출력\")\n",
    "\n",
    "args = parser.parse_args()\n",
    "print(f\"Hello, {args.name}!\")"
   ]
  },
  {
   "cell_type": "code",
   "execution_count": null,
   "id": "ee945be0",
   "metadata": {},
   "outputs": [],
   "source": [
    "#!/usr/bin/env python3\n",
    "import argparse\n",
    "\n",
    "\n",
    "def main():\n",
    "  parser = argparse.ArgumentParser(\n",
    "      prog=\"hello.py\",  # 프로그램 이름 (기본: sys.argv[0])\n",
    "      description=\"argparse 빠른 시작 예제\"\n",
    "  )\n",
    "\n",
    "  parser.add_argument(\n",
    "      \"name\",\n",
    "      help=\"인사할 대상 이름 (positional)\",\n",
    "  )\n",
    "\n",
    "  args = parser.parse_args()\n",
    "  print(f\"Hello, {args.name}!\")\n",
    "\n",
    "\n",
    "if __name__ == \"__main__\":\n",
    "  main()"
   ]
  },
  {
   "cell_type": "markdown",
   "id": "c12e9aa7",
   "metadata": {},
   "source": [
    "실행 :\n",
    "\n",
    "```python\n",
    "python hello.py Alice\n",
    "python hello.py -h  # 도움말\n",
    "```\n"
   ]
  },
  {
   "cell_type": "markdown",
   "id": "0f9265b4",
   "metadata": {},
   "source": [
    "### 2. argparse.Namespace\n",
    "\n",
    "parser.parse_args()의 반환값은 Namespace 객체\n",
    "\n",
    "특징\n",
    "\n",
    "- Command line에서 입력받은 arguments를 attribute 형태로 저장\n",
    "- dict와 비슷하지만 dot(.)으로 접근 가능\n",
    "- 내부적으로 **dict** 사용\n",
    "- 중첩된 dest를 사용하면 마지막 것으로 덮어쓰기됨\n",
    "- argparse 외부에서도 자유롭게 추가/수정 가능\n"
   ]
  },
  {
   "cell_type": "code",
   "execution_count": 1,
   "id": "cb6dbcce",
   "metadata": {},
   "outputs": [
    {
     "name": "stdout",
     "output_type": "stream",
     "text": [
      "Namespace(name='Alice', verbose=True)\n",
      "<class 'argparse.Namespace'>\n",
      "Alice\n",
      "True\n",
      "{'name': 'Alice', 'verbose': True}\n"
     ]
    }
   ],
   "source": [
    "import argparse\n",
    "\n",
    "parser = argparse.ArgumentParser()\n",
    "parser.add_argument(\"--name\", required=True)\n",
    "parser.add_argument(\"--verbose\", action=\"store_true\")\n",
    "\n",
    "args = parser.parse_args([\"--name\", \"Alice\", \"--verbose\"])\n",
    "\n",
    "print(args)              # Namespace(name='Alice', verbose=True)\n",
    "print(type(args))        # <class 'argparse.Namespace'>\n",
    "print(args.name)         # Alice\n",
    "print(args.verbose)      # True\n",
    "print(vars(args))        # {'name': 'Alice', 'verbose': True}"
   ]
  },
  {
   "cell_type": "code",
   "execution_count": 2,
   "id": "8dedd930",
   "metadata": {},
   "outputs": [
    {
     "name": "stdout",
     "output_type": "stream",
     "text": [
      "Namespace(foo=123, bar='hi')\n",
      "{'a': 1, 'b': 2}\n",
      "{'foo': 123, 'bar': 'hi', 'a': 1, 'b': 2}\n",
      "True\n",
      "123\n"
     ]
    }
   ],
   "source": [
    "from argparse import Namespace\n",
    "\n",
    "# 빈 Namespace 생성\n",
    "ns1 = Namespace()\n",
    "ns1.foo = 123\n",
    "ns1.bar = \"hi\"\n",
    "print(ns1)  # Namespace(foo=123, bar='hi')\n",
    "\n",
    "# 속성을 가진 Namespace 생성\n",
    "ns2 = Namespace(a=1, b=2)\n",
    "print(ns2.__dict__)  # {'a': 1, 'b': 2}\n",
    "\n",
    "# 두 Namespace 병합\n",
    "ns3 = Namespace(**vars(ns1), **vars(ns2))\n",
    "print(ns3.__dict__)  # {'foo': 123, 'bar': 'hi', 'a': 1, 'b': 2}\n",
    "\n",
    "# hasattr, getattr 사용\n",
    "print(hasattr(ns3, 'foo'))  # True\n",
    "print(getattr(ns3, 'foo'))  # 123"
   ]
  },
  {
   "cell_type": "markdown",
   "id": "d0dd810d",
   "metadata": {},
   "source": [
    "### 3. Option, Flag, Parameter 설정\n"
   ]
  },
  {
   "cell_type": "code",
   "execution_count": 3,
   "id": "78bed6a8",
   "metadata": {},
   "outputs": [
    {
     "name": "stderr",
     "output_type": "stream",
     "text": [
      "usage: ipykernel_launcher.py [-h] [-o OUTPUT] [-v] input\n",
      "ipykernel_launcher.py: error: the following arguments are required: input\n"
     ]
    },
    {
     "ename": "SystemExit",
     "evalue": "2",
     "output_type": "error",
     "traceback": [
      "An exception has occurred, use %tb to see the full traceback.\n",
      "\u001b[31mSystemExit\u001b[39m\u001b[31m:\u001b[39m 2\n"
     ]
    },
    {
     "name": "stderr",
     "output_type": "stream",
     "text": [
      "/Users/jaylee_83/Documents/_itsjayspace/git_clones/_CLT/CLT-Python/.venv/lib/python3.13/site-packages/IPython/core/interactiveshell.py:3707: UserWarning: To exit: use 'exit', 'quit', or Ctrl-D.\n",
      "  warn(\"To exit: use 'exit', 'quit', or Ctrl-D.\", stacklevel=1)\n"
     ]
    }
   ],
   "source": [
    "#!/usr/bin/env python3\n",
    "import argparse\n",
    "\n",
    "\n",
    "def main():\n",
    "  parser = argparse.ArgumentParser(\n",
    "      description=\"POSIX 기준 Option/Flag/Parameter 예제\"\n",
    "  )\n",
    "\n",
    "  # 1. Positional Parameter (위치 기반 인자)\n",
    "  parser.add_argument(\n",
    "      \"input\",\n",
    "      help=\"입력 파일 경로\"\n",
    "  )\n",
    "\n",
    "  # 2. Option + Option Argument\n",
    "  parser.add_argument(\n",
    "      \"-o\", \"--output\",\n",
    "      help=\"출력 파일 경로\"\n",
    "  )\n",
    "\n",
    "  # 3. Flag (값 없는 Option)\n",
    "  parser.add_argument(\n",
    "      \"-v\", \"--verbose\",\n",
    "      action=\"store_true\",\n",
    "      help=\"자세한 로그 출력\"\n",
    "  )\n",
    "\n",
    "  args = parser.parse_args()\n",
    "\n",
    "  if args.verbose:\n",
    "    print(\"[VERBOSE] 시작\")\n",
    "\n",
    "  print(f\"입력: {args.input}\")\n",
    "  print(f\"출력: {args.output if args.output else '(지정 안 함)'}\")\n",
    "\n",
    "\n",
    "if __name__ == \"__main__\":\n",
    "  main()"
   ]
  },
  {
   "cell_type": "markdown",
   "id": "c559c861",
   "metadata": {},
   "source": [
    "```bash\n",
    "python your_script.py input.txt\n",
    "python your_script.py input.txt --output result.txt\n",
    "python your_script.py input.txt -o result.txt -v\n",
    "```\n"
   ]
  },
  {
   "cell_type": "markdown",
   "id": "c4903294",
   "metadata": {},
   "source": [
    "### 4. 타입, 기본값, 필수, 선택지 제한\n"
   ]
  },
  {
   "cell_type": "code",
   "execution_count": 4,
   "id": "d172df03",
   "metadata": {},
   "outputs": [
    {
     "name": "stderr",
     "output_type": "stream",
     "text": [
      "usage: ipykernel_launcher.py [-h] [-n N] -m {train,eval} path\n",
      "ipykernel_launcher.py: error: the following arguments are required: path, -m/--mode\n"
     ]
    },
    {
     "ename": "SystemExit",
     "evalue": "2",
     "output_type": "error",
     "traceback": [
      "An exception has occurred, use %tb to see the full traceback.\n",
      "\u001b[31mSystemExit\u001b[39m\u001b[31m:\u001b[39m 2\n"
     ]
    }
   ],
   "source": [
    "#!/usr/bin/env python3\n",
    "import argparse\n",
    "\n",
    "\n",
    "def positive_int(x: str) -> int:\n",
    "  \"\"\"양의 정수만 허용하는 커스텀 타입 변환 함수\"\"\"\n",
    "  v = int(x)\n",
    "  if v <= 0:\n",
    "    raise argparse.ArgumentTypeError(\"양의 정수 필요\")\n",
    "  return v\n",
    "\n",
    "\n",
    "def main():\n",
    "  parser = argparse.ArgumentParser(\n",
    "      description=\"타입/기본값/필수/선택지 제한\"\n",
    "  )\n",
    "\n",
    "  # Positional Parameter (필수)\n",
    "  parser.add_argument(\n",
    "      \"path\",\n",
    "      help=\"데이터 경로\"\n",
    "  )\n",
    "\n",
    "  # Option: 타입 검사 + 기본값\n",
    "  parser.add_argument(\n",
    "      \"-n\", \"--num-epochs\",\n",
    "      type=positive_int,    # 커스텀 타입 검사\n",
    "      default=10,           # 기본값\n",
    "      metavar=\"N\",\n",
    "      help=\"epoch 수(양의 정수, 기본: 10)\",\n",
    "  )\n",
    "\n",
    "  # Option: 필수 + 선택지 제한\n",
    "  parser.add_argument(\n",
    "      \"-m\", \"--mode\",\n",
    "      choices=[\"train\", \"eval\"],  # 선택지 제한\n",
    "      required=True,              # 필수 옵션\n",
    "      help=\"실행 모드 (train|eval)\",\n",
    "  )\n",
    "\n",
    "  args = parser.parse_args()\n",
    "  print(f\"path={args.path}, epochs={args.num_epochs}, mode={args.mode}\")\n",
    "\n",
    "\n",
    "if __name__ == \"__main__\":\n",
    "  main()"
   ]
  },
  {
   "cell_type": "markdown",
   "id": "5505ca55",
   "metadata": {},
   "source": [
    "```bash\n",
    "python script.py data/ --mode train\n",
    "python script.py data/ --mode train -n 20\n",
    "```\n",
    "\n",
    "참고:\n",
    "\n",
    "- default=argparse.SUPPRESS: 옵션 미지정 시 해당 속성 자체를 생성하지 않음\n",
    "\n",
    "- 기본값을 지정하지 않으면 대부분 None\n"
   ]
  },
  {
   "cell_type": "markdown",
   "id": "2aa200a4",
   "metadata": {},
   "source": [
    "### 5. 여러 값 받기 (nargs)\n",
    "\n",
    "| nargs | 의미          | 예시                         |\n",
    "| ----- | ------------- | ---------------------------- |\n",
    "| \"+\"   | 1개 이상 필수 | `--images img1.jpg img2.jpg` |\n",
    "| \"\\*\"  | 0개 이상 허용 | `--define DEBUG LOGGING`     |\n",
    "| 정수  | 정확히 N개    | `nargs=3`                    |\n",
    "| \"?\"   | 0개 또는 1개  | 선택적 값                    |\n"
   ]
  },
  {
   "cell_type": "code",
   "execution_count": 5,
   "id": "c17b63fb",
   "metadata": {},
   "outputs": [
    {
     "name": "stderr",
     "output_type": "stream",
     "text": [
      "usage: ipykernel_launcher.py [-h] -i IMAGES [IMAGES ...] [-D [DEFINE ...]]\n",
      "ipykernel_launcher.py: error: the following arguments are required: -i/--images\n"
     ]
    },
    {
     "ename": "SystemExit",
     "evalue": "2",
     "output_type": "error",
     "traceback": [
      "An exception has occurred, use %tb to see the full traceback.\n",
      "\u001b[31mSystemExit\u001b[39m\u001b[31m:\u001b[39m 2\n"
     ]
    }
   ],
   "source": [
    "#!/usr/bin/env python3\n",
    "import argparse\n",
    "\n",
    "\n",
    "def main():\n",
    "  parser = argparse.ArgumentParser(description=\"여러 값 받기\")\n",
    "\n",
    "  # 1개 이상 필수\n",
    "  parser.add_argument(\n",
    "      \"-i\", \"--images\",\n",
    "      nargs=\"+\",        # 1개 이상 값 필수\n",
    "      required=True,\n",
    "      help=\"처리할 이미지들\"\n",
    "  )\n",
    "\n",
    "  # 0개 이상 허용\n",
    "  parser.add_argument(\n",
    "      \"-D\", \"--define\",\n",
    "      nargs=\"*\",        # 0개 이상 값 허용\n",
    "      default=[],\n",
    "      help=\"매크로 정의\"\n",
    "  )\n",
    "\n",
    "  args = parser.parse_args()\n",
    "  print(f\"images={args.images}\")\n",
    "  print(f\"define={args.define}\")\n",
    "\n",
    "\n",
    "if __name__ == \"__main__\":\n",
    "  main()"
   ]
  },
  {
   "cell_type": "markdown",
   "id": "e32efb89",
   "metadata": {},
   "source": [
    "```bash\n",
    "bashpython script.py -i img1.jpg img2.jpg img3.jpg\n",
    "python script.py -i img1.jpg -D DEBUG LOGGING\n",
    "```\n"
   ]
  },
  {
   "cell_type": "markdown",
   "id": "d2ceba1a",
   "metadata": {},
   "source": [
    "### 6. 카운트형 플래그 (action 파라미터)\n",
    "\n",
    "action=\"count\" 사용\n"
   ]
  },
  {
   "cell_type": "code",
   "execution_count": 6,
   "id": "7f9e71e6",
   "metadata": {},
   "outputs": [
    {
     "name": "stderr",
     "output_type": "stream",
     "text": [
      "usage: ipykernel_launcher.py [-h] [-v]\n",
      "ipykernel_launcher.py: error: unrecognized arguments: --f=/Users/jaylee_83/Library/Jupyter/runtime/kernel-v332a26d4508d3f91b3384eec45c94c65f9e06937f.json\n"
     ]
    },
    {
     "ename": "SystemExit",
     "evalue": "2",
     "output_type": "error",
     "traceback": [
      "An exception has occurred, use %tb to see the full traceback.\n",
      "\u001b[31mSystemExit\u001b[39m\u001b[31m:\u001b[39m 2\n"
     ]
    }
   ],
   "source": [
    "#!/usr/bin/env python3\n",
    "import argparse\n",
    "\n",
    "\n",
    "def main():\n",
    "  parser = argparse.ArgumentParser(description=\"카운트형 플래그 예제\")\n",
    "\n",
    "  parser.add_argument(\n",
    "      \"-v\", \"--verbose\",\n",
    "      action=\"count\",    # 지정 횟수를 카운트\n",
    "      default=0,\n",
    "      help=\"자세한 로그: -v, -vv, -vvv\"\n",
    "  )\n",
    "\n",
    "  args = parser.parse_args()\n",
    "  print(f\"verbose={args.verbose}\")\n",
    "\n",
    "\n",
    "if __name__ == \"__main__\":\n",
    "  main()"
   ]
  },
  {
   "cell_type": "markdown",
   "id": "6fecb551",
   "metadata": {},
   "source": [
    "```bash\n",
    "python script.py       # verbose=0\n",
    "python script.py -v    # verbose=1\n",
    "python script.py -vv   # verbose=2\n",
    "python script.py -vvv  # verbose=3\n",
    "```\n",
    "\n",
    "참고: `argparse`는 `POSIX` 스타일 옵션 묶기(`-ab`)는 미지원하지만, `-vv`처럼 같은 옵션 반복은 `action=\"count\"`일 때만 지원\n"
   ]
  },
  {
   "cell_type": "markdown",
   "id": "f2aeaf9f",
   "metadata": {},
   "source": [
    "#### action 종류 정리\n",
    "\n",
    "| action 값     | 동작                       | 예시                           |\n",
    "| ------------- | -------------------------- | ------------------------------ |\n",
    "| store (기본)  | 인자 값을 저장             | `--name Alice`                 |\n",
    "| store_const   | 미리 지정한 const 값 저장  | `--flag (const=\"ON\")`          |\n",
    "| store_true    | 지정 시 True, 없으면 False | `--verbose`                    |\n",
    "| store_false   | 지정 시 False, 없으면 True | 반대 동작                      |\n",
    "| append        | 인자를 리스트에 추가       | `--tag a --tag b → ['a', 'b']` |\n",
    "| append_const  | const 값을 리스트에 추가   | `const=1 → [1, 1, 1]`          |\n",
    "| count         | 지정 횟수를 정수로 저장    | `-v -v → 2`                    |\n",
    "| help          | 도움말 출력 후 종료        | `-h, --help`                   |\n",
    "| version       | 버전 정보 출력 후 종료     | `--version`                    |\n",
    "| callable 객체 | 사용자 정의 동작 실행      | custom Action 클래스           |\n",
    "\n",
    "#### 커스텀 Action 예제\n"
   ]
  },
  {
   "cell_type": "code",
   "execution_count": null,
   "id": "225bcfe8",
   "metadata": {},
   "outputs": [],
   "source": [
    "class UppercaseAction(argparse.Action):\n",
    "  def __call__(self, parser, namespace, values, option_string=None):\n",
    "    setattr(namespace, self.dest, values.upper())\n",
    "\n",
    "\n",
    "parser.add_argument(\n",
    "    \"--upper\",\n",
    "    action=UppercaseAction,\n",
    "    help=\"값을 대문자로 변환\"\n",
    ")"
   ]
  },
  {
   "cell_type": "markdown",
   "id": "8dcbaef3",
   "metadata": {},
   "source": [
    "### 7. Subcommand (서브커맨드)\n",
    "\n",
    "Subcommand는 상위 명령의 기능을 세분화하는 데 사용됩니다.\n",
    "\n",
    "기본 구조\n"
   ]
  },
  {
   "cell_type": "code",
   "execution_count": null,
   "id": "dd637879",
   "metadata": {},
   "outputs": [],
   "source": [
    "parser = argparse.ArgumentParser()\n",
    "subparsers = parser.add_subparsers(dest=\"cmd\")  # 서브커맨드 생성\n",
    "p_add = subparsers.add_parser(\"add\")            # 'add' 서브커맨드\n",
    "\n",
    "# sub-subcommand 만들기\n",
    "sub_subparsers = p_add.add_subparsers(dest=\"scmd\")\n",
    "p_add_list = sub_subparsers.add_parser(\"list\")"
   ]
  },
  {
   "cell_type": "markdown",
   "id": "3322196a",
   "metadata": {},
   "source": [
    "완전한 예제\n"
   ]
  },
  {
   "cell_type": "code",
   "execution_count": null,
   "id": "ef74076e",
   "metadata": {},
   "outputs": [],
   "source": [
    "#!/usr/bin/env python3\n",
    "import argparse\n",
    "\n",
    "\n",
    "def cmd_train(ns: argparse.Namespace) -> None:\n",
    "  \"\"\"train 서브커맨드 실행 함수\"\"\"\n",
    "  print(f\"[{ns.command}] data={ns.data} epochs={ns.epochs}\")\n",
    "\n",
    "\n",
    "def cmd_eval(ns: argparse.Namespace) -> None:\n",
    "  \"\"\"eval 서브커맨드 실행 함수\"\"\"\n",
    "  print(f\"[{ns.command}] data={ns.data} checkpoint={ns.ckpt}\")\n",
    "\n",
    "\n",
    "def main():\n",
    "  parser = argparse.ArgumentParser(description=\"서브커맨드 예제\")\n",
    "\n",
    "  # 서브파서 생성\n",
    "  subparsers = parser.add_subparsers(\n",
    "      dest=\"command\",\n",
    "      required=True\n",
    "  )\n",
    "\n",
    "  # train 서브커맨드\n",
    "  p_train = subparsers.add_parser(\"train\", help=\"모델 학습\")\n",
    "  p_train.add_argument(\"--data\", required=True, help=\"학습 데이터 경로\")\n",
    "  p_train.add_argument(\"--epochs\", type=int, default=10, help=\"학습 epoch 수\")\n",
    "  # p_train.set_defaults(func=cmd_train)  # 함수 등록 방법 1\n",
    "\n",
    "  # eval 서브커맨드\n",
    "  p_eval = subparsers.add_parser(\"eval\", help=\"모델 평가\")\n",
    "  p_eval.add_argument(\"--data\", required=True, help=\"평가 데이터 경로\")\n",
    "  p_eval.add_argument(\"--ckpt\", required=True, help=\"체크포인트 파일 경로\")\n",
    "  # p_eval.set_defaults(func=cmd_eval)\n",
    "\n",
    "  ns = parser.parse_args()\n",
    "\n",
    "  # 방법 1: set_defaults 사용\n",
    "  # ns.func(ns)\n",
    "\n",
    "  # 방법 2: if문으로 분기\n",
    "  if ns.command == \"train\":\n",
    "    cmd_train(ns)\n",
    "  elif ns.command == \"eval\":\n",
    "    cmd_eval(ns)\n",
    "\n",
    "\n",
    "if __name__ == \"__main__\":\n",
    "  main()"
   ]
  },
  {
   "cell_type": "markdown",
   "id": "395767f2",
   "metadata": {},
   "source": [
    "실행:\n",
    "\n",
    "```bash\n",
    "python script.py train --data ./data --epochs 20\n",
    "python script.py eval --data ./test --ckpt model.pt\n",
    "```\n"
   ]
  },
  {
   "cell_type": "markdown",
   "id": "dbafa692",
   "metadata": {},
   "source": [
    "도움말 표기 관례 심볼\n",
    "\n",
    "POSIX, GNU CLI 도구의 도움말에서 사용되는 심볼:\n",
    "\n",
    "| 심볼 | 의미                    | 예시            |\n",
    "| ---- | ----------------------- | --------------- |\n",
    "| { }  | 필수, 선택지 중 하나    | {train\\|eval}   |\n",
    "| [ ]  | 선택적(optional)        | [-v]            |\n",
    "| \\|   | OR (선택지)             | train\\|eval     |\n",
    "| ...  | 반복 가능               | SOURCE...       |\n",
    "| ( )  | 그룹화 (OR 관계 명확화) | (-a \\| -b) FILE |\n"
   ]
  },
  {
   "cell_type": "markdown",
   "id": "084fdf11",
   "metadata": {},
   "source": [
    "### 8. 요약\n",
    "\n",
    "Short Option\n",
    "\n",
    "값은 띄어쓰기: -o value ✅\\\n",
    "-o=value ❌ (미지원)\\\n",
    "묶기 -ab ❌ (미지원, -a -b만 가능)\n",
    "\n",
    "Long Option\n",
    "\n",
    "--opt value ✅\\\n",
    "--opt=value ✅\n",
    "\n",
    "Flag\n",
    "\n",
    "값 없음, 존재하면 True\\\n",
    "action=\"store_true\"\n",
    "\n",
    "반복 플래그\n",
    "\n",
    "action=\"count\"로 구현\\\n",
    "-vvv 가능\n"
   ]
  },
  {
   "cell_type": "markdown",
   "id": "b7d7b843",
   "metadata": {},
   "source": [
    "### 8. 용어 비교표\n",
    "\n",
    "| 개념           | POSIX            | GNU                    | Python argparse         |\n",
    "| -------------- | ---------------- | ---------------------- | ----------------------- |\n",
    "| 실행 명령      | Command          | Program/Command        | Program/Script          |\n",
    "| 인자 상위 개념 | Parameter        | Argument               | Argument                |\n",
    "| 옵션           | Option (-o)      | Option (-o, --long)    | Optional argument       |\n",
    "| 짧은 옵션      | Short option     | Short option (-o)      | Short option (-o)       |\n",
    "| 긴 옵션        | (표준 없음)      | Long option (--output) | Long option (--output)  |\n",
    "| 옵션 뒤 값     | Option argument  | Option argument        | Option argument         |\n",
    "| 위치 기반 값   | Operand          | Positional argument    | Positional argument     |\n",
    "| 값 없는 옵션   | (값 없는 option) | Flag/Boolean option    | Flag (store_true/false) |\n",
    "| 서브커맨드     | (표준 없음)      | Subcommand             | Subparsers              |\n",
    "| 도움말         | (명시 X)         | --help                 | -h/--help               |\n",
    "| 버전           | (명시 X)         | --version              | --version               |\n"
   ]
  }
 ],
 "metadata": {
  "kernelspec": {
   "display_name": "clt-python (3.13.7)",
   "language": "python",
   "name": "python3"
  },
  "language_info": {
   "codemirror_mode": {
    "name": "ipython",
    "version": 3
   },
   "file_extension": ".py",
   "mimetype": "text/x-python",
   "name": "python",
   "nbconvert_exporter": "python",
   "pygments_lexer": "ipython3",
   "version": "3.13.7"
  }
 },
 "nbformat": 4,
 "nbformat_minor": 5
}
