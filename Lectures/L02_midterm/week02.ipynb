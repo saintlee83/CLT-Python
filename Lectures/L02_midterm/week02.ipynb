{
 "cells": [
  {
   "cell_type": "markdown",
   "id": "cb3d2dda",
   "metadata": {},
   "source": [
    "# Control Structure\n"
   ]
  },
  {
   "cell_type": "markdown",
   "id": "4acdac33",
   "metadata": {},
   "source": [
    "## bool: Boolean Type\n",
    "\n",
    "`if` statment, `while` statment 및 logical operator 들과 자주 사용되는 type임\n",
    "\n",
    "- Boolean object가 가질 수 있는 value는 단 두가지로 모두 키워드에 해당\n"
   ]
  },
  {
   "cell_type": "code",
   "execution_count": 2,
   "id": "38722980",
   "metadata": {},
   "outputs": [
    {
     "name": "stdout",
     "output_type": "stream",
     "text": [
      "<class 'bool'>\n",
      "<class 'bool'>\n"
     ]
    }
   ],
   "source": [
    "# Boolean 값은 종류가 True False 딱 두가지 뿐\n",
    "\n",
    "boolean = True\n",
    "print(type(boolean))\n",
    "\n",
    "boolean = False\n",
    "print(type(boolean))"
   ]
  },
  {
   "cell_type": "markdown",
   "id": "c204d86d",
   "metadata": {},
   "source": [
    "### Truthiness\n",
    "\n",
    "값이 True/False 처럼 평가되는 성질\n",
    "\n",
    "프로그래밍에서 Truthiness는 실제 boolean 값이 아니지만 boolean value로 다루어 지는 경우를 가르킴\n",
    "\n",
    "Python에서 다음의 경우들은 False로 다루어짐.\n",
    "\n",
    "```python\n",
    "None\n",
    "0\n",
    "0.0\n",
    "an empty str, \"\"\n",
    "an empty list, []\n",
    "an empty set, set()\n",
    "an empty dict, {}\n",
    "```\n",
    "\n",
    "그 외의 경우는 True로 다루어짐.\n"
   ]
  },
  {
   "cell_type": "markdown",
   "id": "92492ae3",
   "metadata": {},
   "source": [
    "## Boolean Operators\n",
    "\n",
    "기본 boolean operator는 다음 3가지로 구성\n",
    "\n",
    "- `and` : binary op `&` 에 해당\n",
    "- `or` : binary op `|` 에 해당\n",
    "- `not` : (unary operator로 operand가 하나)`!` 에 해당\n",
    "\n",
    "(not, and, or) : precedence 에 따라 나열됨\n",
    "\n",
    "### short-circuit evaluation\n",
    "\n",
    "boolean operator로 묶여 있는 combining comparison의 경우 `short-circuit evaluation`이 수행됨\n",
    "\n",
    "- or : 왼쪽에서 오른쪽으로 evaluation 되는 중 하나라도 True가 나오면 뒷 부분은 evaluation이 이루어 지지 않고 True를 반환\n",
    "- and : 하나라도 False가 나오면 뒷 부분은 evaluation이 이루어 지지 않고 False를 반환\n"
   ]
  },
  {
   "cell_type": "markdown",
   "id": "fc82d00e",
   "metadata": {},
   "source": [
    "## Relational Operators\n",
    "\n",
    "관계 연산자(비교 연산자) / 반환값 : boolean type\n",
    "\n",
    "```python\n",
    "> : greater than\n",
    "< : less than\n",
    ">= : greater than or equal to\n",
    "<= : less than or equal to\n",
    "== : equal to\n",
    "!= : not equal to\n",
    "```\n"
   ]
  },
  {
   "cell_type": "code",
   "execution_count": 4,
   "id": "a713323d",
   "metadata": {},
   "outputs": [
    {
     "name": "stdout",
     "output_type": "stream",
     "text": [
      "True\n",
      "False\n",
      "True\n",
      "True\n"
     ]
    }
   ],
   "source": [
    "print('A' < 'a')\n",
    "print('A' > 'a')\n",
    "print('abc' < 'abd')\n",
    "print('abc' < 'abcd')"
   ]
  },
  {
   "cell_type": "markdown",
   "id": "cdea5253",
   "metadata": {},
   "source": [
    "# Compound Statement\n",
    "\n",
    "Compound statement는 다른 문장들을 포함하는 구문으로, 하나 이상의 절(clause)로 구성됨\n",
    "\n",
    "절은 헤더(header)와 본문(suite)으로 이루어져 있음\n",
    "\n",
    "구조는 다음과 같음\n",
    "\n",
    "1. header : 키워드로 시작하고 `:`으로 끝남\n",
    "2. body(=suite) : 들여쓰기된 하나 이상의 문장\n",
    "\n",
    "### code block\n",
    "\n",
    "code block 여러 라인을 하나의 block으로 묶은 것으로 indent level이 증가 하면서 시작되며 indent 가 없거나 indent level이 감소할 때 끝남\n",
    "\n",
    "- code block은 다른 code block을 포함 할 수 있음\n"
   ]
  },
  {
   "cell_type": "markdown",
   "id": "fcffcaf8",
   "metadata": {},
   "source": [
    "## if, elif, else\n",
    "\n",
    "파이썬의 대표적인 compound statements로 프로그램의 decision point를 만들며 evaluation할 code block이 condition에 따라 나누어짐\n",
    "\n",
    "if, elif, else 모두 compount statements로 첫 라인이 `:`로 끝나야 함\n",
    "\n",
    "### condition\n",
    "\n",
    "boolean value로 reduction되는 expression을 의미함\n",
    "\n",
    "````python\n",
    "\n",
    "if condition1 :\n",
    "    ```code block```\n",
    "\n",
    "elif condition2 : # 이전에 1개 이상의 if statement가 실행 되어야 함\n",
    "    ```code block2```\n",
    "\n",
    "else : # condition이 없음\n",
    "    ```code block3```\n",
    "````\n",
    "\n",
    "- 같은 indent level의 if, elif, else statements들은 오직 하나의 condition에 대한 code block만 수행됨\n",
    "- 선행된 condition에 우선권이 있음\n"
   ]
  },
  {
   "cell_type": "code",
   "execution_count": null,
   "id": "28c74bf2",
   "metadata": {},
   "outputs": [
    {
     "name": "stdout",
     "output_type": "stream",
     "text": [
      "와우 높은 학점 이군요!\n"
     ]
    }
   ],
   "source": [
    "gpa = float(input(\"당신의 학점을 입력하세요 : \"))\n",
    "\n",
    "if gpa > 4.0:\n",
    "  print(\"와우 높은 학점 이군요!\")\n",
    "elif gpa > 3.5:\n",
    "  print(\"열심히 하고 계시군요 응원합니다!\")\n",
    "elif gpa > 3.0:\n",
    "  print(\"조금 더 힘 내 보아요\")\n",
    "else:\n",
    "  print(\"노력좀 하셔야 겠습니다.\")"
   ]
  },
  {
   "cell_type": "markdown",
   "id": "86c523a0",
   "metadata": {},
   "source": [
    "### Nesting\n",
    "\n",
    "if, elif, else statement 각각의 code block안에는 어떠한 python statments도 놓일 수 있음\n",
    "\n",
    "즉 if 안 if 를 충첩할 수 있음\n"
   ]
  },
  {
   "cell_type": "code",
   "execution_count": 8,
   "id": "105d1621",
   "metadata": {},
   "outputs": [
    {
     "name": "stdout",
     "output_type": "stream",
     "text": [
      "와우...\n"
     ]
    }
   ],
   "source": [
    "gpa = float(input(\"당신의 학점을 입력하세요 : \"))\n",
    "\n",
    "if gpa >= 4.4:\n",
    "  print(\"와우...\")\n",
    "else:\n",
    "  if gpa >= 4.0:\n",
    "    print(\"와우 높은 학점 이군요!\")\n",
    "  elif gpa >= 3.5:\n",
    "    print(\"열심히 하고 계시군요 응원합니다!\")\n",
    "  elif gpa >= 3.0:\n",
    "    print(\"조금 더 힘 내 보아요\")\n",
    "  else:\n",
    "    print(\"노력좀 하셔야 겠습니다.\")"
   ]
  },
  {
   "cell_type": "markdown",
   "id": "0a133658",
   "metadata": {},
   "source": [
    "# input을 받는 여러가지 방법\n"
   ]
  },
  {
   "cell_type": "markdown",
   "id": "23a1d85b",
   "metadata": {},
   "source": [
    "## input\n",
    "\n",
    "python의 input() 표준 입력 스트림(stdin)으로 부터 데이터를 입력 받는 함수\n"
   ]
  },
  {
   "cell_type": "markdown",
   "id": "6a5cb015",
   "metadata": {},
   "source": [
    "### 1. 표준 입력 스트림(stdin)이란\n",
    "\n",
    "- 파이썬 인터프리터는 **모든 키보드·파이프·리다이렉션 입력**을 sys.stdin이라는 *텍스트 파일-같은 객체*로 다룬다.\n",
    "- stdin, stdout, stderr는 프로그램이 시작될 때 자동으로 열리며, 각각 *입력·일반 출력·오류 출력*용으로 사용된다. sys.**stdin**처럼 “\\_\\_”가 붙은 속성에는 원본 스트림이 보관되어 있어 재지정 후 복구가 가능하다.\n",
    "- 스트림 역시 파일 디스크립터이므로 **버퍼링, 인코딩, 오류 처리 방식**을 가진다. PYTHONIOENCODING 환경변수나 -u옵션(언버퍼드 모드)로 동작을 조절할 수 있다.\n"
   ]
  },
  {
   "cell_type": "markdown",
   "id": "2e88fe86",
   "metadata": {},
   "source": [
    "### 2. input()의 기본 구조\n"
   ]
  },
  {
   "cell_type": "code",
   "execution_count": null,
   "id": "114029fa",
   "metadata": {},
   "outputs": [],
   "source": [
    "name = input()                 # 프롬프트 없이 대기\n",
    "age = input('나이를 입력: ')   # 프롬프트 출력 후 대기"
   ]
  },
  {
   "cell_type": "markdown",
   "id": "ca0fe7b7",
   "metadata": {},
   "source": [
    "- 프롬프트 문자열은 stdout으로 출력된 뒤 곧바로 stdin 대기 상태로 전환된다.\n",
    "- **반환형은 항상 str**이다. 숫자·불리언 등으로 사용하려면 형 변환이 필요하며, 실패 시 ValueError가 발생한다.\n"
   ]
  },
  {
   "cell_type": "markdown",
   "id": "7196e3c7",
   "metadata": {},
   "source": [
    "## sys.argv\n",
    "\n",
    "sys 모듈은 Python VM(Interpreter)과의 상호작용을 담당하는 모듈\n",
    "\n",
    "Python interpreter가 사용하거나 유지하는 variables 와\n",
    "Interpreter와 밀접하게 관련된 functions(종료 등)에 대한 접근을 제공함\n",
    "\n",
    "### 1. sys.argv\n",
    "\n",
    "커맨드 라인을 통해 Python 스크립트에 전달된 인자 리스트\n",
    "\n",
    "- argv[0]: 스크립트 파일 이름\n",
    "\n",
    "- argv[1] 이후: 스크립트 파일명 다음에 전달된 인자들 (공백으로 구분)\n",
    "\n",
    "- python -c 사용 시: argv[0]는 -c\n",
    "\n",
    "#### 특징\n",
    "\n",
    "1. 모든 인자는 `str`\n",
    "2. Unix/macOS/Linux에서는 OS가 bytes로 전달하고, Python이 파일 시스템 인코딩으로 디코드함\n"
   ]
  },
  {
   "cell_type": "code",
   "execution_count": null,
   "id": "c010ec58",
   "metadata": {},
   "outputs": [
    {
     "name": "stdout",
     "output_type": "stream",
     "text": [
      "00:[/Users/jaylee_83/Documents/_itsjayspace/git_clones/_CLT/CLT-Python/.venv/lib/python3.13/site-packages/ipykernel_launcher.py]\n",
      "01:[--f=/Users/jaylee_83/Library/Jupyter/runtime/kernel-v38baa791afd9f3acded8bee9a04fc30400d8cedbc.json]\n"
     ]
    }
   ],
   "source": [
    "import sys\n",
    "for idx, i in enumerate(sys.argv):\n",
    "  print(f\"{idx:02d}:[{i}]\")"
   ]
  },
  {
   "cell_type": "markdown",
   "id": "087dbd5f",
   "metadata": {},
   "source": [
    "### 2. sys.executable\n",
    "\n",
    "현재 실행 중인 Python interpreter의 절대 경로\n",
    "\n",
    "Python 명령어의 절대 경로를 문자열로 반환\n",
    "경로를 찾을 수 없으면 None 또는 빈 문자열\n"
   ]
  },
  {
   "cell_type": "markdown",
   "id": "c87bcd2d",
   "metadata": {},
   "source": [
    "### 3. sys.exit([arg])\n",
    "\n",
    "Python interpreter에게 종료를 지시\n",
    "\n",
    "arg: 종료 상태 코드\n",
    "\n",
    "- 0 : 정상 종료 (기본값), None도 같은 역할을 함\n",
    "\n",
    "- 다른 int 값: 비정상 종료를 OS에 알림, None 도 같은 역할을 함\n",
    "\n",
    "- str : 해당 문자열이 `stderr(표준에러스트림)`에 출력됨, 종료 상태 코드는 1로 설정됨\n",
    "\n",
    "- object : 객체가 문자열로 변환 가능하면 변환된 문자열 출력후 종료, 불가능한 경우 그냥 종료, 상테 코드는 1\n",
    "\n",
    "```python\n",
    "class CustomError:\n",
    "    def __str__(self):\n",
    "        return \"Custom error occurred\"\n",
    "\n",
    "sys.exit(CustomError())\n",
    "```\n",
    "\n",
    "종료 후 echo $? (Linux/macOS) 또는 echo %ERRORLEVEL% (Windows)로 확인 가능 \\\n",
    "SystemExit exception을 발생시킴\n",
    "\n",
    "exit()와의 차이:\n",
    "\n",
    "exit(): site-packages 기반, interactive shell에서 주로 사용 \\\n",
    "sys.exit(): sys 모듈 기반, 스크립트에서 주로 사용 \\\n",
    "python -S 옵션 사용 시 exit()는 NameError 발생하지만 sys.exit()는 정상 작동\n",
    "\n",
    "#### 실행 환경별 동작 차이\n",
    "\n",
    "1. 일반 Python 스크립트 (.py)\n",
    "\n",
    "   - SystemExit 예외가 처리되지 않으면 Python 인터프리터가 프로그램을 종료\n",
    "\n",
    "2. Jupyter Notebook (IPython 커널)\n",
    "\n",
    "   - 커널 안정성을 위해 설계됨\n",
    "\n",
    "   - IPython 커널이 SystemExit 예외를 의도적으로 가로채서(catch) 처리\n",
    "\n",
    "   - 해당 셀의 실행만 멈추고 커널은 계속 실행 상태 유지\n",
    "\n",
    "   - 커널 자체는 종료되지 않음\n"
   ]
  },
  {
   "cell_type": "code",
   "execution_count": null,
   "id": "04e06f05",
   "metadata": {},
   "outputs": [
    {
     "ename": "SystemExit",
     "evalue": "0",
     "output_type": "error",
     "traceback": [
      "An exception has occurred, use %tb to see the full traceback.\n",
      "\u001b[31mSystemExit\u001b[39m\u001b[31m:\u001b[39m 0\n"
     ]
    }
   ],
   "source": [
    "import sys\n",
    "\n",
    "# 1. 정상 종료\n",
    "sys.exit(0)\n",
    "sys.exit()\n",
    "sys.exit(None)\n",
    "\n",
    "# 2. 오류 종료\n",
    "sys.exit(1)\n",
    "\n",
    "# 3. 오류 메시지와 함께 종료\n",
    "sys.exit(\"An error occurred.\")\n",
    "\n",
    "# 4. 조건부 종료\n",
    "if error_condition:\n",
    "  sys.exit(\"Error: Something went wrong\")"
   ]
  },
  {
   "cell_type": "markdown",
   "id": "4d38f869",
   "metadata": {},
   "source": [
    "### 4. sys.path\n",
    "\n",
    "Python이 패키지 및 모듈을 찾기 위한 경로들의 리스트\n",
    "\n",
    "문자열 경로들을 원소로 가지는 리스트\n",
    "Python interpreter가 모듈/패키지를 찾을 때 참조하는 경로\n"
   ]
  },
  {
   "cell_type": "markdown",
   "id": "7d9206d6",
   "metadata": {},
   "source": [
    "### 5. sys.modules\n",
    "\n",
    "현재 로딩된 모듈과 패키지를 저장하는 딕셔너리\n",
    "모듈 import 과정:\n",
    "\n",
    "import 문 실행 시 sys.modules에서 먼저 확인\n",
    "없으면 builtins와 sys.path에서 모듈 검색\n",
    "찾은 모듈을 로딩하고 sys.modules에 추가\n"
   ]
  },
  {
   "cell_type": "code",
   "execution_count": null,
   "id": "7ca9116d",
   "metadata": {},
   "outputs": [
    {
     "name": "stdout",
     "output_type": "stream",
     "text": [
      "argv[00]: /Users/jaylee_83/Documents/_itsjayspace/git_clones/_CLT/CLT-Python/.venv/lib/python3.13/site-packages/ipykernel_launcher.py\n",
      "argv[01]: --f=/Users/jaylee_83/Library/Jupyter/runtime/kernel-v38baa791afd9f3acded8bee9a04fc30400d8cedbc.json\n",
      "\n",
      "---------------------\n",
      "\n",
      "sys.executable = '/Users/jaylee_83/Documents/_itsjayspace/git_clones/_CLT/CLT-Python/.venv/bin/python'\n",
      "\n",
      "---------------------\n",
      "\n",
      "path[00]: /Users/jaylee_83/Documents/_itsjayspace/git_clones/_CLT/CLT-Python/Lectures/L02_/.\n",
      ".\n",
      ".\n",
      "path[01]: /Users/jaylee_83/Documents/_itsjayspace/git_clones/_CLT/CLT-Python/Lectures/L02_\n",
      "path[02]: /opt/homebrew/Cellar/python@3.13/3.13.7/Frameworks/Python.framework/Versions/3.13/lib/python313.zip\n",
      "path[03]: /opt/homebrew/Cellar/python@3.13/3.13.7/Frameworks/Python.framework/Versions/3.13/lib/python3.13\n",
      "path[04]: /opt/homebrew/Cellar/python@3.13/3.13.7/Frameworks/Python.framework/Versions/3.13/lib/python3.13/lib-dynload\n",
      "path[05]: \n",
      "path[06]: /Users/jaylee_83/Documents/_itsjayspace/git_clones/_CLT/CLT-Python/.venv/lib/python3.13/site-packages\n",
      "\n",
      "---------------------\n",
      "\n",
      "000: sys = <module 'sys' (built-in)>\n",
      "001: builtins = <module 'builtins' (built-in)>\n",
      "002: _frozen_importlib = <module '_frozen_importlib' (frozen)>\n",
      "003: _imp = <module '_imp' (built-in)>\n",
      "004: _thread = <module '_thread' (built-in)>\n",
      "005: _warnings = <module '_warnings' (built-in)>\n"
     ]
    },
    {
     "ename": "SystemExit",
     "evalue": "0",
     "output_type": "error",
     "traceback": [
      "An exception has occurred, use %tb to see the full traceback.\n",
      "\u001b[31mSystemExit\u001b[39m\u001b[31m:\u001b[39m 0\n"
     ]
    },
    {
     "name": "stderr",
     "output_type": "stream",
     "text": [
      "/Users/jaylee_83/Documents/_itsjayspace/git_clones/_CLT/CLT-Python/.venv/lib/python3.13/site-packages/IPython/core/interactiveshell.py:3707: UserWarning: To exit: use 'exit', 'quit', or Ctrl-D.\n",
      "  warn(\"To exit: use 'exit', 'quit', or Ctrl-D.\", stacklevel=1)\n"
     ]
    }
   ],
   "source": [
    "import sys\n",
    "\n",
    "\n",
    "def show():\n",
    "  # argv 출력\n",
    "  for idx, i in enumerate(sys.argv):\n",
    "    print(f'argv[{idx:02d}]: {i}')\n",
    "\n",
    "  print('\\n---------------------\\n')\n",
    "\n",
    "  # Python 실행 파일 경로\n",
    "  print(f'{sys.executable=}')\n",
    "\n",
    "  print('\\n---------------------\\n')\n",
    "\n",
    "  # 모듈 검색 경로\n",
    "  for idx, i in enumerate(sys.path):\n",
    "    print(f'path[{idx:02d}]: {i}')\n",
    "\n",
    "  print('\\n---------------------\\n')\n",
    "\n",
    "  # 로딩된 모듈 (처음 6개만)\n",
    "  for idx, (key, v) in enumerate(sys.modules.items()):\n",
    "    if idx > 5:\n",
    "      break\n",
    "    print(f'{idx:03d}: {key} = {v}')\n",
    "\n",
    "\n",
    "if __name__ == \"__main__\":\n",
    "  show()\n",
    "  sys.exit(0)"
   ]
  },
  {
   "cell_type": "markdown",
   "id": "ebbc7e0b",
   "metadata": {},
   "source": [
    "## argparse\n"
   ]
  },
  {
   "cell_type": "markdown",
   "id": "8af3729a",
   "metadata": {},
   "source": []
  }
 ],
 "metadata": {
  "kernelspec": {
   "display_name": "clt-python (3.13.7)",
   "language": "python",
   "name": "python3"
  },
  "language_info": {
   "codemirror_mode": {
    "name": "ipython",
    "version": 3
   },
   "file_extension": ".py",
   "mimetype": "text/x-python",
   "name": "python",
   "nbconvert_exporter": "python",
   "pygments_lexer": "ipython3",
   "version": "3.13.7"
  }
 },
 "nbformat": 4,
 "nbformat_minor": 5
}
