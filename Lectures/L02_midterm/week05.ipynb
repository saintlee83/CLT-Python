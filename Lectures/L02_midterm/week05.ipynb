{
 "cells": [
  {
   "cell_type": "markdown",
   "id": "5a0a403b",
   "metadata": {},
   "source": [
    "# Pandas\n",
    "\n",
    "파이썬에서 가장 널리 사용되는 데이터 분석 및 조작 라이브러리\n",
    "\n",
    "다음과 같은 핵심 데이터 구조를 가지고 있음\n",
    "\n",
    "- DataFrame : 2차원 테이블 형태의 데이터 구조 (엑셀 시트와 유사)\n",
    "- Series : 1차원 배열 형태의 데이터 구조\n",
    "\n",
    "Attribute인지 Method인지, 반환값이 있는지 없는지를 추가로 확인해 보는것을 추천함\n"
   ]
  },
  {
   "cell_type": "code",
   "execution_count": null,
   "id": "f93078b7",
   "metadata": {},
   "outputs": [],
   "source": []
  },
  {
   "cell_type": "markdown",
   "id": "32186fcf",
   "metadata": {},
   "source": [
    "# Series\n",
    "\n",
    "1D Labeled data structure로 하나의 row 또는 하나의 column을 추상화 하고 있는 Class임\n",
    "\n",
    "pandas의 1D data를 위한 핵심 데이터 구조\n",
    "\n",
    "index와 value로 구성된 labeled 1차원 데이터 구조를 관리함\n",
    "\n",
    "- index : 각 데이터 포인트의 레이블 (unique할 필요 없음)\n",
    "\n",
    "  - 흔히, 0부터 시작하는 정수 index로 접근 : .iloc\n",
    "  - 또는 명시적으로 할당된 label을 통해 접근 : .loc\n",
    "\n",
    "- value : 실제 데이터 값\n",
    "  - 모든 값은 동일한 데이터 타입(dtype)을 가짐\n",
    "  - 선택적으로 Series는 name속성을 가질 수 있음 (Series를 가르키는 이름)\n",
    "\n",
    "DataFrame은 2D Labeled Tabular data structure로, 여러 개의 Series가 열(column)로 결합된 형태라고 볼 수 있음. 즉, DataFrame의 각 column은 Series임\n",
    "\n",
    "## 1. Series 생성\n",
    "\n",
    "### 1-1. list로 생성\n"
   ]
  },
  {
   "cell_type": "code",
   "execution_count": null,
   "id": "243783b0",
   "metadata": {},
   "outputs": [
    {
     "name": "stdout",
     "output_type": "stream",
     "text": [
      "리스트로 생성\n",
      "0    10\n",
      "1    20\n",
      "2    30\n",
      "3    40\n",
      "4    50\n",
      "dtype: int64\n"
     ]
    }
   ],
   "source": [
    "import pandas as pd\n",
    "import numpy as np\n",
    "\n",
    "# pandas는 내부적으로 numpy array 를 기반으로 동작함\n",
    "s1 = pd.Series([10, 20, 30, 40, 50])\n",
    "print(\"리스트로 생성\")\n",
    "print(s1)"
   ]
  },
  {
   "cell_type": "markdown",
   "id": "8638bf95",
   "metadata": {},
   "source": [
    "| 구성 요소                   | 설명                                                                       |\n",
    "| --------------------------- | -------------------------------------------------------------------------- |\n",
    "| Index                       | 행/열의 라벨 (numpy에는 없음, pandas에서 추가된 개념)                      |\n",
    "| Data                        | 실제 값 저장. numpy.ndarray 또는 ExtensionArray 형태                       |\n",
    "| dtype                       | NumPy dtype(예: int64, float64 등) 혹은 pandas 전용 dtype                  |\n",
    "| BlockManager / ArrayManager | DataFrame 내부에서 열 단위 데이터를 효율적으로 관리하는 pandas 내부 구조체 |\n",
    "\n",
    "### 1-2. index를 지정하여 생성\n"
   ]
  },
  {
   "cell_type": "code",
   "execution_count": 22,
   "id": "2cbbb20d",
   "metadata": {},
   "outputs": [
    {
     "name": "stdout",
     "output_type": "stream",
     "text": [
      "김철수    83\n",
      "김영희    92\n",
      "김행근    98\n",
      "Name: 점수, dtype: int64\n"
     ]
    }
   ],
   "source": [
    "s2 = pd.Series([83, 92, 98],\n",
    "               index=['김철수', '김영희', '김행근'],\n",
    "               name='점수')\n",
    "\n",
    "print(s2)"
   ]
  },
  {
   "cell_type": "markdown",
   "id": "ee51a20c",
   "metadata": {},
   "source": [
    "### 1-3. dictionary로 생성\n"
   ]
  },
  {
   "cell_type": "code",
   "execution_count": 4,
   "id": "606205a8",
   "metadata": {},
   "outputs": [
    {
     "name": "stdout",
     "output_type": "stream",
     "text": [
      "서울    9765\n",
      "부산    3419\n",
      "인천    2958\n",
      "대구    2427\n",
      "Name: 인구(천명), dtype: int64\n"
     ]
    }
   ],
   "source": [
    "dict_data = {'서울': 9765, '부산': 3419, '인천': 2958, '대구': 2427}\n",
    "s3 = pd.Series(dict_data, name='인구(천명)')\n",
    "\n",
    "print(s3)"
   ]
  },
  {
   "cell_type": "markdown",
   "id": "751b7451",
   "metadata": {},
   "source": [
    "## 2.Series의 Attribute\n",
    "\n",
    "Series는 Class이기 때문에 속성값을 가질 수 있음\n",
    "\n",
    "Attritube는 객체의 상태를 나타내는 데이터 값으로 Method와 다르게 실행 없이 값을 반환함\n"
   ]
  },
  {
   "cell_type": "code",
   "execution_count": 10,
   "id": "8fbcd869",
   "metadata": {},
   "outputs": [
    {
     "name": "stdout",
     "output_type": "stream",
     "text": [
      "values : [83 92 98]\n",
      "index : Index(['김철수', '김영희', '김행근'], dtype='object')\n",
      "name : 점수\n",
      "size : 3\n",
      "dtype : int64\n"
     ]
    }
   ],
   "source": [
    "print(f\"values : {s2.values}\")\n",
    "print(f\"index : {s2.index}\")\n",
    "print(f\"name : {s2.name}\")\n",
    "print(f\"size : {s2.size}\")\n",
    "print(f\"dtype : {s2.dtype}\")"
   ]
  },
  {
   "cell_type": "markdown",
   "id": "b839a0ec",
   "metadata": {},
   "source": [
    "- `.values` 보다는 `.to_numpy(dtype='float64', copy='True')`가 권장됨\n",
    "  - numpy array로 반환 되어 용이함\n",
    "- 값을 읽는 경우만 `.values` 또는 `.to_numpy()`를 사용\n",
    "- 값을 바꿔야 하는 경우에는 `indexer`를 사용하거나 `filtering` 또는 `apply`를 사용\n"
   ]
  },
  {
   "cell_type": "code",
   "execution_count": 37,
   "id": "bea81579",
   "metadata": {},
   "outputs": [
    {
     "data": {
      "text/plain": [
       "array([83., 92., 98.])"
      ]
     },
     "execution_count": 37,
     "metadata": {},
     "output_type": "execute_result"
    }
   ],
   "source": [
    "s2.to_numpy(dtype='float64', copy='True')"
   ]
  },
  {
   "cell_type": "code",
   "execution_count": null,
   "id": "c5b7daba",
   "metadata": {},
   "outputs": [
    {
     "name": "stdout",
     "output_type": "stream",
     "text": [
      "<class 'numpy.ndarray'>\n",
      "<class 'pandas.core.indexes.base.Index'>\n",
      "<class 'str'>\n",
      "<class 'int'>\n",
      "<class 'numpy.dtypes.Int64DType'>\n"
     ]
    }
   ],
   "source": [
    "print(type(s2.values))  # numpy array\n",
    "print(type(s2.index))  # Index type\n",
    "print(type(s2.name))  # str\n",
    "print(type(s2.size))  # int\n",
    "print(type(s2.dtype))  # numpy dtype"
   ]
  },
  {
   "cell_type": "markdown",
   "id": "761790ff",
   "metadata": {},
   "source": [
    "## 3. data 접근\n",
    "\n",
    "panda에서는 `loc`, `iloc`, `at`, `iat`의 indexer를 제공함\n"
   ]
  },
  {
   "cell_type": "markdown",
   "id": "c88409e0",
   "metadata": {},
   "source": [
    "### 3-1. index로 접근 (`.iloc`)\n"
   ]
  },
  {
   "cell_type": "code",
   "execution_count": null,
   "id": "d6806db2",
   "metadata": {},
   "outputs": [
    {
     "data": {
      "text/plain": [
       "np.int64(83)"
      ]
     },
     "execution_count": 38,
     "metadata": {},
     "output_type": "execute_result"
    }
   ],
   "source": [
    "s2['김철수']  # indexer .loc을 사용하는 경우와 동일하게 작동"
   ]
  },
  {
   "cell_type": "code",
   "execution_count": 32,
   "id": "a6fb808b",
   "metadata": {},
   "outputs": [
    {
     "data": {
      "text/plain": [
       "np.int64(83)"
      ]
     },
     "execution_count": 32,
     "metadata": {},
     "output_type": "execute_result"
    }
   ],
   "source": [
    "s2.loc['김철수']  # NumPy 스칼라 값이 반환"
   ]
  },
  {
   "cell_type": "code",
   "execution_count": 35,
   "id": "a017c584",
   "metadata": {},
   "outputs": [
    {
     "data": {
      "text/plain": [
       "김행근    98\n",
       "Name: 점수, dtype: int64"
      ]
     },
     "execution_count": 35,
     "metadata": {},
     "output_type": "execute_result"
    }
   ],
   "source": [
    "s2.loc[['김행근']]  # 부분 시리즈 반환"
   ]
  },
  {
   "cell_type": "code",
   "execution_count": 33,
   "id": "903f2aac",
   "metadata": {},
   "outputs": [
    {
     "data": {
      "text/plain": [
       "김철수    83\n",
       "김영희    92\n",
       "Name: 점수, dtype: int64"
      ]
     },
     "execution_count": 33,
     "metadata": {},
     "output_type": "execute_result"
    }
   ],
   "source": [
    "s2.loc[['김철수', '김영희']]  # 부분 시리즈"
   ]
  },
  {
   "cell_type": "markdown",
   "id": "214d0d2c",
   "metadata": {},
   "source": [
    "### 3-2. 위치로 접근 (`.loc`)\n"
   ]
  },
  {
   "cell_type": "code",
   "execution_count": 30,
   "id": "87da04f6",
   "metadata": {},
   "outputs": [
    {
     "data": {
      "text/plain": [
       "김철수    83\n",
       "김영희    92\n",
       "Name: 점수, dtype: int64"
      ]
     },
     "execution_count": 30,
     "metadata": {},
     "output_type": "execute_result"
    }
   ],
   "source": [
    "s2.iloc[0:2]  # 부분 시리즈 반환"
   ]
  },
  {
   "cell_type": "code",
   "execution_count": 28,
   "id": "0bd97201",
   "metadata": {},
   "outputs": [
    {
     "data": {
      "text/plain": [
       "np.int64(83)"
      ]
     },
     "execution_count": 28,
     "metadata": {},
     "output_type": "execute_result"
    }
   ],
   "source": [
    "s2.iloc[0]  # NumPy 스칼라 값이 반환됨환"
   ]
  },
  {
   "cell_type": "markdown",
   "id": "fdf7e3ae",
   "metadata": {},
   "source": [
    "## 4. 데이터 필터링\n",
    "\n",
    "condition에 의해 boolean mask(Series 객체)가 생성되며 이를 이용한 indexing임\n",
    "\n",
    "- 여러개의 condition을 사용시 각각을 ()로 감싸야 함.\n",
    "- &, |, ~ 를 사용하여 condition을 묶음 (and, or, not 사용 불가)\n"
   ]
  },
  {
   "cell_type": "code",
   "execution_count": 45,
   "id": "6a03d3dd",
   "metadata": {},
   "outputs": [],
   "source": [
    "data_list = [10, 20, 30, 40, 50]\n",
    "\n",
    "s3 = pd.Series(data_list, index=['정은교', '배서준',\n",
    "               '이원준', '최일환', '이제석'], name='score')"
   ]
  },
  {
   "cell_type": "code",
   "execution_count": 46,
   "id": "9fc8f4d7",
   "metadata": {},
   "outputs": [
    {
     "name": "stdout",
     "output_type": "stream",
     "text": [
      "students who have a score over 30\n",
      "이원준    30\n",
      "최일환    40\n",
      "이제석    50\n",
      "Name: score, dtype: int64\n"
     ]
    }
   ],
   "source": [
    "print('students who have a score over 30')\n",
    "print(s3[s3 >= 30])"
   ]
  },
  {
   "cell_type": "code",
   "execution_count": 48,
   "id": "9bd1b25f",
   "metadata": {},
   "outputs": [
    {
     "data": {
      "text/plain": [
       "정은교    False\n",
       "배서준    False\n",
       "이원준     True\n",
       "최일환     True\n",
       "이제석     True\n",
       "Name: score, dtype: bool"
      ]
     },
     "execution_count": 48,
     "metadata": {},
     "output_type": "execute_result"
    }
   ],
   "source": [
    "s3 >= 30"
   ]
  },
  {
   "cell_type": "code",
   "execution_count": 49,
   "id": "23c785c7",
   "metadata": {},
   "outputs": [
    {
     "name": "stdout",
     "output_type": "stream",
     "text": [
      "students who have a score between 20 and 30\n",
      "배서준    20\n",
      "이원준    30\n",
      "Name: score, dtype: int64\n"
     ]
    }
   ],
   "source": [
    "print('students who have a score between 20 and 30')\n",
    "print(s3[(s3 >= 20) & (s3 <= 30)])"
   ]
  },
  {
   "cell_type": "markdown",
   "id": "e0e75bb1",
   "metadata": {
    "vscode": {
     "languageId": "plaintext"
    }
   },
   "source": [
    "# DataFrame\n",
    "\n",
    "pandas의 핵심 데이터 구조\n",
    "\n",
    "엑셀 시트처럼 행과 열로 구성된 labeled 2차원 tavular data를 관리\n",
    "\n",
    "- Row : a case of sample (=single instance)\n",
    "  - 흔히, 0부터 시작하는 index를 통해 접근 : .iloc\n",
    "  - 또는 index로 할당된 label을 통해 접근 : .loc\n",
    "- Column : a feature (or attribute).\n",
    "  - DataFrame 에서 각각의 Column은 문자열 이름을 가진 Series라고 볼 수 있음\n",
    "\n",
    "> 참고사항 0 :\n",
    ">\n",
    "> pandas 2.0부터는 \\\n",
    "> DataFrame.append()와 Series.append() 메서드가 완전히 제거(deprecated)되어 \\\n",
    "> pd.concat()을 이용한 결합 방식이 표준이 됨.\n",
    ">\n",
    "> 참고사항 1 :\n",
    ">\n",
    "> 문자열 데이터(Python의 str)는 기본적으로 object dtype으로 생성됨: \\\n",
    "> 결측값 처리와 타입 일관성을 위해서는 \\\n",
    "> dtype=\"string\" 으로 명시적으로 지정하는 것이 권장됨. \\\n",
    "> 이는 Pandas 전용 nullable string타입으로 Python의 str과 다름.\n"
   ]
  },
  {
   "cell_type": "markdown",
   "id": "12aa6f7e",
   "metadata": {},
   "source": [
    "## Column을 직접 할당하여 DataFrame 생성\n",
    "\n",
    "새로운 empty DataFrame 객체를 만든 뒤, 각 Column에\n",
    "\n",
    "- list,\n",
    "- numpy array\n",
    "- Series 등을 직접 할당하여\n",
    "\n",
    "DataFrame 객체를 만드는 방식\n",
    "\n",
    "문자열은 기본적으로 `object dtype`이지만 결측치(pd.NA)와 처리와 타입 일관성을 위해 `dtype=\"string\"`을 명히적으로 지정하는 것이 권장됨\n",
    "\n",
    "#### 이게 뭔 소리냐면..\n",
    "\n",
    "pandas에선 기본적으로 `object dtype`을 할당함, `object dtype`은 모든 타입을 가질 수 있고 `NaN(float형 결측치)`와 문자열이 섞여 있을 수 있어 타입 일관성이 깨질 수 있음\n",
    "\n",
    "이 때 `dtype=\"string\"`으로 설정하면 `StringDtype`으로 설정되어 결측치를 NA로 처리히게됨\n"
   ]
  },
  {
   "cell_type": "code",
   "execution_count": null,
   "id": "0899694d",
   "metadata": {},
   "outputs": [
    {
     "name": "stdout",
     "output_type": "stream",
     "text": [
      "      Name  Age  Score   City\n",
      "0    Alice   25   88.5  Seoul\n",
      "1      Bob   30   92.0   <NA>\n",
      "2  Charlie   35   79.0  Busan\n"
     ]
    }
   ],
   "source": [
    "import pandas as pd\n",
    "import numpy as np\n",
    "\n",
    "df = pd.DataFrame()\n",
    "\n",
    "# 문자열 열: dtype=\"string\"으로 명시 (nullable)\n",
    "df[\"Name\"] = pd.Series([\"Alice\", \"Bob\", \"Charlie\"], dtype=\"string\")\n",
    "\n",
    "# 정수형 열: nullable 정수 dtype (Int64) 사용\n",
    "df[\"Age\"] = pd.Series([25, 30, 35], dtype=\"Int64\")\n",
    "\n",
    "# 실수형 열: NumPy 배열로 할당\n",
    "df[\"Score\"] = np.array([88.5, 92.0, 79.0])\n",
    "\n",
    "# Series 할당 시 인덱스 레이블이 겹치는 위치에만 값이 채워짐\n",
    "s_city = pd.Series([\"Seoul\", \"Busan\"], index=[0, 2],\n",
    "                   name=\"City\", dtype=\"string\")\n",
    "df[\"City\"] = s_city\n",
    "\n",
    "print(df)"
   ]
  },
  {
   "cell_type": "markdown",
   "id": "0e9e38bd",
   "metadata": {},
   "source": [
    "## 개별 Series를 기존 DataFrame에 새로운 Column으로 추가하기\n",
    "\n",
    "`Series` 객체를 기존의 `DataFrame`에 새로운 `column`으로 합칠 때 (추가)는,\\\n",
    "해당 `Series` 객체에서 .`to_frame()` 메서드를 통해 `DataFrame` 객체로 변환한 뒤\\\n",
    "`pd.concat(axis=1)`으로 결합(`axis=1` 이어야 column으로 결합됨)시킬 수 있음.\n",
    "\n",
    "- pandas는 인덱스 레이블을 기준으로 정합(label-based alignment)해 결합함.\n",
    "- `pd.concat()`함수의 기본 동작은 `outer join` 이나, join파라미터에 `\"inner\"`를 할당해서 `inner join` 모드로 동작 가능함.\n",
    "\n",
    "  - `pd.concat()`함수는 `left join`과 `right join`은 지원 안함.\n",
    "\n",
    "  - 이는 `DataFrame`의 메서드인 `join()`,`merge()`에서 지원.\n"
   ]
  },
  {
   "cell_type": "code",
   "execution_count": null,
   "id": "62ba5fad",
   "metadata": {},
   "outputs": [
    {
     "name": "stdout",
     "output_type": "stream",
     "text": [
      "        Name   Age     City\n",
      "100    Alice    25    Seoul\n",
      "101      Bob    30     <NA>\n",
      "102  Charlie  <NA>    Busan\n",
      "103     <NA>  <NA>  Incheon\n"
     ]
    }
   ],
   "source": [
    "import pandas as pd\n",
    "\n",
    "# 기준 DataFrame\n",
    "base = pd.DataFrame({\"Name\": pd.Series([\"Alice\", \"Bob\", \"Charlie\"], dtype=\"string\",\n",
    "                    index=[100, 101, 102])})\n",
    "\n",
    "# 각각 일부 인덱스를 가진 Series\n",
    "age_s = pd.Series([25, 30], index=[100, 101], name=\"Age\", dtype=\"Int64\")\n",
    "city_s = pd.Series([\"Seoul\", \"Busan\", \"Incheon\"], index=[100, 102, 103],\n",
    "                   name=\"City\", dtype=\"string\")\n",
    "\n",
    "df.index = df.index * 10\n",
    "\n",
    "# Series를 DataFrame으로 변환\n",
    "df = pd.concat([base, age_s.to_frame(), city_s.to_frame()],\n",
    "               axis=1)  # default outer join\n",
    "print(df)"
   ]
  },
  {
   "cell_type": "markdown",
   "id": "298c30d4",
   "metadata": {},
   "source": [
    "# Basic Attribute and Exploration Methods\n",
    "\n",
    "pandas의 DataFrame객체는 2차원 데이터 구조(2D tabular structure)로, 데이터 분석에서 가장 자주 사용되는 객체임.\n",
    "\n",
    "- 일반적으로 데이터에서 수백 ~ 수십만의 row (case) 및 column (feature, attribute)이 존재\n",
    "- 일부 데이터를 출력하거나 통계치로서 데이터를 살펴보는 과정 필요. ← Descriptive Statistics\n",
    "\n",
    "이같은 DataFrame 객체의 구조 및 내용을 빠르게 파악하기 위한 주요 attributes와 exploration methods를 소개한다.\n"
   ]
  },
  {
   "cell_type": "markdown",
   "id": "45f49119",
   "metadata": {},
   "source": [
    "### 1. DataFrame 기본 속성 (Attributes)\n",
    "\n",
    "- DataFrame 객체는 NumPy 배열처럼 몇 가지 기초 속성을 바로 확인할 수 있음\n",
    "- shape, ndim, dtype 등을 손쉽게 확인 가능\n",
    "\n",
    "*다음중 Attribute 인걸 골라라"
   ]
  },
  {
   "cell_type": "code",
   "execution_count": 53,
   "id": "72ee0653",
   "metadata": {},
   "outputs": [
    {
     "name": "stdout",
     "output_type": "stream",
     "text": [
      "Shape: (4, 3)\n",
      "ndim: 2\n",
      "Size: 12\n",
      "dtypes:\n",
      " Name    string[python]\n",
      "Age              Int64\n",
      "City    string[python]\n",
      "dtype: object\n",
      "Index: Index([100, 101, 102, 103], dtype='int64')\n",
      "Columns: Index(['Name', 'Age', 'City'], dtype='object')\n"
     ]
    }
   ],
   "source": [
    "# import pandas as pd\n",
    "\n",
    "# # 예제 DataFrame\n",
    "# data = {\n",
    "#     \"Name\": [\"Alice\", \"Bob\", \"Charlie\", \"David\"],\n",
    "#     \"Age\": [25, 30, 35, 40],\n",
    "#     \"City\": [\"Seoul\", \"Busan\", \"Incheon\", \"Daegu\"]\n",
    "# }\n",
    "# df = pd.DataFrame(data, dtype=\"string\")\n",
    "\n",
    "# 주요 속성 확인\n",
    "print(\"Shape:\", df.shape)        # (행, 열)\n",
    "print(\"ndim:\", df.ndim)          # 차원 수 (항상 2)\n",
    "print(\"Size:\", df.size)          # 전체 원소 개수\n",
    "print(\"dtypes:\\n\", df.dtypes)    # 각 column의 dtype\n",
    "print(\"Index:\", df.index)        # 행 인덱스 객체\n",
    "print(\"Columns:\", df.columns)    # 열 이름"
   ]
  },
  {
   "cell_type": "markdown",
   "id": "0e83aa83",
   "metadata": {},
   "source": [
    "### 2. 구조 확인 메서드: info()\n",
    "\n",
    "- 데이터의 전반적 구조 요약 제공\n",
    "- 행 개수, 열 개수, 각 열의 데이터 타입, 결측치 여부 등을 확인 가능\n",
    "  "
   ]
  },
  {
   "cell_type": "code",
   "execution_count": 55,
   "id": "63ea531d",
   "metadata": {},
   "outputs": [
    {
     "name": "stdout",
     "output_type": "stream",
     "text": [
      "<class 'pandas.core.frame.DataFrame'>\n",
      "Index: 4 entries, 100 to 103\n",
      "Data columns (total 3 columns):\n",
      " #   Column  Non-Null Count  Dtype \n",
      "---  ------  --------------  ----- \n",
      " 0   Name    3 non-null      string\n",
      " 1   Age     2 non-null      Int64 \n",
      " 2   City    3 non-null      string\n",
      "dtypes: Int64(1), string(2)\n",
      "memory usage: 132.0 bytes\n"
     ]
    }
   ],
   "source": [
    "df.info() # return None"
   ]
  },
  {
   "cell_type": "code",
   "execution_count": 59,
   "id": "dd07f904",
   "metadata": {},
   "outputs": [
    {
     "name": "stdout",
     "output_type": "stream",
     "text": [
      "<class 'pandas.core.frame.DataFrame'>\n",
      "Index: 4 entries, 100 to 103\n",
      "Data columns (total 3 columns):\n",
      " #   Column  Non-Null Count  Dtype \n",
      "---  ------  --------------  ----- \n",
      " 0   Name    3 non-null      string\n",
      " 1   Age     2 non-null      Int64 \n",
      " 2   City    3 non-null      string\n",
      "dtypes: Int64(1), string(2)\n",
      "memory usage: 132.0 bytes\n",
      "----------\n",
      "None\n"
     ]
    }
   ],
   "source": [
    "a = df.info()\n",
    "\n",
    "print(\"-\"*10, a, sep='\\n')"
   ]
  },
  {
   "cell_type": "markdown",
   "id": "14e5b8bc",
   "metadata": {},
   "source": [
    "### 3. 통계 요약 메서드 : describe()"
   ]
  },
  {
   "cell_type": "code",
   "execution_count": 65,
   "id": "d9d5e367",
   "metadata": {},
   "outputs": [
    {
     "name": "stdout",
     "output_type": "stream",
     "text": [
      "            Age\n",
      "count       2.0\n",
      "mean       27.5\n",
      "std    3.535534\n",
      "min        25.0\n",
      "25%       26.25\n",
      "50%        27.5\n",
      "75%       28.75\n",
      "max        30.0\n"
     ]
    }
   ],
   "source": [
    "print(df.describe()) #return DataFrame"
   ]
  },
  {
   "cell_type": "code",
   "execution_count": 66,
   "id": "f48df72c",
   "metadata": {},
   "outputs": [],
   "source": [
    "a = df.describe()"
   ]
  },
  {
   "cell_type": "code",
   "execution_count": 67,
   "id": "99f2b277",
   "metadata": {},
   "outputs": [
    {
     "data": {
      "text/plain": [
       "pandas.core.frame.DataFrame"
      ]
     },
     "execution_count": 67,
     "metadata": {},
     "output_type": "execute_result"
    }
   ],
   "source": [
    "type(a)"
   ]
  },
  {
   "cell_type": "code",
   "execution_count": 68,
   "id": "bfe57fe2",
   "metadata": {},
   "outputs": [
    {
     "data": {
      "text/html": [
       "<div>\n",
       "<style scoped>\n",
       "    .dataframe tbody tr th:only-of-type {\n",
       "        vertical-align: middle;\n",
       "    }\n",
       "\n",
       "    .dataframe tbody tr th {\n",
       "        vertical-align: top;\n",
       "    }\n",
       "\n",
       "    .dataframe thead th {\n",
       "        text-align: right;\n",
       "    }\n",
       "</style>\n",
       "<table border=\"1\" class=\"dataframe\">\n",
       "  <thead>\n",
       "    <tr style=\"text-align: right;\">\n",
       "      <th></th>\n",
       "      <th>Age</th>\n",
       "    </tr>\n",
       "  </thead>\n",
       "  <tbody>\n",
       "    <tr>\n",
       "      <th>count</th>\n",
       "      <td>2.0</td>\n",
       "    </tr>\n",
       "    <tr>\n",
       "      <th>mean</th>\n",
       "      <td>27.5</td>\n",
       "    </tr>\n",
       "    <tr>\n",
       "      <th>std</th>\n",
       "      <td>3.535534</td>\n",
       "    </tr>\n",
       "    <tr>\n",
       "      <th>min</th>\n",
       "      <td>25.0</td>\n",
       "    </tr>\n",
       "    <tr>\n",
       "      <th>25%</th>\n",
       "      <td>26.25</td>\n",
       "    </tr>\n",
       "    <tr>\n",
       "      <th>50%</th>\n",
       "      <td>27.5</td>\n",
       "    </tr>\n",
       "    <tr>\n",
       "      <th>75%</th>\n",
       "      <td>28.75</td>\n",
       "    </tr>\n",
       "    <tr>\n",
       "      <th>max</th>\n",
       "      <td>30.0</td>\n",
       "    </tr>\n",
       "  </tbody>\n",
       "</table>\n",
       "</div>"
      ],
      "text/plain": [
       "            Age\n",
       "count       2.0\n",
       "mean       27.5\n",
       "std    3.535534\n",
       "min        25.0\n",
       "25%       26.25\n",
       "50%        27.5\n",
       "75%       28.75\n",
       "max        30.0"
      ]
     },
     "execution_count": 68,
     "metadata": {},
     "output_type": "execute_result"
    }
   ],
   "source": [
    "a"
   ]
  }
 ],
 "metadata": {
  "kernelspec": {
   "display_name": "clt-python (3.13.7)",
   "language": "python",
   "name": "python3"
  },
  "language_info": {
   "codemirror_mode": {
    "name": "ipython",
    "version": 3
   },
   "file_extension": ".py",
   "mimetype": "text/x-python",
   "name": "python",
   "nbconvert_exporter": "python",
   "pygments_lexer": "ipython3",
   "version": "3.13.7"
  }
 },
 "nbformat": 4,
 "nbformat_minor": 5
}
