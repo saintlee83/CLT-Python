{
 "cells": [
  {
   "cell_type": "markdown",
   "id": "da2ea81e",
   "metadata": {},
   "source": []
  },
  {
   "cell_type": "markdown",
   "id": "1ddef777",
   "metadata": {},
   "source": [
    "# Control Flow와 Control Structure\n",
    "\n",
    "## 1. Abstraction(추상화)을 통한 이해\n",
    "\n",
    "프로그래밍 언어에서 `Abstraction(추상화)`은 복잡한 세부 사항을 숨기고 핵심 개념만 드러내는 프로그래밍의 기본 원칙\n",
    "Control Flow와 Control Structure는 프로그램의 실행 경로(Execution Path)를 추상화하여 코드의 실행 순서와 동작을 체계적으로 관리할 수 있게 해줌\n",
    "\n",
    "### 1.1 Control Flow (제어 흐름)\n",
    "\n",
    "정의: 프로그램이 실행되는 경로의 제어, 즉 Execution Path를 결정하는 것\n",
    "\n",
    "비유: 이야기책을 읽을 때 순서대로(sequential) 진행하거나 특정 페이지로 건너뛰는 방식과 유사\n",
    "\n",
    "- 특징: 기본적으로 코드는 위에서 아래로 순차적(sequential)으로 실행되지만, Control Structure를 사용해 이 흐름을 변경 가능\n",
    "\n",
    "#### 환경별 특징:\n",
    "\n",
    "- Single Thread: 하나의 Execution Path만 존재\n",
    "\n",
    "- Multi-Thread: 각 Thread가 독립적인 Control Flow를 가지며 병렬로 실행\n",
    "\n",
    "### 1.2 Control Structure (제어 구조)\n",
    "\n",
    "- 정의: Control Flow를 구현하는 구체적인 도구(command, statement)\n",
    "\n",
    "- 역할: \"만약 A 조건이면 B 작업을 수행하고, 그렇지 않으면 C 작업을 수행한다\"와 같은 논리를 코드로 표현\n"
   ]
  },
  {
   "cell_type": "markdown",
   "id": "7cd6b616",
   "metadata": {},
   "source": [
    "### 2. Control Structure의 분류\n",
    "\n",
    "Control Structure는 프로그램의 Execution Path를 제어하는 프로그래밍 구문으로, 크게 세 가지로 분류됨\n",
    "\n",
    "#### 2.1 Sequential Structure (순차 구조)\n",
    "\n",
    "- 개념: 가장 기본적인 구조로, 명령문이 작성된 순서대로 위에서 아래로 실행됨\n",
    "\n",
    "- 특징: 모든 프로그래밍 언어가 기본적으로 지원함\n",
    "\n",
    "```c\n",
    "// C 언어\n",
    "statement1;\n",
    "statement2;\n",
    "statement3;\n",
    "```\n",
    "\n",
    "#### 2.2 Branch Structure (분기 구조)\n",
    "\n",
    "개념: Execution Path를 다른 경로로 변경하는 구조\n",
    "\n",
    "중요성: Turing Completeness를 위해 필요한 branch 기능을 제공\n",
    "\n",
    "분류: Conditional Branch(조건부 분기)와 Unconditional Jump(무조건 점프)로 구분\n",
    "\n",
    "#### 2.2.1 Conditional Branch (조건부 분기)\n",
    "\n",
    "조건에 따라 Execution Path가 달라지는 구조임\n",
    "\n",
    "(1) if-else 문\n",
    "\n",
    "조건이 참이면 한 블록, 거짓이면 다른 블록을 실행함\n",
    "\n",
    "```c\n",
    "// C 언어\n",
    "if (x > 0) {\n",
    "    printf(\"Positive number\\n\");\n",
    "} else if (x < 0) {\n",
    "    printf(\"Negative number\\n\");\n",
    "} else {\n",
    "    printf(\"Zero\\n\");\n",
    "}\n",
    "```\n"
   ]
  },
  {
   "cell_type": "code",
   "execution_count": null,
   "id": "52fa258c",
   "metadata": {},
   "outputs": [],
   "source": [
    "# Python\n",
    "if x > 0:\n",
    "  print(\"Positive number\")\n",
    "elif x < 0:\n",
    "  print(\"Negative number\")\n",
    "else:\n",
    "  print(\"Zero\")"
   ]
  },
  {
   "cell_type": "markdown",
   "id": "4538dd5a",
   "metadata": {},
   "source": [
    "(2) switch-case 문\n",
    "\n",
    "변수 값에 따라 여러 경로 중 하나를 선택함\n",
    "\n",
    "```c\n",
    "// C 언어\n",
    "switch (day) {\n",
    "    case 1:\n",
    "        printf(\"Monday\\n\");\n",
    "        break;\n",
    "    case 2:\n",
    "        printf(\"Tuesday\\n\");\n",
    "        break;\n",
    "    default:\n",
    "        printf(\"Other day\\n\");\n",
    "}\n",
    "```\n"
   ]
  },
  {
   "cell_type": "code",
   "execution_count": null,
   "id": "1fa7988f",
   "metadata": {},
   "outputs": [],
   "source": [
    "# Python (3.10 이상)\n",
    "match day:\n",
    "  case 1:\n",
    "    print(\"Monday\")\n",
    "  case 2:\n",
    "    print(\"Tuesday\")\n",
    "  case _:\n",
    "    print(\"Other day\")\n",
    "\n",
    "# Python (이전 버전)\n",
    "if day == 1:\n",
    "  print(\"Monday\")\n",
    "elif day == 2:\n",
    "  print(\"Tuesday\")\n",
    "else:\n",
    "  print(\"Other day\")"
   ]
  },
  {
   "cell_type": "markdown",
   "id": "4a904950",
   "metadata": {},
   "source": [
    "(3) Ternary Operator (삼항 연산자)\n",
    "\n",
    "간단한 조건문을 한 줄로 표현함\n",
    "\n",
    "```c\n",
    "// C 언어\n",
    "result = (x > 0) ? \"Positive\" : \"Non-positive\";\n",
    "```\n"
   ]
  },
  {
   "cell_type": "code",
   "execution_count": null,
   "id": "efa4090d",
   "metadata": {},
   "outputs": [],
   "source": [
    "# Python\n",
    "result = \"Positive\" if x > 0 else \"Non-positive\""
   ]
  },
  {
   "cell_type": "markdown",
   "id": "eca9276c",
   "metadata": {},
   "source": [
    "(4) Conditional Jump\n",
    "\n",
    "저수준 언어에서 사용되는 명령어\n",
    "\n",
    "예: Assembly의 JZ (Jump if Zero), JNZ (Jump if Not Zero)\n",
    "\n",
    "#### 2.2.2 Unconditional Jump (무조건 점프)\n",
    "\n",
    "조건 없이 Execution Path를 변경하는 구조\n",
    "\n",
    "(1) break\n",
    "\n",
    "현재 Loop나 switch문을 즉시 종료함\n",
    "\n",
    "```c\n",
    "// C 언어\n",
    "for (int i = 0; i < 10; i++) {\n",
    "    if (i == 5) {\n",
    "        break; // i가 5일 때 loop 종료\n",
    "    }\n",
    "    printf(\"%d \", i);\n",
    "}\n",
    "// 출력: 0 1 2 3 4\n",
    "```\n"
   ]
  },
  {
   "cell_type": "code",
   "execution_count": null,
   "id": "f96e0a24",
   "metadata": {},
   "outputs": [
    {
     "name": "stdout",
     "output_type": "stream",
     "text": [
      "0 1 2 3 4 "
     ]
    }
   ],
   "source": [
    "# Python\n",
    "for i in range(10):\n",
    "  if i == 5:\n",
    "    break  # i가 5일 때 loop 종료\n",
    "  print(i, end=\" \")\n",
    "# 출력: 0 1 2 3 4"
   ]
  },
  {
   "cell_type": "markdown",
   "id": "e56582b2",
   "metadata": {},
   "source": [
    "(2) continue\n",
    "\n",
    "현재 iteration 실행을 건너뛰고 다음 iteration으로 이동\n",
    "\n",
    "```c\n",
    "// C 언어\n",
    "for (int i = 0; i < 5; i++) {\n",
    "    if (i == 2) {\n",
    "        continue; // i가 2일 때 해당 반복 건너뛰기\n",
    "    }\n",
    "    printf(\"%d \", i);\n",
    "}\n",
    "// 출력: 0 1 3 4\n",
    "```\n"
   ]
  },
  {
   "cell_type": "code",
   "execution_count": null,
   "id": "50439909",
   "metadata": {},
   "outputs": [
    {
     "name": "stdout",
     "output_type": "stream",
     "text": [
      "0 1 3 4 "
     ]
    }
   ],
   "source": [
    "# Python\n",
    "for i in range(5):\n",
    "  if i == 2:\n",
    "    continue  # i가 2일 때 해당 반복 건너뛰기\n",
    "  print(i, end=\" \")\n",
    "# 출력: 0 1 3 4"
   ]
  },
  {
   "cell_type": "markdown",
   "id": "4ceb9fa1",
   "metadata": {},
   "source": [
    "(3) return\n",
    "\n",
    "Function 실행을 종료하고 값을 반환하면서 function call이 이루어진 위치로 jump함\n",
    "\n",
    "```c\n",
    "// C 언어\n",
    "int max_value(int a, int b) {\n",
    "    if (a > b) {\n",
    "        return a; // a가 더 크면 a 반환 후 함수 종료\n",
    "    }\n",
    "    return b; // 그렇지 않으면 b 반환\n",
    "}\n",
    "```\n"
   ]
  },
  {
   "cell_type": "code",
   "execution_count": null,
   "id": "4facb4c4",
   "metadata": {},
   "outputs": [],
   "source": [
    "# Python\n",
    "def max_value(a, b):\n",
    "  if a > b:\n",
    "    return a  # a가 더 크면 a 반환 후 함수 종료\n",
    "  return b  # 그렇지 않으면 b 반환"
   ]
  },
  {
   "cell_type": "markdown",
   "id": "e8dea24b",
   "metadata": {},
   "source": [
    "(4) goto\n",
    "\n",
    "특정 Label로 직접 이동함 (현대 프로그래밍 언어에서는 사용을 지양함)\n",
    "\n",
    "```c\n",
    "// C 언어\n",
    "int i = 0;\n",
    "start:\n",
    "    printf(\"%d \", i);\n",
    "    i++;\n",
    "    if (i < 5) {\n",
    "        goto start; // i가 5보다 작으면 start 레이블로 이동\n",
    "    }\n",
    "// 출력: 0 1 2 3 4\n",
    "\n",
    "// Python에는 goto가 없음\n",
    "```\n",
    "\n",
    "#### 2.3 Iteration/Loop Structure (반복 구조)\n",
    "\n",
    "개념: 특정 조건이 만족될 때까지 코드 블록을 반복 실행하는 구조\n",
    "\n",
    "중요성: Turing Completeness를 위해 필요한 looping 기능을 제공\n",
    "\n",
    "(1) for Loop\n",
    "\n",
    "반복 횟수가 정해진 경우 자주 이용되며, 초기화, 조건, 증감 등을 명시적으로 정의 가능함\n",
    "\n",
    "```c\n",
    "// C 언어\n",
    "for (int i = 0; i < 5; i++) {\n",
    "    printf(\"%d \", i * i);\n",
    "}\n",
    "// 출력: 0 1 4 9 16\n",
    "```\n"
   ]
  },
  {
   "cell_type": "code",
   "execution_count": null,
   "id": "2c274049",
   "metadata": {},
   "outputs": [
    {
     "name": "stdout",
     "output_type": "stream",
     "text": [
      "0 1 4 9 16 "
     ]
    }
   ],
   "source": [
    "# Python\n",
    "for i in range(5):\n",
    "  print(i * i, end=\" \")\n",
    "# 출력: 0 1 4 9 16"
   ]
  },
  {
   "cell_type": "markdown",
   "id": "4226e306",
   "metadata": {},
   "source": [
    "(2) while Loop\n",
    "\n",
    "조건이 참인 동안 반복 실행함\n",
    "\n",
    "```c\n",
    "// C 언어\n",
    "int count = 0;\n",
    "while (count < 5) {\n",
    "    printf(\"%d \", count);\n",
    "    count++;\n",
    "}\n",
    "// 출력: 0 1 2 3 4\n",
    "```\n"
   ]
  },
  {
   "cell_type": "code",
   "execution_count": null,
   "id": "b6923a88",
   "metadata": {},
   "outputs": [
    {
     "name": "stdout",
     "output_type": "stream",
     "text": [
      "0 1 2 3 4 "
     ]
    }
   ],
   "source": [
    "# Python\n",
    "count = 0\n",
    "while count < 5:\n",
    "  print(count, end=\" \")\n",
    "  count += 1\n",
    "# 출력: 0 1 2 3 4"
   ]
  },
  {
   "cell_type": "markdown",
   "id": "6d9bfd3b",
   "metadata": {},
   "source": [
    "(3) do-while Loop\n",
    "\n",
    "최소 한 번 실행 후 조건을 확인\n",
    "\n",
    "```c\n",
    "// C 언어\n",
    "int i = 0;\n",
    "do {\n",
    "    printf(\"%d \", i);\n",
    "    i++;\n",
    "} while (i < 5);\n",
    "// 출력: 0 1 2 3 4\n",
    "\n",
    "// 조건이 처음부터 거짓인 경우에도 한 번은 실행됨\n",
    "i = 10;\n",
    "do {\n",
    "    printf(\"Executed once even though i = %d > 5\\n\", i);\n",
    "} while (i < 5);\n",
    "```"
   ]
  },
  {
   "cell_type": "code",
   "execution_count": 6,
   "id": "3956e97a",
   "metadata": {},
   "outputs": [
    {
     "name": "stdout",
     "output_type": "stream",
     "text": [
      "0 1 2 3 4 Executed once even though i = 10 > 5\n"
     ]
    }
   ],
   "source": [
    "# Python에는 do-while이 없지만 유사하게 구현 가능\n",
    "i = 0\n",
    "while True:\n",
    "    print(i, end=\" \")\n",
    "    i += 1\n",
    "    if i >= 5:\n",
    "        break\n",
    "# 출력: 0 1 2 3 4\n",
    "\n",
    "# 조건이 처음부터 거짓인 경우에도 한 번은 실행\n",
    "i = 10\n",
    "while True:\n",
    "    print(f\"Executed once even though i = {i} > 5\")\n",
    "    if i < 5:\n",
    "        continue\n",
    "    break"
   ]
  },
  {
   "cell_type": "markdown",
   "id": "2c8c99b4",
   "metadata": {},
   "source": [
    "(4) foreach Loop\n",
    "\n",
    "Collection의 각 요소를 순회함 (언어별 문법 상이)\n",
    "\n",
    "```c\n",
    "// C 언어는 native foreach가 없지만 배열은 for loop로 순회 가능\n",
    "int numbers[] = {1, 2, 3, 4, 5};\n",
    "int size = sizeof(numbers) / sizeof(numbers[0]);\n",
    "for (int i = 0; i < size; i++) {\n",
    "    printf(\"%d \", numbers[i]);\n",
    "}\n",
    "// 출력: 1 2 3 4 5\n",
    "```"
   ]
  },
  {
   "cell_type": "code",
   "execution_count": 7,
   "id": "0b57c08b",
   "metadata": {},
   "outputs": [
    {
     "name": "stdout",
     "output_type": "stream",
     "text": [
      "1 2 3 4 5 "
     ]
    }
   ],
   "source": [
    "# Python - 리스트 순회\n",
    "numbers = [1, 2, 3, 4, 5]\n",
    "for num in numbers:\n",
    "    print(num, end=\" \")\n",
    "# 출력: 1 2 3 4 5"
   ]
  },
  {
   "cell_type": "markdown",
   "id": "4f846950",
   "metadata": {},
   "source": [
    "## 3. 언어별 특징 비교\n",
    "### 3.1 Python의 특징\n",
    "\n",
    "- goto 구문 없음: 구조적 프로그래밍을 강제\n",
    "\n",
    "- do-while 없음: while True와 break로 유사하게 구현 가능\n",
    "\n",
    "- match-case: Python 3.10부터 지원\n",
    "\n",
    "- 삼항 연산자: value if condition else other_value 형태\n",
    "\n",
    "- foreach 스타일: for item in collection 형태가 기본\n",
    "\n",
    "#### 3.2 C 언어의 특징\n",
    "\n",
    "- goto 구문 지원: 하지만 현대적 프로그래밍에서는 사용 지양\n",
    "\n",
    "- do-while 지원: 최소 한 번 실행 보장\n",
    "\n",
    "- switch-case: break 명시 필수 (fall-through 방지)\n",
    "\n",
    "- 배열 순회: 인덱스 기반 for loop 사용\n",
    "\n",
    "- 삼항 연산자: condition ? true_value : false_value 형태\n",
    "\n",
    "### 4. Turing Completeness와 Control Structure\n",
    "\n",
    "Turing Completeness를 달성하기 위해서는 다음 두 가지가 필수적임:\n",
    "\n",
    "- Branch 기능: 조건에 따라 다른 코드를 실행할 수 있는 능력\n",
    "\n",
    "- Loop 기능: 조건이 만족될 때까지 코드를 반복할 수 있는 능력\n",
    "\n",
    "이 두 기능이 있으면 이론적으로 계산 가능한 모든 문제를 해결할 수 있음\n",
    "\n",
    "## 5. 결론\n",
    "### 5.1 보편성\n",
    "프로그래밍 언어마다 Control Structure의 문법은 다를 수 있지만, 기본 개념은 보편적임\n",
    "\n",
    "### 5.2 실용성\n",
    "\n",
    "이러한 구조를 이해하고 적절히 적용하면:\n",
    "\n",
    "1. 효율적인 코드 작성 가능\n",
    "\n",
    "2. 유지보수가 용이한 코드 작성 가능\n",
    "\n",
    "3. 가독성 높은 코드 작성 가능\n",
    "\n",
    "### 5.3 추상화의 힘\n",
    "\n",
    "Control Flow와 Control Structure는 복잡한 프로그램 실행 경로를 추상화하여, 프로그래머가 논리적으로 생각하고 코드를 구조화할 수 있게 해주는 핵심 도구임"
   ]
  },
  {
   "cell_type": "markdown",
   "id": "e5f27702",
   "metadata": {},
   "source": [
    "# Random\n"
   ]
  },
  {
   "cell_type": "markdown",
   "id": "eabab716",
   "metadata": {},
   "source": [
    "이 포스트는 Python의 내장 `random` 모듈에 대한 종합 가이드\n",
    "\n",
    "## 주요 메서드 요약\n",
    "\n",
    "- **random.random()**: [0,1] 사이 실수 생성\n",
    "\n",
    "- **random.randint(a, b)**: [a,b] 범위의 정수 생성\n",
    "\n",
    "- **random.uniform(a, b)**: [a,b] 범위의 실수 생성\n",
    "\n",
    "- **random.choice(seq)**: 시퀀스에서 하나 무작위 추출\n",
    "\n",
    "- **random.sample(seq, k)**: 중복 없이 k개 추출\n",
    "\n",
    "- **random.choices(seq, k=n)**: 중복 허용하여 n개 추출\n",
    "\n",
    "- **random.shuffle(seq)**: 리스트 순서 섞기\n",
    "\n",
    "- **random.seed(n)**: 난수 결과 고정 (재현성)\n",
    "\n",
    "## 기본 사용 예시\n",
    "\n",
    "**난수 생성**\n",
    "\n",
    "- `random.random()`: 0~1 사이 실수\n",
    "\n",
    "- `random.randint(1, 10)`: 1~10 사이 정수\n",
    "\n",
    "- `random.uniform(1.0, 5.0)`: 1.0~5.0 사이 실수\n",
    "\n",
    "**리스트 무작위 추출**\n",
    "\n",
    "- `choice()`: 하나 선택\n",
    "\n",
    "- `sample()`: 중복 없이 여러 개\n",
    "\n",
    "- `choices()`: 중복 허용하여 여러 개\n",
    "\n",
    "**기타**\n",
    "\n",
    "- `shuffle()`: 리스트 순서 섞기\n",
    "\n",
    "- `seed(42)`: 동일한 난수 결과 재현\n",
    "\n",
    "## 다양한 확률분포 지원\n",
    "\n",
    "Uniform 분포 외에도 다음 분포들을 지원 :\n",
    "\n",
    "- **Normal/Gaussian**: `gauss()`, `normalvariate()`\n",
    "\n",
    "- **Exponential**: `expovariate()`\n",
    "\n",
    "- **Gamma**: `gammavariate()`\n",
    "\n",
    "- **Beta**: `betavariate()`\n",
    "\n",
    "- **Lognormal**: `lognormvariate()`\n",
    "\n",
    "- **Triangular**: `triangular()`\n",
    "\n",
    "- **Pareto**: `paretovariate()`\n",
    "\n",
    "- **Weibull**: `weibullvariate()`\n",
    "\n",
    "- **Von Mises**: `vonmisesvariate()` (원형 데이터용)\n",
    "\n",
    "## 한계점\n",
    "\n",
    "Python의 random 모듈은 **이산 확률분포**(Poisson, Binomial 등)를 지원하지 않아, 실무에서는 더 다양한 기능을 제공하는 **NumPy의 random 모듈**을 주로 사용함.\n"
   ]
  },
  {
   "cell_type": "markdown",
   "id": "cc0264ae",
   "metadata": {},
   "source": []
  }
 ],
 "metadata": {
  "kernelspec": {
   "display_name": "clt-python (3.13.7)",
   "language": "python",
   "name": "python3"
  },
  "language_info": {
   "codemirror_mode": {
    "name": "ipython",
    "version": 3
   },
   "file_extension": ".py",
   "mimetype": "text/x-python",
   "name": "python",
   "nbconvert_exporter": "python",
   "pygments_lexer": "ipython3",
   "version": "3.13.7"
  }
 },
 "nbformat": 4,
 "nbformat_minor": 5
}
