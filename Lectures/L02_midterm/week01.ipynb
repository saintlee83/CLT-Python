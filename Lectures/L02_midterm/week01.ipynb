{
 "cells": [
  {
   "cell_type": "markdown",
   "id": "9cda1d51",
   "metadata": {},
   "source": [
    "# Python Environment / Conda\n"
   ]
  },
  {
   "cell_type": "markdown",
   "id": "e08ce2b1",
   "metadata": {},
   "source": [
    "### 1. Conda란?\n",
    "\n",
    "Conda는 Python의 패키지 관리와 가상환경 관리를 통합한 시스템으로, \"pip + venv\"의 기능을 합친 것\n",
    "\n",
    "주요 특징:\n",
    "\n",
    "- 크로스 플랫폼: Windows, macOS, Linux에서 동일한 명령어 사용\n",
    "- 가상 환경 관리: 프로젝트별 독립 환경 구성으로 의존성 충돌 방지\n",
    "- 패키지 관리: 다양한 버전의 패키지 설치/업데이트/제거\n",
    "- 채널 시스템: 여러 소스에서 패키지 다운로드 가능\n",
    "\n",
    "### 2. 설치 옵션\n",
    "\n",
    "#### Anaconda\n",
    "\n",
    "1,500개 이상의 데이터 과학 패키지가 사전 설치된 대규모 배포판\n",
    "초보자나 데이터 과학자에게 권장\n",
    "\n",
    "#### Miniconda ⭐\n",
    "\n",
    "Conda + Python + 최소 필수 패키지만 포함\n",
    "디스크 공간 절약, 필요한 패키지만 선택 설치\n"
   ]
  },
  {
   "cell_type": "markdown",
   "id": "c84c916e",
   "metadata": {},
   "source": [
    "#### 3.1 환경 관리\n"
   ]
  },
  {
   "cell_type": "code",
   "execution_count": null,
   "id": "b722a8b8",
   "metadata": {
    "vscode": {
     "languageId": "shellscript"
    }
   },
   "outputs": [],
   "source": [
    "# 환경 생성\n",
    "conda create -n 환경이름 python=3.9\n",
    "\n",
    "# 환경 활성화/비활성화\n",
    "conda activate 환경이름\n",
    "conda deactivate\n",
    "\n",
    "# 환경 목록 확인\n",
    "conda env list\n",
    "\n",
    "# 환경 완전 삭제\n",
    "conda remove --name 환경이름 --all"
   ]
  },
  {
   "cell_type": "markdown",
   "id": "370dd299",
   "metadata": {},
   "source": [
    "#### 3.2 패키지 관리\n"
   ]
  },
  {
   "cell_type": "code",
   "execution_count": null,
   "id": "165addab",
   "metadata": {
    "vscode": {
     "languageId": "shellscript"
    }
   },
   "outputs": [],
   "source": [
    "# 패키지 검색\n",
    "conda search 패키지이름 --info\n",
    "\n",
    "# 패키지 설치\n",
    "conda install 패키지이름\n",
    "conda install 패키지이름==1.2.3          # 정확한 버전\n",
    "conda install \"패키지이름>=1.2.3\"       # 1.2.3 이상\n",
    "\n",
    "# 여러 패키지 동시 설치\n",
    "conda install 패키지1 패키지2\n",
    "\n",
    "# 패키지 업데이트 및 확인\n",
    "conda update 패키지이름\n",
    "conda list\n",
    "\n",
    "# 패키지 제거\n",
    "conda remove 패키지이름"
   ]
  },
  {
   "cell_type": "markdown",
   "id": "3bf99ae5",
   "metadata": {},
   "source": [
    "버전 지정 주의 사항\n",
    "\n",
    "- `>` , `<`, `>=` 등의 비교 연산자는 따옴표로 감싸야 함 (쉘의 리다이렉션 방지)\n"
   ]
  },
  {
   "cell_type": "markdown",
   "id": "39c48566",
   "metadata": {},
   "source": [
    "#### 3.3 conda 자체 관리\n"
   ]
  },
  {
   "cell_type": "code",
   "execution_count": null,
   "id": "e8ae6101",
   "metadata": {
    "vscode": {
     "languageId": "shellscript"
    }
   },
   "outputs": [],
   "source": [
    "# Conda 업데이트\n",
    "conda update conda\n",
    "\n",
    "# 모든 패키지 업데이트\n",
    "conda update --all"
   ]
  },
  {
   "cell_type": "markdown",
   "id": "557f988a",
   "metadata": {},
   "source": [
    "#### 3.4 채널 관리\n"
   ]
  },
  {
   "cell_type": "code",
   "execution_count": null,
   "id": "2faedecc",
   "metadata": {
    "vscode": {
     "languageId": "shellscript"
    }
   },
   "outputs": [],
   "source": [
    "# 채널 확인\n",
    "conda config --show channels\n",
    "\n",
    "# 채널 추가\n",
    "conda config --add channels conda-forge\n",
    "\n",
    "# 특정 채널에서 패키지 설치\n",
    "conda install -c conda-forge 패키지이름\n",
    "\n",
    "# 패키지별 채널 지정\n",
    "conda install pytorch::pytorch\n",
    "conda install conda-forge::numpy"
   ]
  },
  {
   "cell_type": "markdown",
   "id": "be914608",
   "metadata": {},
   "source": [
    "##### 3.5 환경 공유\n"
   ]
  },
  {
   "cell_type": "code",
   "execution_count": null,
   "id": "5753122d",
   "metadata": {
    "vscode": {
     "languageId": "shellscript"
    }
   },
   "outputs": [],
   "source": [
    "# 현재 환경 내보내기 (모든 패키지)\n",
    "conda env export > environment.yml\n",
    "\n",
    "# 직접 설치한 패키지만 내보내기\n",
    "conda env export --from-history > environment.yml용\n",
    "\n",
    "# 플랫폼 독립적 환경 파일 생성\n",
    "conda env export --from-history --no-builds > environment.yml\n",
    "\n",
    "# 환경 파일로 환경 생성용\n",
    "conda env create -f environment.yml\n",
    "\n",
    "# 기존 환경 업데이트\n",
    "conda env update -f environment.yml --prune"
   ]
  },
  {
   "cell_type": "markdown",
   "id": "6ead79fc",
   "metadata": {},
   "source": [
    "#### 3.6 동일 플랫폼 배포\n"
   ]
  },
  {
   "cell_type": "code",
   "execution_count": null,
   "id": "d348e3d0",
   "metadata": {
    "vscode": {
     "languageId": "shellscript"
    }
   },
   "outputs": [],
   "source": [
    "# 완전 복제용 백업\n",
    "conda list --explicit > spec-file.txt\n",
    "\n",
    "# 백업으로부터 복원\n",
    "conda create --name myenv --file spec-file.txt"
   ]
  },
  {
   "cell_type": "markdown",
   "id": "53a98732",
   "metadata": {},
   "source": [
    "#### 6. 권장 사항\n",
    "\n",
    "- 프로젝트별 독립 환경: 각 프로젝트마다 별도 환경 생성\n",
    "- 명확한 이름 규칙: 프로젝트 목적을 나타내는 환경 이름 사용\n",
    "- environment.yml 관리: Git 등 버전 관리 시스템에 포함\n",
    "- 최소 패키지 설치: 필요한 것만 설치해 환경을 가볍게 유지\n",
    "- 생성 시 패키지 지정: 시간 절약\n"
   ]
  }
 ],
 "metadata": {
  "kernelspec": {
   "display_name": "clt-python (3.13.7)",
   "language": "python",
   "name": "python3"
  },
  "language_info": {
   "codemirror_mode": {
    "name": "ipython",
    "version": 3
   },
   "file_extension": ".py",
   "mimetype": "text/x-python",
   "name": "python",
   "nbconvert_exporter": "python",
   "pygments_lexer": "ipython3",
   "version": "3.13.7"
  }
 },
 "nbformat": 4,
 "nbformat_minor": 5
}
