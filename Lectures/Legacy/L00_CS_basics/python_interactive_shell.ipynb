{
 "cells": [
  {
   "cell_type": "markdown",
   "id": "c5d5a49c",
   "metadata": {},
   "source": [
    "# Python Interactive Shell\n",
    "\n",
    "Reference URL : [[Python] Python Interactive Shell (or Python Interactive Prompt)](https://dsaint31.tistory.com/505)"
   ]
  },
  {
   "cell_type": "markdown",
   "id": "03b6da13",
   "metadata": {},
   "source": [
    "함프로그래밍을 하면서 `Python Interactive Shell`을 사용할 일을 잘 없을 것이나 간단한 설명만 하고 넘어가려고 함\n",
    "\n",
    "`python interactive shell`은 파이썬을 가잘 native하게 사용하는 방법중 하나로 한번에 하나의 Statement가 수행되는 방식으로 동작함"
   ]
  },
  {
   "cell_type": "code",
   "execution_count": null,
   "id": "0a81fbe6",
   "metadata": {},
   "outputs": [],
   "source": []
  }
 ],
 "metadata": {
  "language_info": {
   "name": "python"
  }
 },
 "nbformat": 4,
 "nbformat_minor": 5
}
