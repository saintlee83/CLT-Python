{
 "cells": [
  {
   "cell_type": "markdown",
   "id": "eed8e604",
   "metadata": {},
   "source": [
    "# Conda\n",
    "\n",
    "다양한 라이브러리와 패키지를 사용하는 프로젝트를 여럿 동시에 수행할 경우, 각각에 대해 격리된 개발 독립환경이 필요함.\n",
    "Python.org의 배포판보다 Conda를 사용하는 것이 PATH 환경변수의 프로젝트 별 관리나 네이티브 라이브러리의 분리 및 관리가 용이함.\n",
    "개발 환경의 복제 및 실행 환경의 배포도 Conda에서 훨씬 간단함.\n",
    "\n",
    "Conda 를 활용한 패키지 및 환경을 관리할 것!\n"
   ]
  },
  {
   "cell_type": "markdown",
   "id": "ccbc2361",
   "metadata": {},
   "source": [
    "# VSCode와 Jupyter NoteBook\n",
    "\n",
    "Jupyter NoteBook을 통한 개발은 ML이나 데이터 사이언스에서 연구용으로는 훨씬 효과적.\n",
    "하지만, 배포 및 실제 서비스를 위한 프로그래밍에선 module 개발이 요구되고\n",
    "이는 Jupyter NoteBook 에서의 강점은 아님.\n",
    "VSCode의 경우,\n",
    "module 개발을 위한 환경과\n",
    "Jupyter NoteBook을 이용한 개발환경을 모두 지원하며,\n",
    "git 과 터미널, 원격 개발환경 등을 추가적으로 지원.\n",
    "\n",
    "VSCode는 현재 파이썬 개발자에게 필요한 올인원 워크스페이스를 제공함.\n",
    "Conda와 결합하여 사용할 경우 그 효율성이 극대화됨.\n"
   ]
  },
  {
   "cell_type": "markdown",
   "id": "04e73dac",
   "metadata": {},
   "source": [
    "## 실습에서 명시적으로 다루는 것들 / 개별 복습할 것들\n",
    "\n",
    "Conda 설치 및 활용법.\n",
    "Terminal 기반\n",
    "VSCode 설치\n",
    "VSCode 의 Jupyter 확장 설치 및 활용법.\n",
    "VSCode 활용법 및 이를 통한 디버깅.\n",
    "\n",
    "다음은 개별로 복습할 것.\n",
    "python.org로부터 python설치. pip, venv 등.\n"
   ]
  },
  {
   "cell_type": "markdown",
   "id": "a034a9c7",
   "metadata": {},
   "source": [
    "# Conda 사용해보기.\n"
   ]
  },
  {
   "cell_type": "markdown",
   "id": "94d0cdc5",
   "metadata": {},
   "source": [
    "conda 와 miniconda에 대해서\n",
    "https://ds31x.blogspot.com/2023/07/env-conda-anaconda-and-miniconda.html?view=classic\n",
    "\n",
    "Package Manager에 대한 개념 확인.\n",
    "- [[Summary] Package Manager](https://ds31x.tistory.com/335)\n",
    "\n",
    "pip와 venv는 각자 복습해 볼 것.\n",
    "\n",
    "- [[Python] pip 사용법](https://ds31x.tistory.com/17)\n",
    "- [[Python] venv : Python Virtual Environment](https://ds31x.tistory.com/17)\n"
   ]
  },
  {
   "cell_type": "markdown",
   "id": "14e1000c",
   "metadata": {},
   "source": []
  }
 ],
 "metadata": {
  "language_info": {
   "name": "python"
  }
 },
 "nbformat": 4,
 "nbformat_minor": 5
}
